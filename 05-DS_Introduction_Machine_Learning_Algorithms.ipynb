{
 "cells": [
  {
   "cell_type": "markdown",
   "id": "e0f57556",
   "metadata": {},
   "source": [
    "# Introduction to Machine Learning Algorithms\n",
    "\n",
    "Machine learning is classified in to three major types of algorithms.\n",
    "\n",
    "* Supervise Learning\n",
    "* Unsupervised Learning\n",
    "* Reinforcement Learning"
   ]
  },
  {
   "cell_type": "code",
   "execution_count": null,
   "id": "ae839987",
   "metadata": {},
   "outputs": [],
   "source": []
  }
 ],
 "metadata": {
  "kernelspec": {
   "display_name": "Python 3 (ipykernel)",
   "language": "python",
   "name": "python3"
  },
  "language_info": {
   "codemirror_mode": {
    "name": "ipython",
    "version": 3
   },
   "file_extension": ".py",
   "mimetype": "text/x-python",
   "name": "python",
   "nbconvert_exporter": "python",
   "pygments_lexer": "ipython3",
   "version": "3.8.12"
  }
 },
 "nbformat": 4,
 "nbformat_minor": 5
}
