{
 "cells": [
  {
   "cell_type": "markdown",
   "id": "e78397af",
   "metadata": {},
   "source": [
    "# Introduction to Machine Learning Algorithms\n",
    "\n",
    "Machine learning is classified in to three major types of algorithms:\n",
    "\n",
    "* Supervise Learning\n",
    "* Unsupervised Learning\n",
    "* Reinforcement Learning"
   ]
  },
  {
   "cell_type": "markdown",
   "id": "f1ff32b8",
   "metadata": {},
   "source": [
    "1) Supervised Learning\n",
    "1.1) Regression\n",
    "* Linear regression\n",
    "* \n",
    "1.2) Classification\n"
   ]
  },
  {
   "cell_type": "markdown",
   "id": "de88c5df",
   "metadata": {},
   "source": [
    "2) Unsupervised Learning\n",
    "2.1) Clustering\n",
    "2.2) Association Analysis\n",
    "2.3) Dimensionality Reduction"
   ]
  },
  {
   "cell_type": "markdown",
   "id": "8c2e28cf",
   "metadata": {},
   "source": [
    "3) Reinforcement Learning"
   ]
  }
 ],
 "metadata": {
  "kernelspec": {
   "display_name": "Python 3 (ipykernel)",
   "language": "python",
   "name": "python3"
  },
  "language_info": {
   "codemirror_mode": {
    "name": "ipython",
    "version": 3
   },
   "file_extension": ".py",
   "mimetype": "text/x-python",
   "name": "python",
   "nbconvert_exporter": "python",
   "pygments_lexer": "ipython3",
   "version": "3.8.12"
  }
 },
 "nbformat": 4,
 "nbformat_minor": 5
}
