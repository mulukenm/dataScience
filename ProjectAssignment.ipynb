{
 "cells": [
  {
   "cell_type": "markdown",
   "metadata": {
    "collapsed": true
   },
   "source": [
    "# My Jupyter Notebook on IBM Watson Studio"
   ]
  },
  {
   "cell_type": "markdown",
   "metadata": {},
   "source": [
    "**Muluken Muche**  \n",
    "Data Scientist"
   ]
  },
  {
   "cell_type": "markdown",
   "metadata": {},
   "source": [
    "*I am interested in data science because it is crucial to understand patterns and trends of data, visualize data, interprete results,  and find solutions to problems.\n",
    "I work with lots of data that need to be analysed so that appropriate strategies and policies can be designed and implemented.* "
   ]
  },
  {
   "cell_type": "markdown",
   "metadata": {},
   "source": [
    " ### The following code sums numbers ranging from one to ten"
   ]
  },
  {
   "cell_type": "code",
   "execution_count": 1,
   "metadata": {},
   "outputs": [
    {
     "name": "stdout",
     "output_type": "stream",
     "text": [
      "The sum is: 55\n"
     ]
    }
   ],
   "source": [
    "a_sum = 0\n",
    "for num in range(1,11):\n",
    "    a_sum = a_sum + num\n",
    "print(\"The sum is: \" + str(a_sum))"
   ]
  },
  {
   "cell_type": "markdown",
   "metadata": {},
   "source": [
    "#### Bulleted list of examples of methods to visualize data\n",
    "* Bar chart\n",
    "* Histogram\n",
    "* Scatter plot\n",
    "* Heat map\n",
    "* Box-and-whisker Plots\n",
    "\n",
    "#### Numbered list of examples of methods to visualize data\n",
    "1. Bar chart\n",
    "2. Histogram\n",
    "3. Scatter plot\n",
    "4. Heat map\n",
    "5. Box-and-whisker Plots\n",
    "\n",
    "#### Table: data science tools  \n",
    "|       |Tools       |\n",
    "| ------|------------| \n",
    "| 1     | Python     | \n",
    "| 2     | R          |   \n",
    "| 3     | Scala      | \n",
    "| 3     | SQL        |  \n",
    "\n",
    "#### Image: Coursera-IBM Logo\n",
    "![alt text](https://raw.githubusercontent.com/mulukenm/dataScience/master/images/CourseraIBMlogo.png \"Logo\")\n"
   ]
  },
  {
   "cell_type": "code",
   "execution_count": null,
   "metadata": {},
   "outputs": [],
   "source": []
  }
 ],
 "metadata": {
  "hide_input": false,
  "kernelspec": {
   "display_name": "Python 3",
   "language": "python",
   "name": "python3"
  },
  "language_info": {
   "codemirror_mode": {
    "name": "ipython",
    "version": 3
   },
   "file_extension": ".py",
   "mimetype": "text/x-python",
   "name": "python",
   "nbconvert_exporter": "python",
   "pygments_lexer": "ipython3",
   "version": "3.7.7"
  },
  "latex_envs": {
   "LaTeX_envs_menu_present": true,
   "autoclose": false,
   "autocomplete": true,
   "bibliofile": "biblio.bib",
   "cite_by": "apalike",
   "current_citInitial": 1,
   "eqLabelWithNumbers": true,
   "eqNumInitial": 1,
   "hotkeys": {
    "equation": "Ctrl-E",
    "itemize": "Ctrl-I"
   },
   "labels_anchors": false,
   "latex_user_defs": false,
   "report_style_numbering": false,
   "user_envs_cfg": false
  }
 },
 "nbformat": 4,
 "nbformat_minor": 1
}
