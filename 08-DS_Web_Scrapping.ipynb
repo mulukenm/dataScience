{
 "cells": [
  {
   "cell_type": "markdown",
   "id": "de55dd04",
   "metadata": {},
   "source": [
    "# Web Scrapping\n",
    "\n",
    "Web scrapping is used to extract data from publicly available websites in automated fashion. The method is useful when the public website you want to get data from does not have an API, or it does but provides only limited access to the data. urllib and requests are Python modules used for web requests in web scraping."
   ]
  },
  {
   "cell_type": "markdown",
   "id": "f85184b1",
   "metadata": {},
   "source": [
    "* Urllib package is the URL handling module for python. It is used to fetch URLs (Uniform Resource Locators).\n",
    "* Beautiful Soup is a library that makes it easy to scrape information from web pages. "
   ]
  },
  {
   "cell_type": "code",
   "execution_count": 1,
   "id": "0207ca68",
   "metadata": {},
   "outputs": [],
   "source": [
    "from bs4 import BeautifulSoup # this module helps in web scrapping.\n",
    "import requests  # this module helps us to download a web page\n",
    "\n",
    "from urllib.request import urlopen  #provides APIs to establish a non-streaming connection with target servers\n",
    "from urllib.error import HTTPError\n",
    "from urllib.error import URLError"
   ]
  },
  {
   "cell_type": "code",
   "execution_count": 2,
   "id": "da257391",
   "metadata": {},
   "outputs": [
    {
     "name": "stdout",
     "output_type": "stream",
     "text": [
      "<h1>National Center for Science and Engineering Statistics</h1>\n",
      "<h2>Who We Are</h2>\n",
      "<h3 class=\"card-title\" data-property=\"title\"><p style=\"font-style:italic\">\n",
      "Principles and Practices for a Federal Statistical Agency</p></h3>\n",
      "[<h1>National Center for Science and Engineering Statistics</h1>, <h1>About NCSES</h1>, <h2>Who We Are</h2>, <h2 class=\"blue\">Our Mission</h2>, <h2 class=\"blue\">Our Core Activities</h2>, <h2 class=\"blue\">Our Products</h2>, <h2 class=\"blue\">How We Support Research</h2>]\n",
      "[<h1>National Center for Science and Engineering Statistics</h1>, <h1>About NCSES</h1>, <h2>Who We Are</h2>, <h2 class=\"blue\">Our Mission</h2>, <h3 class=\"card-title\" data-property=\"title\"><p style=\"font-style:italic\">\n",
      "Principles and Practices for a Federal Statistical Agency</p></h3>, <h2 class=\"blue\">Our Core Activities</h2>, <h2 class=\"blue\">Our Products</h2>, <h2 class=\"blue\">How We Support Research</h2>, <h3 class=\"card-title\" data-property=\"title\">Research</h3>, <h3 class=\"card-title\" data-property=\"title\"><div>Funding Opportunities</div></h3>, <h3 class=\"card-title\" data-property=\"title\">NCSES Restricted Use Data Licensing</h3>, <h3>Get e-mail updates from NCSES</h3>, <h4>Our Data &amp; Analysis</h4>, <h4>About</h4>, <h4>Help</h4>]\n"
     ]
    }
   ],
   "source": [
    "html = urlopen('https://www.ncses.nsf.gov/about')\n",
    "bs = BeautifulSoup(html.read(), 'html.parser')\n",
    "print(bs.h1)\n",
    "print(bs.h2)\n",
    "print(bs.h3)\n",
    "print(bs.find_all([\"h1\", \"h2\"]));\n",
    "print(bs.find_all([\"h1\", \"h2\", \"h3\", \"h4\", \"h5\", \"h6\"]));"
   ]
  },
  {
   "cell_type": "code",
   "execution_count": null,
   "id": "6b71213b",
   "metadata": {},
   "outputs": [],
   "source": [
    "try:\n",
    "    html = urlopen(\"https://www.ncses.nsf.gov/about\")\n",
    "except HTTPError as e:\n",
    "    print(\"The server returned an HTTP error\")\n",
    "except URLError as e:\n",
    "    print(\"The server could not be found!\")\n",
    "else:\n",
    "    print(html.read())"
   ]
  },
  {
   "cell_type": "code",
   "execution_count": null,
   "id": "c17f41b9",
   "metadata": {},
   "outputs": [],
   "source": [
    "print(bs.prettify())"
   ]
  },
  {
   "cell_type": "code",
   "execution_count": null,
   "id": "bb5e1cc8",
   "metadata": {},
   "outputs": [],
   "source": [
    "tag_object=bs.title\n",
    "print(\"tag object:\",tag_object)"
   ]
  },
  {
   "cell_type": "code",
   "execution_count": null,
   "id": "454cd824",
   "metadata": {},
   "outputs": [],
   "source": [
    "print(\"tag object type:\",type(tag_object))"
   ]
  },
  {
   "cell_type": "code",
   "execution_count": null,
   "id": "ca037a01",
   "metadata": {},
   "outputs": [],
   "source": [
    "resp = requests.get('https://www.ncses.nsf.gov/about')\n",
    "print(resp.content)"
   ]
  },
  {
   "cell_type": "code",
   "execution_count": null,
   "id": "06d317fc",
   "metadata": {},
   "outputs": [],
   "source": [
    "html = urlopen('http://www.pythonscraping.com/pages/warandpeace.html')\n",
    "bs2 = BeautifulSoup(html, \"html.parser\")"
   ]
  },
  {
   "cell_type": "code",
   "execution_count": null,
   "id": "9dad5883",
   "metadata": {},
   "outputs": [],
   "source": [
    "nameList = bs2.findAll('span', {'class': 'green'})\n",
    "for name in nameList:\n",
    "    print(name.get_text())"
   ]
  },
  {
   "cell_type": "code",
   "execution_count": null,
   "id": "cea2b685",
   "metadata": {},
   "outputs": [],
   "source": [
    "import socket\n",
    "\n",
    "HOST = 'www.google.com'  # Server hostname or IP address\n",
    "PORT = 80                # The standard port for HTTP is 80, for HTTPS it is 443\n",
    "\n",
    "client_socket = socket.socket(socket.AF_INET, socket.SOCK_STREAM)\n",
    "server_address = (HOST, PORT)\n",
    "client_socket.connect(server_address)\n",
    "\n",
    "request_header = b'GET / HTTP/1.0\\r\\nHost: www.google.com\\r\\n\\r\\n'\n",
    "client_socket.sendall(request_header)\n",
    "\n",
    "response = ''\n",
    "while True:\n",
    "    recv = client_socket.recv(1024)\n",
    "    if not recv:\n",
    "        break\n",
    "    response += str(recv)\n",
    "\n",
    "print(response)\n",
    "client_socket.close()\n"
   ]
  },
  {
   "cell_type": "code",
   "execution_count": null,
   "id": "13a302a1",
   "metadata": {},
   "outputs": [],
   "source": [
    "import re\n",
    "\n",
    "html_content = '<p>Price : 19.99$</p>'\n",
    "\n",
    "m = re.match('<p>(.+)<\\/p>', html_content)\n",
    "if m:\n",
    "    print(m.group(1))"
   ]
  },
  {
   "cell_type": "code",
   "execution_count": null,
   "id": "a707d022",
   "metadata": {},
   "outputs": [],
   "source": [
    "import urllib3\n",
    "http = urllib3.PoolManager()\n",
    "r = http.request('GET', 'http://www.google.com')\n",
    "print(r.data)\n"
   ]
  },
  {
   "cell_type": "code",
   "execution_count": null,
   "id": "4bf45ae1",
   "metadata": {},
   "outputs": [],
   "source": [
    "from lxml import html\n",
    "\n",
    "# We reuse the response from urllib3\n",
    "data_string = r.data.decode('utf-8', errors='ignore')\n",
    "\n",
    "# We instantiate a tree object from the HTML\n",
    "tree = html.fromstring(data_string)\n",
    "\n",
    "# We run the XPath against this HTML\n",
    "# This returns an array of element\n",
    "links = tree.xpath('//a')\n",
    "\n",
    "for link in links:\n",
    "    # For each element we can easily get back the URL\n",
    "    print(link.get('href'))"
   ]
  },
  {
   "cell_type": "code",
   "execution_count": null,
   "id": "a9d237c9",
   "metadata": {},
   "outputs": [],
   "source": []
  },
  {
   "cell_type": "code",
   "execution_count": null,
   "id": "86fa6141",
   "metadata": {},
   "outputs": [],
   "source": []
  },
  {
   "cell_type": "code",
   "execution_count": null,
   "id": "16969a66",
   "metadata": {},
   "outputs": [],
   "source": []
  }
 ],
 "metadata": {
  "kernelspec": {
   "display_name": "Python 3 (ipykernel)",
   "language": "python",
   "name": "python3"
  },
  "language_info": {
   "codemirror_mode": {
    "name": "ipython",
    "version": 3
   },
   "file_extension": ".py",
   "mimetype": "text/x-python",
   "name": "python",
   "nbconvert_exporter": "python",
   "pygments_lexer": "ipython3",
   "version": "3.8.13"
  }
 },
 "nbformat": 4,
 "nbformat_minor": 5
}
