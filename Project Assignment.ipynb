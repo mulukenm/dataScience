{
    "cells": [
        {
            "cell_type": "markdown",
            "metadata": {
                "collapsed": true
            },
            "source": "# My Jupyter Notebook on IBM Watson Studio"
        },
        {
            "cell_type": "markdown",
            "metadata": {},
            "source": "**Muluken Muche**  \nData Scientist"
        },
        {
            "cell_type": "markdown",
            "metadata": {},
            "source": "*I am interested in data science because it is crucial to understand patterns and trends of data, visualize data, interprete results,  and find solutions to problems.\nI work with lots of data that need to be analysed so that appropriate strategies and policies can be designed and implemented.* "
        },
        {
            "cell_type": "markdown",
            "metadata": {},
            "source": " ### The following code sums numbers ranging from one to ten"
        },
        {
            "cell_type": "code",
            "execution_count": 1,
            "metadata": {},
            "outputs": [
                {
                    "name": "stdout",
                    "output_type": "stream",
                    "text": "The sum is: 55\n"
                }
            ],
            "source": "a_sum = 0\nfor num in range(1,11):\n    a_sum = a_sum + num\nprint(\"The sum is: \" + str(a_sum))"
        },
        {
            "cell_type": "markdown",
            "metadata": {},
            "source": "#### Bulleted list of examples of methods to visualize data\n* Bar chart\n* Histogram\n* Scatter plot\n* Heat map\n* Box-and-whisker Plots\n\n#### Numbered list of examples of methods to visualize data\n1. Bar chart\n2. Histogram\n3. Scatter plot\n4. Heat map\n5. Box-and-whisker Plots\n\n#### Table: data science tools  \n|       |Tools       |\n| ------|------------| \n| 1     | Python     | \n| 2     | R          |   \n| 3     | Scala      | \n| 3     | SQL        |  \n\n#### Image: Coursera-IBM Logo\n![alt text](https://raw.githubusercontent.com/mulukenm/dataScience/master/images/CourseraIBMlogo.png \"Logo\")\n"
        },
        {
            "cell_type": "code",
            "execution_count": null,
            "metadata": {},
            "outputs": [],
            "source": ""
        }
    ],
    "metadata": {
        "kernelspec": {
            "display_name": "Python 3.6",
            "language": "python",
            "name": "python3"
        },
        "language_info": {
            "codemirror_mode": {
                "name": "ipython",
                "version": 3
            },
            "file_extension": ".py",
            "mimetype": "text/x-python",
            "name": "python",
            "nbconvert_exporter": "python",
            "pygments_lexer": "ipython3",
            "version": "3.6.9"
        }
    },
    "nbformat": 4,
    "nbformat_minor": 1
}