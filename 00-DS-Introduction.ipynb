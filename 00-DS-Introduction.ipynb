{
 "cells": [
  {
   "cell_type": "markdown",
   "metadata": {},
   "source": [
    "# Data Science Introduction\n",
    "\n",
    "This notebook is an introduction to data science with Python. The introduction focuses on help and documentation, and data structure in Python. \n",
    "\n",
    "###  What is Data Science?\n",
    "Data science is the practice of using data to try to understand and solve real-world problems. Data science requires programming and databases related skills, math and statistics knowledge, and problem solving ability such as business understanding or substantive expertise in a domain of analysis at hand.\n",
    "\n",
    "Generally, the following a roadmap to be data scientist (Source: [Data Camp](https://www.datacamp.com/community/tutorials/how-to-become-a-data-scientist)):\n",
    "1. Get good at stats, math, and machine learning: \n",
    "   * Math especially linear algebra and calculus\n",
    "   * Probability and statistics such as p-value, t-test, F-test, estimates, central tendency....etc \n",
    "   * Machine learning algorithms -- how they are organized\n",
    "2. Learn to code: Python, R ...\n",
    "3. Understand databases: SQL, ORACLE, MySQL ....\n",
    "4. Master data munging, visualization, and reporting\n",
    "5. Level up with big data: Apache Spark, Map reduce, Hadoop ....\n",
    "6. Get experience, PRACTICE, ......\n",
    "7. Internship, bootcamp, or get a job\n",
    "8. Follow and engage with the community\n",
    "\n",
    "Note: \n",
    "### This is fun!!!\n",
    "\n",
    "## Tools \n",
    "[Anaconda](https://www.anaconda.com/) is a data science and machine learning applications toolkit. It includes both Python and conda, and additionally bundles a suite of other pre-installed packages geared toward scientific computing."
   ]
  },
  {
   "cell_type": "code",
   "execution_count": 23,
   "metadata": {},
   "outputs": [
    {
     "name": "stdout",
     "output_type": "stream",
     "text": [
      "The Python version is:  3.8.5\n"
     ]
    }
   ],
   "source": [
    "# Checking version of Python  (-- installed)\n",
    "from platform import python_version \n",
    "print(\"The Python version is: \", python_version())"
   ]
  },
  {
   "cell_type": "markdown",
   "metadata": {},
   "source": [
    "##  Help and Documentation in IPython"
   ]
  },
  {
   "cell_type": "code",
   "execution_count": 24,
   "metadata": {},
   "outputs": [
    {
     "name": "stdout",
     "output_type": "stream",
     "text": [
      "Help on built-in function len in module builtins:\n",
      "\n",
      "len(obj, /)\n",
      "    Return the number of items in a container.\n",
      "\n"
     ]
    }
   ],
   "source": [
    "# Using built-in 'help()' function ----- with access information  and print it\n",
    "help(len)"
   ]
  },
  {
   "cell_type": "code",
   "execution_count": 25,
   "metadata": {},
   "outputs": [],
   "source": [
    "# Accessing documentation using '?' ----to explore documentation and other relevant information\n",
    "# It can be used to explore any thing: built-in functions, methods, objects .....\n",
    "len?"
   ]
  },
  {
   "cell_type": "code",
   "execution_count": 26,
   "metadata": {},
   "outputs": [],
   "source": [
    "# List example\n",
    "L = [7, 9, 11]\n",
    "L?"
   ]
  },
  {
   "cell_type": "code",
   "execution_count": 27,
   "metadata": {},
   "outputs": [],
   "source": [
    "L.insert?"
   ]
  },
  {
   "cell_type": "code",
   "execution_count": 28,
   "metadata": {},
   "outputs": [],
   "source": [
    "# Example function --- to look a source code\n",
    "def square(a):\n",
    "    \"\"\"Return the square of a.\"\"\"\n",
    "    return a ** 2"
   ]
  },
  {
   "cell_type": "code",
   "execution_count": 29,
   "metadata": {},
   "outputs": [],
   "source": [
    "# Accessing documentation\n",
    "square?"
   ]
  },
  {
   "cell_type": "code",
   "execution_count": 30,
   "metadata": {},
   "outputs": [],
   "source": [
    "#  Accessing source code using '??' --- it provides the info you get with '?' plus the \n",
    "# source code if it is implemented in Python; if not the same info as '?' \n",
    "square??"
   ]
  },
  {
   "cell_type": "markdown",
   "metadata": {},
   "source": [
    "## Exploring Data Structure \n",
    "Data structures are the fundamental constructs that used to store, manage, organize, search and manipulate data in an efficient way depending on your need. \n",
    "\n",
    "Categories of Python data structures:\n",
    "\n",
    "* Dictionaries, Maps,and Hash Tables\n",
    "* Array Data Structures: list, tuple, array.array, string, bytes, bytearray\n",
    "* Sets and multisets\n",
    "* Stacks\n",
    "* Queues\n",
    "\n",
    "### Data Types\n",
    "* Numeric types: int, float, complex\n",
    "* Iterator types: generator\n",
    "* Sequence types: lists, tuple, range\n",
    "* Text sequence types: Strings -- str\n",
    "* Binary sequence types: bytes, bytearray, memoryview  \n",
    "* Set types: set \n",
    "* Mapping types: dictionary --dict "
   ]
  },
  {
   "cell_type": "code",
   "execution_count": null,
   "metadata": {},
   "outputs": [],
   "source": []
  },
  {
   "cell_type": "code",
   "execution_count": null,
   "metadata": {},
   "outputs": [],
   "source": []
  }
 ],
 "metadata": {
  "hide_input": false,
  "kernelspec": {
   "display_name": "Python 3",
   "language": "python",
   "name": "python3"
  },
  "language_info": {
   "codemirror_mode": {
    "name": "ipython",
    "version": 3
   },
   "file_extension": ".py",
   "mimetype": "text/x-python",
   "name": "python",
   "nbconvert_exporter": "python",
   "pygments_lexer": "ipython3",
   "version": "3.8.5"
  },
  "latex_envs": {
   "LaTeX_envs_menu_present": true,
   "autoclose": false,
   "autocomplete": true,
   "bibliofile": "biblio.bib",
   "cite_by": "apalike",
   "current_citInitial": 1,
   "eqLabelWithNumbers": true,
   "eqNumInitial": 1,
   "hotkeys": {
    "equation": "Ctrl-E",
    "itemize": "Ctrl-I"
   },
   "labels_anchors": false,
   "latex_user_defs": false,
   "report_style_numbering": false,
   "user_envs_cfg": false
  }
 },
 "nbformat": 4,
 "nbformat_minor": 4
}
