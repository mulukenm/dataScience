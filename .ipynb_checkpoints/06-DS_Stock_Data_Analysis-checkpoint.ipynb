{
 "cells": [
  {
   "cell_type": "markdown",
   "id": "07cf147f",
   "metadata": {},
   "source": [
    "# Stock Data\n",
    "A stock is a general term used to describe the ownership certificates of any company. A share, on the other hand, refers to the stock certificate of a particular company. Holding a particular company's share makes you a shareholder. [https://economictimes.indiatimes.com/definition/stocks]"
   ]
  },
  {
   "cell_type": "code",
   "execution_count": 1,
   "id": "2cf61c14",
   "metadata": {},
   "outputs": [],
   "source": [
    "import yfinance as yf\n",
    "import pandas as pd"
   ]
  },
  {
   "cell_type": "code",
   "execution_count": 2,
   "id": "e58c54fc",
   "metadata": {},
   "outputs": [],
   "source": [
    "# Devon Energy Corp\n",
    "Devon= yf.Ticker(\"DVN\")"
   ]
  },
  {
   "cell_type": "code",
   "execution_count": 3,
   "id": "68a71ae0",
   "metadata": {},
   "outputs": [
    {
     "ename": "NameError",
     "evalue": "name 'twitter' is not defined",
     "output_type": "error",
     "traceback": [
      "\u001b[1;31m---------------------------------------------------------------------------\u001b[0m",
      "\u001b[1;31mNameError\u001b[0m                                 Traceback (most recent call last)",
      "\u001b[1;32m~\\AppData\\Local\\Temp/ipykernel_2456/2382056448.py\u001b[0m in \u001b[0;36m<module>\u001b[1;34m\u001b[0m\n\u001b[1;32m----> 1\u001b[1;33m \u001b[0mDevon_info\u001b[0m \u001b[1;33m=\u001b[0m \u001b[0mtwitter\u001b[0m\u001b[1;33m.\u001b[0m\u001b[0minfo\u001b[0m\u001b[1;33m\u001b[0m\u001b[1;33m\u001b[0m\u001b[0m\n\u001b[0m\u001b[0;32m      2\u001b[0m \u001b[0mDevon_info\u001b[0m\u001b[1;33m\u001b[0m\u001b[1;33m\u001b[0m\u001b[0m\n",
      "\u001b[1;31mNameError\u001b[0m: name 'twitter' is not defined"
     ]
    }
   ],
   "source": [
    "Devon_info = twitter.info\n",
    "Devon_info"
   ]
  },
  {
   "cell_type": "code",
   "execution_count": null,
   "id": "670f975b",
   "metadata": {},
   "outputs": [],
   "source": [
    "Devon_info['country']"
   ]
  },
  {
   "cell_type": "code",
   "execution_count": null,
   "id": "1643bb23",
   "metadata": {},
   "outputs": [],
   "source": [
    "Devon_share_price_data = twitter.history(period=\"max\")"
   ]
  },
  {
   "cell_type": "code",
   "execution_count": null,
   "id": "7c58ba9e",
   "metadata": {},
   "outputs": [],
   "source": [
    "Devon_share_price_data.head()"
   ]
  },
  {
   "cell_type": "code",
   "execution_count": null,
   "id": "da4852c7",
   "metadata": {},
   "outputs": [],
   "source": [
    "Devon_share_price_data.reset_index(inplace=True)"
   ]
  },
  {
   "cell_type": "code",
   "execution_count": null,
   "id": "a1397dd3",
   "metadata": {},
   "outputs": [],
   "source": [
    "Devon_share_price_data.plot(x=\"Date\", y=\"Open\")"
   ]
  },
  {
   "cell_type": "code",
   "execution_count": null,
   "id": "78bd8120",
   "metadata": {},
   "outputs": [],
   "source": [
    "Devon.dividends"
   ]
  },
  {
   "cell_type": "code",
   "execution_count": null,
   "id": "d0645057",
   "metadata": {},
   "outputs": [],
   "source": [
    "Devon.dividends.plot()"
   ]
  },
  {
   "cell_type": "code",
   "execution_count": null,
   "id": "c3bc4936",
   "metadata": {},
   "outputs": [],
   "source": []
  },
  {
   "cell_type": "code",
   "execution_count": null,
   "id": "15300d62",
   "metadata": {},
   "outputs": [],
   "source": []
  }
 ],
 "metadata": {
  "kernelspec": {
   "display_name": "Python 3 (ipykernel)",
   "language": "python",
   "name": "python3"
  },
  "language_info": {
   "codemirror_mode": {
    "name": "ipython",
    "version": 3
   },
   "file_extension": ".py",
   "mimetype": "text/x-python",
   "name": "python",
   "nbconvert_exporter": "python",
   "pygments_lexer": "ipython3",
   "version": "3.8.12"
  }
 },
 "nbformat": 4,
 "nbformat_minor": 5
}
