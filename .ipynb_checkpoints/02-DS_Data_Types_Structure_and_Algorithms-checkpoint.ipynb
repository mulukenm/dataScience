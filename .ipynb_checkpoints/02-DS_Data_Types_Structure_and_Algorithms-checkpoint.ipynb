{
 "cells": [
  {
   "cell_type": "markdown",
   "metadata": {},
   "source": [
    "# Data Types, Structure, and Algorithms\n"
   ]
  },
  {
   "cell_type": "markdown",
   "metadata": {},
   "source": [
    "## Data Types\n",
    "\n",
    "* Numeric types: int, float, complex\n",
    "* Iterator types: generator -- can be iterators of any data type such as string, list, tuple...\n",
    "* Sequence types: lists, tuple, array\n",
    "* Text sequence types: Strings \n",
    "* Binary sequence types: bytes, bytearray, memoryview  \n",
    "* Set types: set \n",
    "* Mapping types: dictionary "
   ]
  },
  {
   "cell_type": "code",
   "execution_count": 1,
   "metadata": {},
   "outputs": [
    {
     "name": "stdout",
     "output_type": "stream",
     "text": [
      "The data type of a <class 'int'>\n",
      "The data type of b <class 'float'>\n",
      "The data type of c <class 'complex'>\n",
      "The data type of d <class 'str'>\n",
      "The data type of e <class 'list'>\n",
      "The data type of f <class 'tuple'>\n",
      "The data type of g <class 'set'>\n",
      "The data type of h <class 'dict'>\n"
     ]
    }
   ],
   "source": [
    "# Some example data types\n",
    "a = 2\n",
    "print(\"The data type of a\", type(a))\n",
    "b = 2.0\n",
    "print(\"The data type of b\", type(b))\n",
    "c = 3+5j\n",
    "print(\"The data type of c\", type(c))\n",
    "d = \"Hello\"\n",
    "print(\"The data type of d\", type(d))\n",
    "e = [2.0, 5, \"Hello\"]\n",
    "print(\"The data type of e\", type(e))\n",
    "f = (2.0, 5, \"Hello\")\n",
    "print(\"The data type of f\", type(f))\n",
    "g ={'a',  5, 'b', 10}\n",
    "print(\"The data type of g\", type(g))\n",
    "h ={'a': 5, 'b': 10}\n",
    "print(\"The data type of h\", type(h))"
   ]
  },
  {
   "cell_type": "code",
   "execution_count": 2,
   "metadata": {},
   "outputs": [
    {
     "name": "stdout",
     "output_type": "stream",
     "text": [
      "\n",
      "Tuple Iteration\n",
      "geeks\n",
      "for\n",
      "geeks\n"
     ]
    }
   ],
   "source": [
    "# Iterating over a tuple (immutable --- can't be changed)\n",
    "# While tuples are immutable, lists are mutable\n",
    "\n",
    "print(\"\\nTuple Iteration\")\n",
    "t = (\"geeks\", \"for\", \"geeks\")\n",
    "for i in t:\n",
    "    print(i)"
   ]
  },
  {
   "cell_type": "code",
   "execution_count": 3,
   "metadata": {},
   "outputs": [
    {
     "name": "stdout",
     "output_type": "stream",
     "text": [
      "The data type of c <class 'str'>\n"
     ]
    }
   ],
   "source": [
    "print(\"The data type of c\", type(i))"
   ]
  },
  {
   "cell_type": "markdown",
   "metadata": {},
   "source": [
    "## Data Structure\n",
    "\n",
    "Data structures are the fundamental constructs around which you build your programs. Each data structure provides a particular way of storing, managing, organizing, and searching data in a computer so it can be accessed efficiently, depending on your use case. For instance pandas has its own data structure for one-dimensional (Series) and two-dimensional (DataFrame) data. \n",
    "Generally, data structure are mainly classified into two types: \n",
    "* Linear data structure: linked lists, stacks ...\n",
    "* Non-linear data structure: trees, graphs ..."
   ]
  },
  {
   "cell_type": "markdown",
   "metadata": {},
   "source": [
    "### List \n",
    "\n",
    "A list is the main data structure that used to store a mutable sequence of elements. There are several methods of list such as append, extend, insert, remove, pop, clear, index, count, sort, reverse and copy. The following code provides all possible methods of list. Just list = dot (.) + Tab button. "
   ]
  },
  {
   "cell_type": "code",
   "execution_count": 4,
   "metadata": {},
   "outputs": [],
   "source": [
    "list = [3, 5, 2, 5, 6, 4, 7]\n",
    "#list.<TAB>"
   ]
  },
  {
   "cell_type": "markdown",
   "metadata": {},
   "source": [
    "Using Lists as Stacks\n",
    "Using Lists as Queues\n",
    "List Comprehensions\n",
    "Nested List Comprehensions"
   ]
  },
  {
   "cell_type": "markdown",
   "metadata": {},
   "source": [
    "## Algorithm Analysis\n",
    "In short, Algorithm is a set of steps for a computer program to accomplish a task. It can also defined as;  algorithm is a generic, step-by-step list of instructions for solving a problem. It is a method for solving any instance of the problem such that given a particular input, the algorithm produces the desired result.There may be many programs for the same algorithm, depending on the programmer and the programming language being used. There are multiple ways to solve a problem using a computer program. Can we say one algorithm is better than the other? Algorithms can be compared based upon the amount of computing resources each algorithm uses. \n",
    "\n",
    "Algorithm analysis assesses the complexity of different algorithms and finding the most efficient one to solve a certain problem. Big-O notation is a statistical measure used to describe the complexity of algorithms. Time complexity is the computational complexity that describes the amount of time it takes to run an algorithm. Big-O notation is a method for determining how fast an algorithm is."
   ]
  },
  {
   "cell_type": "code",
   "execution_count": 5,
   "metadata": {},
   "outputs": [
    {
     "name": "stdout",
     "output_type": "stream",
     "text": [
      "10.7 ns ± 0.186 ns per loop (mean ± std. dev. of 7 runs, 100,000,000 loops each)\n"
     ]
    }
   ],
   "source": [
    "%timeit '[print(x) for x in range(100)]'"
   ]
  },
  {
   "cell_type": "code",
   "execution_count": null,
   "metadata": {},
   "outputs": [],
   "source": [
    "%timeit '[print(x) for x in range(10)]'"
   ]
  },
  {
   "cell_type": "markdown",
   "metadata": {},
   "source": [
    "The following two example shows the amount of time each program takes to do similar tasks which is summing a range of 100 million values. We can see that the second example uses much less computing resource. The first example takes an average of ~ 7.4 seconds, whereas the second example takes nearly zero seconds."
   ]
  },
  {
   "cell_type": "code",
   "execution_count": null,
   "metadata": {},
   "outputs": [],
   "source": [
    "# Example 1 -a\n",
    "import time\n",
    "def sum_of_n_1(n):\n",
    "        start = time.time()\n",
    "\n",
    "        the_sum1 = 0\n",
    "        for i in range(1, n + 1):\n",
    "            the_sum1 = the_sum1 + i\n",
    "\n",
    "        end = time.time()\n",
    "\n",
    "        return the_sum1, end - start\n",
    "for i in range(5):\n",
    "    print(\"Sum is %d required %10.7f seconds\" % sum_of_n_1(100000000))"
   ]
  },
  {
   "cell_type": "code",
   "execution_count": null,
   "metadata": {},
   "outputs": [],
   "source": [
    "# Example 1 -b \n",
    "def sum_of_n_2(n):\n",
    "    start = time.time()\n",
    "    \n",
    "\n",
    "    the_sum2 = (n * (n + 1)) / 2\n",
    "\n",
    "    end = time.time()\n",
    "    \n",
    "    return the_sum2, end - start\n",
    "for i in range(5):\n",
    "    print(\"Sum is %d required %10.7f seconds\" % sum_of_n_2(100000000))   "
   ]
  },
  {
   "cell_type": "code",
   "execution_count": null,
   "metadata": {},
   "outputs": [],
   "source": [
    "# Another Example: calculates the factorial of a number entered by the user\n",
    "# Example 2-a\n",
    "def fact(n):\n",
    "    product = 1\n",
    "    for i in range(n):\n",
    "        product = product * (i+1)\n",
    "    return product\n",
    "\n",
    "print (fact(70))\n",
    "%timeit fact(70)"
   ]
  },
  {
   "cell_type": "code",
   "execution_count": null,
   "metadata": {},
   "outputs": [],
   "source": [
    "# Example 2-b\n",
    "def fact2(n):\n",
    "    if n == 0:\n",
    "        return 1\n",
    "    else:\n",
    "        return n * fact2(n-1)\n",
    "\n",
    "print (fact2(70))\n",
    "%timeit fact2(70)"
   ]
  },
  {
   "cell_type": "code",
   "execution_count": null,
   "metadata": {},
   "outputs": [],
   "source": [
    "!pip install folium"
   ]
  },
  {
   "cell_type": "code",
   "execution_count": null,
   "metadata": {},
   "outputs": [],
   "source": [
    "import numpy as np # library to handle data in a vectorized manner\n",
    "\n",
    "import pandas as pd # library for data analsysis\n",
    "pd.set_option('display.max_columns', None)\n",
    "pd.set_option('display.max_rows', None)\n",
    "\n",
    "import json # library to handle JSON files\n",
    "\n",
    "from geopy.geocoders import Nominatim # library to convert an address into latitude and longitude values\n",
    "\n",
    "import requests # library to handle requests\n",
    "from pandas.io.json import json_normalize # tranform JSON file into a pandas dataframe\n",
    "\n",
    "# Matplotlib and associated plotting modules\n",
    "import matplotlib.cm as cm\n",
    "import matplotlib.colors as colors\n",
    "\n",
    "\n",
    "from sklearn.cluster import KMeans  # import k-means from clustering stage\n",
    "\n",
    "import folium # map rendering library\n",
    "\n",
    "import urllib.request    # library module for opening URL\n",
    "from bs4 import BeautifulSoup    # library for pulling data out of HTML and XML files\n",
    "\n",
    "print('Libraries imported.')"
   ]
  },
  {
   "cell_type": "code",
   "execution_count": null,
   "metadata": {},
   "outputs": [],
   "source": [
    "# data from internet\n",
    "url = \"https://en.wikipedia.org/wiki/List_of_Virginia_locations_by_per_capita_income\"\n",
    "page = urllib.request.urlopen(url)"
   ]
  },
  {
   "cell_type": "code",
   "execution_count": null,
   "metadata": {},
   "outputs": [],
   "source": [
    "soup = BeautifulSoup(page, \"html\")\n",
    "right_table=soup.find('table', class_='wikitable sortable')\n",
    "right_table"
   ]
  },
  {
   "cell_type": "code",
   "execution_count": null,
   "metadata": {},
   "outputs": [],
   "source": [
    "A=[]\n",
    "B=[]\n",
    "C=[]\n",
    "D=[]\n",
    "E=[]\n",
    "F=[]\n",
    "G=[]\n",
    "H=[]\n",
    "\n",
    "for row in right_table.findAll('tr'):\n",
    "    cells=row.findAll('td')\n",
    "    if len(cells)==8:\n",
    "        A.append(cells[0].find(text=True))\n",
    "        B.append(cells[1].find(text=True))\n",
    "        C.append(cells[2].find(text=True))\n",
    "        D.append(cells[3].find(text=True))\n",
    "        E.append(cells[4].find(text=True))\n",
    "        F.append(cells[5].find(text=True))\n",
    "        G.append(cells[6].find(text=True))\n",
    "        H.append(cells[7].find(text=True))"
   ]
  },
  {
   "cell_type": "code",
   "execution_count": null,
   "metadata": {},
   "outputs": [],
   "source": [
    "import pandas as pd\n",
    "df=pd.DataFrame(A,columns=['Rank'])\n",
    "df['Name']=B\n",
    "df['County_or_City']=C\n",
    "df['PerCapitaIncome']=D\n",
    "df['MedianHHIncome']=E\n",
    "df['MedianFamIncome']=F\n",
    "df['Population']=G\n",
    "df['NumberOfHH']=H\n",
    "\n",
    "df = df.replace('\\n','', regex=True)\n",
    "df.columns = ['Rank', 'Name','County_or_City',  'PerCapitaIncome', 'MedianHHIncome', 'MedianFamIncome', 'Population', 'NumberOfHH']\n",
    "df.head()\n",
    "#df.shape"
   ]
  },
  {
   "cell_type": "code",
   "execution_count": null,
   "metadata": {},
   "outputs": [],
   "source": [
    "url2 = 'http://www.usa.com/rank/virginia-state--median-household-income--zip-code-rank.htm'\n",
    "page2 = urllib.request.urlopen(url2)"
   ]
  },
  {
   "cell_type": "code",
   "execution_count": null,
   "metadata": {},
   "outputs": [],
   "source": [
    "url2"
   ]
  },
  {
   "cell_type": "code",
   "execution_count": null,
   "metadata": {},
   "outputs": [],
   "source": [
    "soup2 = BeautifulSoup(page2, \"html\")\n",
    "right_table=soup2.find('table', class_='wikitable sortable')\n",
    "right_table"
   ]
  },
  {
   "cell_type": "code",
   "execution_count": null,
   "metadata": {},
   "outputs": [],
   "source": [
    "import pandas as pd\n",
    "df=pd.DataFrame(A,columns=['Rank'])\n",
    "df['Name']=B\n",
    "df['County_or_City']=C\n",
    "df['PerCapitaIncome']=D\n",
    "df['MedianHHIncome']=E\n",
    "df['MedianFamIncome']=F\n",
    "df['Population']=G\n",
    "df['NumberOfHH']=H\n",
    "\n",
    "df = df.replace('\\n','', regex=True)\n",
    "df.columns = ['Rank', 'Name','County_or_City',  'PerCapitaIncome', 'MedianHHIncome', 'MedianFamIncome', 'Population', 'NumberOfHH']\n",
    "df.head()\n",
    "#df.shape"
   ]
  },
  {
   "cell_type": "code",
   "execution_count": null,
   "metadata": {},
   "outputs": [],
   "source": [
    "# import geocoder # import geocoder\n",
    "\n",
    "# # initialize your variable to None\n",
    "# lat_lng_coords = None\n",
    "\n",
    "# # loop until you get the coordinates\n",
    "# while(lat_lng_coords is None):\n",
    "#     g = geocoder.google('{}, Virginia'.format(Name))  # tried as postal_code too\n",
    "#     lat_lng_coords = g.latlng\n",
    "\n",
    "# latitude = lat_lng_coords[0]\n",
    "# longitude = lat_lng_coords[1]"
   ]
  },
  {
   "cell_type": "code",
   "execution_count": null,
   "metadata": {},
   "outputs": [],
   "source": [
    "import requests\n",
    "import lxml.html as lh\n",
    "import pandas as pd"
   ]
  },
  {
   "cell_type": "code",
   "execution_count": null,
   "metadata": {},
   "outputs": [],
   "source": [
    "#url='http://pokemondb.net/pokedex/all'\n",
    "url = 'http://www.usa.com/rank/virginia-state--median-household-income--zip-code-rank.htm'\n",
    "#Create a handle, page, to handle the contents of the website\n",
    "page = requests.get(url)\n",
    "#Store the contents of the website under doc\n",
    "doc = lh.fromstring(page.content)\n",
    "#Parse data that are stored between <tr>..</tr> of HTML\n",
    "tr_elements = doc.xpath('//tr')"
   ]
  },
  {
   "cell_type": "code",
   "execution_count": null,
   "metadata": {},
   "outputs": [],
   "source": [
    "#Check the length of the first 12 rows\n",
    "[len(T) for T in tr_elements[:12]]"
   ]
  },
  {
   "cell_type": "code",
   "execution_count": null,
   "metadata": {},
   "outputs": [],
   "source": [
    "tr_elements = doc.xpath('//tr')\n",
    "#Create empty list\n",
    "col=[]\n",
    "i=0\n",
    "#For each row, store each first element (header) and an empty list\n",
    "for t in tr_elements[1]:\n",
    "    i+=1\n",
    "    name=t.text_content()\n",
    "    print ('%d:\"%s\"'%(i,name))\n",
    "    col.append((name,[]))"
   ]
  },
  {
   "cell_type": "code",
   "execution_count": null,
   "metadata": {},
   "outputs": [],
   "source": [
    "#Since out first row is the header, data is stored on the second row onwards\n",
    "for j in range(1,len(tr_elements)):\n",
    "    #T is our j'th row\n",
    "    T=tr_elements[j]\n",
    "    \n",
    "    #If row is not of size 10, the //tr data is not from our table \n",
    "    if len(T)!=3:\n",
    "        break\n",
    "    \n",
    "    #i is the index of our column\n",
    "    i=0\n",
    "    \n",
    "    #Iterate through each element of the row\n",
    "    for t in T.iterchildren():\n",
    "        data=t.text_content() \n",
    "        #Check if row is empty\n",
    "        if i>0:\n",
    "        #Convert any numerical value to integers\n",
    "            try:\n",
    "                data=int(data)\n",
    "            except:\n",
    "                pass\n",
    "        #Append the data to the empty list of the i'th column\n",
    "        col[i][1].append(data)\n",
    "        #Increment i for the next column\n",
    "        i+=1"
   ]
  },
  {
   "cell_type": "code",
   "execution_count": null,
   "metadata": {},
   "outputs": [],
   "source": [
    "[len(C) for (title,C) in col]"
   ]
  },
  {
   "cell_type": "code",
   "execution_count": null,
   "metadata": {},
   "outputs": [],
   "source": [
    "Dict={title:column for (title,column) in col}\n",
    "df=pd.DataFrame(Dict)"
   ]
  },
  {
   "cell_type": "code",
   "execution_count": null,
   "metadata": {},
   "outputs": [],
   "source": [
    "df.head()"
   ]
  },
  {
   "cell_type": "code",
   "execution_count": null,
   "metadata": {},
   "outputs": [],
   "source": [
    "# new data frame with split value columns \n",
    "new = df[\"Zip / Population\"].str.split(\" / \", n = 1, expand = True) \n",
    "  \n",
    "# making separate first name column from new data frame \n",
    "df[\"Zip\"]= new[0] \n",
    "  \n",
    "# making separate last name column from new data frame \n",
    "df[\"Population\"]= new[1] \n",
    "  \n",
    "# Dropping old Name columns \n",
    "df.drop(columns =[\"Zip / Population\"], inplace = True) \n",
    "  \n",
    "# df display \n",
    "df.head()"
   ]
  },
  {
   "cell_type": "code",
   "execution_count": null,
   "metadata": {},
   "outputs": [],
   "source": [
    "# df display \n",
    "df = df[1:]\n",
    "df.head()"
   ]
  },
  {
   "cell_type": "code",
   "execution_count": null,
   "metadata": {},
   "outputs": [],
   "source": [
    "# import geocoder # import geocoder\n",
    "\n",
    "# # initialize your variable to None\n",
    "# lat_lng_coords = None\n",
    "\n",
    "# # loop until you get the coordinates\n",
    "# while(lat_lng_coords is None):\n",
    "#     g = geocoder.google('{}, Virginia, VA'.format(zip))  # tried as postal_code too\n",
    "#     lat_lng_coords = g.latlng\n",
    "\n",
    "# latitude = lat_lng_coords[0]\n",
    "# longitude = lat_lng_coords[1]"
   ]
  },
  {
   "cell_type": "code",
   "execution_count": null,
   "metadata": {},
   "outputs": [],
   "source": [
    "!pip install pgeocode"
   ]
  },
  {
   "cell_type": "code",
   "execution_count": null,
   "metadata": {},
   "outputs": [],
   "source": [
    "import pgeocode"
   ]
  },
  {
   "cell_type": "code",
   "execution_count": null,
   "metadata": {},
   "outputs": [],
   "source": [
    "nomi = pgeocode.Nominatim('us')"
   ]
  },
  {
   "cell_type": "code",
   "execution_count": null,
   "metadata": {},
   "outputs": [],
   "source": [
    "nomi.query_postal_code(df['Zip'].tolist())"
   ]
  },
  {
   "cell_type": "code",
   "execution_count": null,
   "metadata": {},
   "outputs": [],
   "source": [
    "x =[]"
   ]
  },
  {
   "cell_type": "code",
   "execution_count": null,
   "metadata": {},
   "outputs": [],
   "source": [
    "x = df['Zip'].tolist()\n",
    "type(x)"
   ]
  },
  {
   "cell_type": "code",
   "execution_count": null,
   "metadata": {},
   "outputs": [],
   "source": [
    "# Find the minimum value\n",
    "def findMin(alist):\n",
    "    overallmin = alist[0]\n",
    "    for i in alist:\n",
    "        issmallest = True\n",
    "        for j in alist:\n",
    "            if i > j:\n",
    "                issmallest = False\n",
    "        if issmallest:\n",
    "            overallmin = i\n",
    "    return overallmin\n",
    "print(findMin([5, 6, 7, 2, 9, 1, 10]) )\n",
    "print(findMin([5, 6, 0,  7, 2, 9, 1, 10]) )\n",
    "print(findMin([5, 6, 7, 2, 9, 11, 10, 3]) )"
   ]
  },
  {
   "cell_type": "code",
   "execution_count": null,
   "metadata": {},
   "outputs": [],
   "source": [
    "# Find the minimum value from a randomly generated numbers with timing\n",
    "# \n",
    "import time\n",
    "from random import randrange\n",
    "def findMin(alist):\n",
    "    overallmin = alist[0]\n",
    "    for i in alist:\n",
    "        issmallest = True\n",
    "        for j in alist:\n",
    "            if i > j:\n",
    "                issmallest = False\n",
    "        if issmallest:\n",
    "            overallmin = i\n",
    "    return overallmin\n",
    "\n",
    "for listSize in range(1000, 10001, 1000):\n",
    "    alist = [randrange(100000) for x in range(listSize)]\n",
    "    start = time.time()\n",
    "    print(findMin(alist))\n",
    "    end = time.time()\n",
    "    print(\"size: %d time:%f\" % (listSize, end -start))"
   ]
  },
  {
   "cell_type": "code",
   "execution_count": null,
   "metadata": {},
   "outputs": [],
   "source": [
    "a=5\n",
    "b=6\n",
    "c=10\n",
    "n=100\n",
    "for i in range(n):\n",
    "    for j in range(n):\n",
    "        x = i * i\n",
    "        y = j * j\n",
    "        z = i * j\n",
    "for k in range(n):\n",
    "    w = a*k + 45\n",
    "    v = b*b\n",
    "d = 33"
   ]
  },
  {
   "cell_type": "code",
   "execution_count": null,
   "metadata": {},
   "outputs": [],
   "source": []
  },
  {
   "cell_type": "code",
   "execution_count": null,
   "metadata": {},
   "outputs": [],
   "source": []
  }
 ],
 "metadata": {
  "hide_input": false,
  "kernelspec": {
   "display_name": "Python 3 (ipykernel)",
   "language": "python",
   "name": "python3"
  },
  "language_info": {
   "codemirror_mode": {
    "name": "ipython",
    "version": 3
   },
   "file_extension": ".py",
   "mimetype": "text/x-python",
   "name": "python",
   "nbconvert_exporter": "python",
   "pygments_lexer": "ipython3",
   "version": "3.8.13"
  },
  "latex_envs": {
   "LaTeX_envs_menu_present": true,
   "autoclose": false,
   "autocomplete": true,
   "bibliofile": "biblio.bib",
   "cite_by": "apalike",
   "current_citInitial": 1,
   "eqLabelWithNumbers": true,
   "eqNumInitial": 1,
   "hotkeys": {
    "equation": "Ctrl-E",
    "itemize": "Ctrl-I"
   },
   "labels_anchors": false,
   "latex_user_defs": false,
   "report_style_numbering": false,
   "user_envs_cfg": false
  },
  "varInspector": {
   "cols": {
    "lenName": 16,
    "lenType": 16,
    "lenVar": 40
   },
   "kernels_config": {
    "python": {
     "delete_cmd_postfix": "",
     "delete_cmd_prefix": "del ",
     "library": "var_list.py",
     "varRefreshCmd": "print(var_dic_list())"
    },
    "r": {
     "delete_cmd_postfix": ") ",
     "delete_cmd_prefix": "rm(",
     "library": "var_list.r",
     "varRefreshCmd": "cat(var_dic_list()) "
    }
   },
   "types_to_exclude": [
    "module",
    "function",
    "builtin_function_or_method",
    "instance",
    "_Feature"
   ],
   "window_display": false
  }
 },
 "nbformat": 4,
 "nbformat_minor": 4
}
