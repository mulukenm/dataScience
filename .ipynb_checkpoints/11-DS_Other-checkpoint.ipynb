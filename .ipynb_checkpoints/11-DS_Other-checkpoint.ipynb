{
 "cells": [
  {
   "cell_type": "markdown",
   "id": "a8f4b858",
   "metadata": {},
   "source": [
    "Pew Research data on religious affiliation \n",
    "\n",
    "by Allen Downey"
   ]
  },
  {
   "cell_type": "code",
   "execution_count": null,
   "id": "6c3116ee",
   "metadata": {},
   "outputs": [],
   "source": [
    "# !pip install wget\n",
    "# !pip install tabula\n",
    "\n",
    "!pip uninstall tabula\n"
   ]
  },
  {
   "cell_type": "code",
   "execution_count": null,
   "id": "b6802a37",
   "metadata": {},
   "outputs": [],
   "source": [
    "import os\n",
    "import wget\n",
    "\n",
    "\n",
    "if not os.path.exists('Detailed-Tables-v1-FOR-WEB.pdf'):\n",
    "    !python -m wget https://www.pewforum.org/wp-content/uploads/sites/7/2019/10/Detailed-Tables-v1-FOR-WEB.pdf"
   ]
  },
  {
   "cell_type": "code",
   "execution_count": null,
   "id": "c9a14e1e",
   "metadata": {},
   "outputs": [],
   "source": [
    "\n",
    "import sys\n",
    "IN_COLAB = 'google.colab' in sys.modules\n",
    "\n",
    "if IN_COLAB:\n",
    "    !pip install tabula-py"
   ]
  },
  {
   "cell_type": "code",
   "execution_count": null,
   "id": "f954dc4f",
   "metadata": {},
   "outputs": [],
   "source": [
    "from tabula import read_pdf\n",
    "import pandas as pd\n"
   ]
  },
  {
   "cell_type": "code",
   "execution_count": null,
   "id": "07301995",
   "metadata": {},
   "outputs": [],
   "source": []
  },
  {
   "cell_type": "code",
   "execution_count": null,
   "id": "ff8f0874",
   "metadata": {},
   "outputs": [],
   "source": []
  }
 ],
 "metadata": {
  "kernelspec": {
   "display_name": "Python 3 (ipykernel)",
   "language": "python",
   "name": "python3"
  },
  "language_info": {
   "codemirror_mode": {
    "name": "ipython",
    "version": 3
   },
   "file_extension": ".py",
   "mimetype": "text/x-python",
   "name": "python",
   "nbconvert_exporter": "python",
   "pygments_lexer": "ipython3",
   "version": "3.8.16"
  }
 },
 "nbformat": 4,
 "nbformat_minor": 5
}
