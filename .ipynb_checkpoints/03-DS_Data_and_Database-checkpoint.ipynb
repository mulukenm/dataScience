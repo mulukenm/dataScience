{
 "cells": [
  {
   "cell_type": "markdown",
   "id": "partial-endorsement",
   "metadata": {},
   "source": [
    "# Data and Database\n",
    "\n",
    "In data science, getting data is the major component of the process after formulating the problem at hand. Data can be collected from different sources in different format. For the purpose of this notebook, we can categorize the sources (based on formats) into:\n",
    "\n",
    "* Text Files: Text files can be in different formats (both online or saved in a local drive). The most common formats are Excel,  csv, txt, pdf, etc...\n",
    "* Webscraping: Python has tools to access and extract data from websites. Beautiful Soup is one of the well known libraries to for pulling data out of HTML and XML files.\n",
    "* Application Programming Interface (APIs): API is a software intermediary that allows two applications to talk to each other. \n",
    "* Database: There are several database types such as Relational, NoSQL, Hierarchical, Network, and Object-Oriented databases. This notebook will focus on relational database.\n",
    "\n",
    "To pull of data from a database, Python has libraries such as pyodbc and SQLalchemy. The following is an example of pulling data from Microsoft SQL Server DB with pyodbc and SQLalchemy in conjunction with pandas library.\n"
   ]
  },
  {
   "cell_type": "code",
   "execution_count": null,
   "id": "serial-treatment",
   "metadata": {},
   "outputs": [],
   "source": [
    "import pandas as pd\n",
    "import pyodbc\n",
    "import sqlalchemy"
   ]
  },
  {
   "cell_type": "code",
   "execution_count": 1,
   "id": "center-maximum",
   "metadata": {},
   "outputs": [
    {
     "ename": "NameError",
     "evalue": "name 'pd' is not defined",
     "output_type": "error",
     "traceback": [
      "\u001b[1;31m---------------------------------------------------------------------------\u001b[0m",
      "\u001b[1;31mNameError\u001b[0m                                 Traceback (most recent call last)",
      "\u001b[1;32m<ipython-input-1-0b7a7ee99df4>\u001b[0m in \u001b[0;36m<module>\u001b[1;34m\u001b[0m\n\u001b[0;32m      9\u001b[0m \u001b[0mcursor\u001b[0m \u001b[1;33m=\u001b[0m \u001b[0mconn\u001b[0m\u001b[1;33m.\u001b[0m\u001b[0mcursor\u001b[0m\u001b[1;33m(\u001b[0m\u001b[1;33m)\u001b[0m\u001b[1;33m\u001b[0m\u001b[1;33m\u001b[0m\u001b[0m\n\u001b[0;32m     10\u001b[0m \u001b[1;33m\u001b[0m\u001b[0m\n\u001b[1;32m---> 11\u001b[1;33m \u001b[0mdf\u001b[0m \u001b[1;33m=\u001b[0m \u001b[0mpd\u001b[0m\u001b[1;33m.\u001b[0m\u001b[0mread_sql_query\u001b[0m\u001b[1;33m(\u001b[0m\u001b[1;34m'SELECT * from dbo.SED1'\u001b[0m\u001b[1;33m,\u001b[0m\u001b[0mconn\u001b[0m\u001b[1;33m)\u001b[0m\u001b[1;33m\u001b[0m\u001b[1;33m\u001b[0m\u001b[0m\n\u001b[0m\u001b[0;32m     12\u001b[0m \u001b[0mdf\u001b[0m \u001b[1;33m=\u001b[0m \u001b[0mdf1\u001b[0m\u001b[1;33m.\u001b[0m\u001b[0mset_index\u001b[0m\u001b[1;33m(\u001b[0m\u001b[1;33m[\u001b[0m\u001b[1;34m'S&E Fields'\u001b[0m\u001b[1;33m,\u001b[0m \u001b[1;34m'Broad Fields'\u001b[0m\u001b[1;33m,\u001b[0m \u001b[1;34m'Detailed Fields'\u001b[0m\u001b[1;33m]\u001b[0m\u001b[1;33m)\u001b[0m\u001b[1;33m\u001b[0m\u001b[1;33m\u001b[0m\u001b[0m\n\u001b[0;32m     13\u001b[0m \u001b[0mdf\u001b[0m\u001b[1;33m.\u001b[0m\u001b[0mhead\u001b[0m\u001b[1;33m(\u001b[0m\u001b[1;36m3\u001b[0m\u001b[1;33m)\u001b[0m\u001b[1;33m\u001b[0m\u001b[1;33m\u001b[0m\u001b[0m\n",
      "\u001b[1;31mNameError\u001b[0m: name 'pd' is not defined"
     ]
    }
   ],
   "source": [
    "# Reading data from SQL Server in local machine\n",
    "conn = pyodbc.connect(\"Driver={SQL Server};\"\n",
    "                      \"Server=DESKTOP-MS8S2RN;\"\n",
    "                      \"Database=NCSES;\"\n",
    "                      \"Trusted_Connection=yes;\"\n",
    ")   \n",
    "\n",
    "cursor = conn.cursor()\n",
    "\n",
    "df = pd.read_sql_query('SELECT * from dbo.SED1',conn)\n",
    "df = df1.set_index(['S&E Fields', 'Broad Fields', 'Detailed Fields'])\n",
    "df.head()\n"
   ]
  },
  {
   "cell_type": "code",
   "execution_count": null,
   "id": "sustainable-klein",
   "metadata": {},
   "outputs": [],
   "source": [
    "host = 'DESKTOP-MS8S2RN'\n",
    "DB = 'NCSES'\n",
    "\n",
    "connection_string = \"postgresql://{}/{}\".format(host, DB)\n",
    "conn = sqlalchemy.create_engine(connection_string)"
   ]
  }
 ],
 "metadata": {
  "hide_input": false,
  "kernelspec": {
   "display_name": "Python 3",
   "language": "python",
   "name": "python3"
  },
  "language_info": {
   "codemirror_mode": {
    "name": "ipython",
    "version": 3
   },
   "file_extension": ".py",
   "mimetype": "text/x-python",
   "name": "python",
   "nbconvert_exporter": "python",
   "pygments_lexer": "ipython3",
   "version": "3.8.5"
  }
 },
 "nbformat": 4,
 "nbformat_minor": 5
}
