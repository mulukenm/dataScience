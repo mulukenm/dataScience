{
 "cells": [
  {
   "cell_type": "markdown",
   "id": "2d3a5a0d",
   "metadata": {},
   "source": [
    "# Introduction to Machine Learning Algorithms\n",
    "\n",
    "Machine learning is classified in to the following major types of algorithms:\n",
    "\n",
    "* Supervise Learning\n",
    "* Unsupervised Learning\n",
    "* Reinforcement Learning"
   ]
  },
  {
   "cell_type": "markdown",
   "id": "3f4e112b",
   "metadata": {},
   "source": [
    "1. Supervised Learning  \n",
    "   1.1  Regression  \n",
    "      * Linear Regression  \n",
    "      * Ridge Regression\n",
    "      * Ensemble Methods\n",
    "      * Decision Trees\n",
    "      * Ordinary Least Squares Regression\n",
    "      * Stepwise Regression \n",
    "      * Neural Networks\n",
    "      \n",
    "   1.2  Classification  \n",
    "      * Logistic Regression\n",
    "      * Naive Bayes Classifier\n",
    "      * K-Nearest Neighbor\n",
    "      * support Vector Machine\n",
    "      * Discriminant Analysis\n",
    "      * Neural Networks"
   ]
  },
  {
   "cell_type": "markdown",
   "id": "0d4f32be",
   "metadata": {},
   "source": [
    "2. Unsupervised Learning  \n",
    "   2.1  Clustering  \n",
    "      * K-means\n",
    "      * K-median\n",
    "      * Hierarchical Clustering\n",
    "      * Gaussian Mixture\n",
    "      * Expectation Maximization\n",
    "      * Neural Networks\n",
    "    \n",
    "   2.2 Association Analysis    \n",
    "      * APRIORI   \n",
    "      * Eclat \n",
    "      \n",
    "   2.3  Dimensionality Reduction  "
   ]
  },
  {
   "cell_type": "markdown",
   "id": "548dd82e",
   "metadata": {},
   "source": [
    "3. Semi-supervised Learning"
   ]
  },
  {
   "cell_type": "markdown",
   "id": "49611b34",
   "metadata": {},
   "source": [
    "4. Reinforcement Learning"
   ]
  },
  {
   "cell_type": "code",
   "execution_count": null,
   "id": "886fa5e1",
   "metadata": {},
   "outputs": [],
   "source": []
  },
  {
   "cell_type": "code",
   "execution_count": null,
   "id": "2a88e5e8",
   "metadata": {},
   "outputs": [],
   "source": []
  },
  {
   "cell_type": "code",
   "execution_count": null,
   "id": "cdf42192",
   "metadata": {},
   "outputs": [],
   "source": []
  }
 ],
 "metadata": {
  "kernelspec": {
   "display_name": "Python 3 (ipykernel)",
   "language": "python",
   "name": "python3"
  },
  "language_info": {
   "codemirror_mode": {
    "name": "ipython",
    "version": 3
   },
   "file_extension": ".py",
   "mimetype": "text/x-python",
   "name": "python",
   "nbconvert_exporter": "python",
   "pygments_lexer": "ipython3",
   "version": "3.8.12"
  }
 },
 "nbformat": 4,
 "nbformat_minor": 5
}
