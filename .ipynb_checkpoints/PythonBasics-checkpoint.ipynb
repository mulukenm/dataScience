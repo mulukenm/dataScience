{
 "cells": [
  {
   "cell_type": "markdown",
   "metadata": {},
   "source": [
    "# Python Basics\n",
    "## 1. Python Loop and Condition"
   ]
  },
  {
   "cell_type": "code",
   "execution_count": 1,
   "metadata": {},
   "outputs": [
    {
     "name": "stdout",
     "output_type": "stream",
     "text": [
      "It is a beautiful day.\n",
      "It is a beautiful day.\n",
      "It is a beautiful day.\n",
      "\n",
      " ---------------------------------------------\n",
      "It is a sunny and beautiful day\n",
      "It is a sunny and beautiful day\n",
      "It is a sunny and beautiful day\n",
      "It is rainy day.\n",
      "\n",
      " ---------------------------------------------\n"
     ]
    }
   ],
   "source": [
    "# while Loop\n",
    "count = 0\n",
    "while (count<3):\n",
    "    count = count+1\n",
    "    print(\"It is a beautiful day.\")\n",
    "print (\"\\n ---------------------------------------------\")\n",
    "\n",
    "# while with else\n",
    "count = 0\n",
    "while (count<3):\n",
    "    count = count+1\n",
    "    print(\"It is a sunny and beautiful day\")\n",
    "else:\n",
    "    print(\"It is rainy day.\")\n",
    "print (\"\\n ---------------------------------------------\")"
   ]
  },
  {
   "cell_type": "code",
   "execution_count": 2,
   "metadata": {},
   "outputs": [
    {
     "name": "stdout",
     "output_type": "stream",
     "text": [
      "List Iteration -- Team sport\n",
      "NBA\n",
      "WNBA\n",
      "MLS\n",
      "WNSL\n",
      "NFL\n",
      "MLB\n",
      "NHL\n",
      "NBA\n",
      "WNBA\n",
      "MLS\n",
      "WNSL\n",
      "NFL\n",
      "MLB\n",
      "NHL\n",
      "\n",
      " Tuple Iteration -- Team sport\n",
      "NBA\n",
      "WNBA\n",
      "MLS\n",
      "WNSL\n",
      "NFL\n",
      "MLB\n",
      "NHL\n",
      "\n",
      " String Iteration -- Team sport\n",
      "s\n",
      "p\n",
      "o\n",
      "r\n",
      "t\n",
      "\n",
      " Dictionary Iteration -- Team sport\n",
      "NBA  National Basketball Association\n",
      "NFL  National Football League\n",
      "NHL  National Hockey League\n",
      "MLB  Major League Baseball\n",
      "\n",
      " Dictionary Iteration -- Team sport\n",
      "NBA  100\n",
      "NFL  99\n",
      "NHL  98\n",
      "MLB  97\n",
      "\n",
      " ---------------------------------------------\n"
     ]
    }
   ],
   "source": [
    "# For loop \n",
    "# Iterating over a list \n",
    "print(\"List Iteration -- Team sport\") \n",
    "sport = [\"NBA\",\"WNBA\", \"MLS\", \"WNSL\", \"NFL\", \"MLB\", \"NHL\"] \n",
    "for i in sport: \n",
    "    print(i) \n",
    "# Iterating by index \n",
    "  \n",
    "sport = [\"NBA\",\"WNBA\", \"MLS\", \"WNSL\", \"NFL\", \"MLB\", \"NHL\"] \n",
    "for index in range(len(sport)): \n",
    "    print (sport[index])     \n",
    "       \n",
    "# Iterating over a tuple (immutable) \n",
    "print(\"\\n Tuple Iteration -- Team sport\") \n",
    "t = (\"NBA\",\"WNBA\", \"MLS\", \"WNSL\", \"NFL\", \"MLB\", \"NHL\") \n",
    "for i in t: \n",
    "    print(i) \n",
    "       \n",
    "# Iterating over a String \n",
    "print(\"\\n String Iteration -- Team sport\")     \n",
    "s = \"sport\"\n",
    "for i in s : \n",
    "    print(i) \n",
    "       \n",
    "# Iterating over dictionary with string value\n",
    "print(\"\\n Dictionary Iteration -- Team sport\")    \n",
    "d = dict()  \n",
    "d['NBA'] = \"National Basketball Association\"\n",
    "d['NFL'] = \"National Football League\"\n",
    "d['NHL'] = \"National Hockey League\"\n",
    "d['MLB'] = \"Major League Baseball\"\n",
    "for i in d : \n",
    "    print(\"%s  %s\" %(i, d[i]))\n",
    "\n",
    "# Iterating over dictionary with numeric value --- the difference is print statement\n",
    "print(\"\\n Dictionary Iteration -- Team sport\")    \n",
    "d = dict()  \n",
    "d['NBA'] = 100\n",
    "d['NFL'] = 99\n",
    "d['NHL'] = 98\n",
    "d['MLB'] = 97\n",
    "for i in d : \n",
    "    print(\"%s  %d\" %(i, d[i]))\n",
    "\n",
    "print (\"\\n ---------------------------------------------\")"
   ]
  },
  {
   "cell_type": "code",
   "execution_count": null,
   "metadata": {},
   "outputs": [],
   "source": []
  },
  {
   "cell_type": "code",
   "execution_count": null,
   "metadata": {},
   "outputs": [],
   "source": []
  }
 ],
 "metadata": {
  "hide_input": false,
  "kernelspec": {
   "display_name": "Python 3",
   "language": "python",
   "name": "python3"
  },
  "language_info": {
   "codemirror_mode": {
    "name": "ipython",
    "version": 3
   },
   "file_extension": ".py",
   "mimetype": "text/x-python",
   "name": "python",
   "nbconvert_exporter": "python",
   "pygments_lexer": "ipython3",
   "version": "3.8.5"
  },
  "latex_envs": {
   "LaTeX_envs_menu_present": true,
   "autoclose": false,
   "autocomplete": true,
   "bibliofile": "biblio.bib",
   "cite_by": "apalike",
   "current_citInitial": 1,
   "eqLabelWithNumbers": true,
   "eqNumInitial": 1,
   "hotkeys": {
    "equation": "Ctrl-E",
    "itemize": "Ctrl-I"
   },
   "labels_anchors": false,
   "latex_user_defs": false,
   "report_style_numbering": false,
   "user_envs_cfg": false
  }
 },
 "nbformat": 4,
 "nbformat_minor": 4
}
