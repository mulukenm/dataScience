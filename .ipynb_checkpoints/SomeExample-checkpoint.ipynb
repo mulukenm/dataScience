{
 "cells": [
  {
   "cell_type": "code",
   "execution_count": 17,
   "metadata": {},
   "outputs": [],
   "source": [
    "import os\n",
    "import sys\n",
    "import openpyxl\n",
    "import pygal\n",
    "import pandas as pd\n",
    "import numpy as np\n",
    "from pandas import ExcelWriter\n",
    "from pandas import ExcelFile\n",
    "import seaborn as sns\n",
    "import matplotlib.pyplot as plt\n",
    "from statsmodels.graphics import mosaicplot\n",
    "from statsmodels.graphics.mosaicplot import mosaic\n",
    "sns.set(style=\"ticks\", color_codes=True)\n",
    "from rpy2.robjects.packages import importr\n",
    "import requests\n",
    "import xlrd\n",
    "\n",
    "plt.style.use('ggplot')"
   ]
  },
  {
   "cell_type": "code",
   "execution_count": 18,
   "metadata": {},
   "outputs": [],
   "source": [
    "# import pandas as pd\n",
    "# #df = pd.read_excel('https://ncses.nsf.gov/pubs/nsf19301/data/sed17-sr-tab024.xlsx')\n",
    "# import requests\n",
    "# import xlrd\n",
    "\n",
    "# example_url = 'https://ncsesdata.nsf.gov/ids/sed'\n",
    "# r = requests.get(example_url)  # make an HTTP request\n",
    "\n",
    "# workbook = xlrd.open_workbook(file_contents=r.content)  # open workbook\n",
    "# worksheet = workbook.sheet_by_index(0)  # get first sheet\n",
    "# first_row = worksheet.row(0)  # you can iterate over rows of a worksheet as well\n",
    "\n",
    "# print(first_row)  # list of cells"
   ]
  },
  {
   "cell_type": "code",
   "execution_count": 21,
   "metadata": {},
   "outputs": [],
   "source": [
    "df1 = pd.read_csv('C:/Users/Muluken/WorkingFiles/NSF_NCSES/Data/SED_Export_2020-06-17T23_22_18.852Z.csv')\n",
    "df2 = pd.read_csv('C:/Users/Muluken/WorkingFiles/NSF_NCSES/Data/SED_Export_2020-06-17T23_29_53.896Z.csv')"
   ]
  },
  {
   "cell_type": "code",
   "execution_count": 22,
   "metadata": {},
   "outputs": [],
   "source": [
    "# import requests\n",
    "# import xlrd\n",
    "\n",
    "# example_url = 'http://www.excel-easy.com/examples/excel-files/fibonacci-sequence.xlsx'\n",
    "# r = requests.get(example_url)  # make an HTTP request\n",
    "\n",
    "# workbook = xlrd.open_workbook(file_contents=r.content)  # open workbook\n",
    "# worksheet = workbook.sheet_by_index(0)  # get first sheet\n",
    "# first_row = worksheet.row(0)  # you can iterate over rows of a worksheet as well\n",
    "\n",
    "# print(first_row)  # list of cells"
   ]
  },
  {
   "cell_type": "code",
   "execution_count": 23,
   "metadata": {},
   "outputs": [
    {
     "data": {
      "text/html": [
       "<div>\n",
       "<style scoped>\n",
       "    .dataframe tbody tr th:only-of-type {\n",
       "        vertical-align: middle;\n",
       "    }\n",
       "\n",
       "    .dataframe tbody tr th {\n",
       "        vertical-align: top;\n",
       "    }\n",
       "\n",
       "    .dataframe thead th {\n",
       "        text-align: right;\n",
       "    }\n",
       "</style>\n",
       "<table border=\"1\" class=\"dataframe\">\n",
       "  <thead>\n",
       "    <tr style=\"text-align: right;\">\n",
       "      <th></th>\n",
       "      <th>Data Download from NCSES Interactive Data Tool</th>\n",
       "      <th>Unnamed: 1</th>\n",
       "      <th>Unnamed: 2</th>\n",
       "      <th>Unnamed: 3</th>\n",
       "      <th>Unnamed: 4</th>\n",
       "      <th>Unnamed: 5</th>\n",
       "      <th>Unnamed: 6</th>\n",
       "      <th>Unnamed: 7</th>\n",
       "      <th>Unnamed: 8</th>\n",
       "      <th>Unnamed: 9</th>\n",
       "      <th>...</th>\n",
       "      <th>Unnamed: 54</th>\n",
       "      <th>Unnamed: 55</th>\n",
       "      <th>Unnamed: 56</th>\n",
       "      <th>Unnamed: 57</th>\n",
       "      <th>Unnamed: 58</th>\n",
       "      <th>Unnamed: 59</th>\n",
       "      <th>Unnamed: 60</th>\n",
       "      <th>Unnamed: 61</th>\n",
       "      <th>Unnamed: 62</th>\n",
       "      <th>Unnamed: 63</th>\n",
       "    </tr>\n",
       "  </thead>\n",
       "  <tbody>\n",
       "    <tr>\n",
       "      <th>0</th>\n",
       "      <td>NaN</td>\n",
       "      <td>NaN</td>\n",
       "      <td>NaN</td>\n",
       "      <td>Year</td>\n",
       "      <td>NaN</td>\n",
       "      <td>NaN</td>\n",
       "      <td>NaN</td>\n",
       "      <td>NaN</td>\n",
       "      <td>NaN</td>\n",
       "      <td>NaN</td>\n",
       "      <td>...</td>\n",
       "      <td>NaN</td>\n",
       "      <td>NaN</td>\n",
       "      <td>NaN</td>\n",
       "      <td>NaN</td>\n",
       "      <td>NaN</td>\n",
       "      <td>NaN</td>\n",
       "      <td>NaN</td>\n",
       "      <td>NaN</td>\n",
       "      <td>NaN</td>\n",
       "      <td>NaN</td>\n",
       "    </tr>\n",
       "    <tr>\n",
       "      <th>1</th>\n",
       "      <td>S&amp;E Fields</td>\n",
       "      <td>Broad Fields</td>\n",
       "      <td>Detailed Fields</td>\n",
       "      <td>2018</td>\n",
       "      <td>2017.0</td>\n",
       "      <td>2016</td>\n",
       "      <td>2015</td>\n",
       "      <td>2014</td>\n",
       "      <td>2013</td>\n",
       "      <td>2012</td>\n",
       "      <td>...</td>\n",
       "      <td>1967</td>\n",
       "      <td>1966</td>\n",
       "      <td>1965</td>\n",
       "      <td>1964</td>\n",
       "      <td>1963</td>\n",
       "      <td>1962</td>\n",
       "      <td>1961</td>\n",
       "      <td>1960</td>\n",
       "      <td>1959</td>\n",
       "      <td>1958</td>\n",
       "    </tr>\n",
       "    <tr>\n",
       "      <th>2</th>\n",
       "      <td>Science and engineering</td>\n",
       "      <td>Total</td>\n",
       "      <td>Total</td>\n",
       "      <td>42227</td>\n",
       "      <td>41294.0</td>\n",
       "      <td>41234</td>\n",
       "      <td>41178</td>\n",
       "      <td>40633</td>\n",
       "      <td>39031</td>\n",
       "      <td>37846</td>\n",
       "      <td>...</td>\n",
       "      <td>13274</td>\n",
       "      <td>11732</td>\n",
       "      <td>10706</td>\n",
       "      <td>9462</td>\n",
       "      <td>8422</td>\n",
       "      <td>7612</td>\n",
       "      <td>6872</td>\n",
       "      <td>6388</td>\n",
       "      <td>6043</td>\n",
       "      <td>5751</td>\n",
       "    </tr>\n",
       "    <tr>\n",
       "      <th>3</th>\n",
       "      <td>Science and engineering</td>\n",
       "      <td>Life sciences</td>\n",
       "      <td>Total</td>\n",
       "      <td>12780</td>\n",
       "      <td>12555.0</td>\n",
       "      <td>12536</td>\n",
       "      <td>12493</td>\n",
       "      <td>12484</td>\n",
       "      <td>12207</td>\n",
       "      <td>11964</td>\n",
       "      <td>...</td>\n",
       "      <td>3143</td>\n",
       "      <td>2885</td>\n",
       "      <td>2684</td>\n",
       "      <td>2361</td>\n",
       "      <td>2083</td>\n",
       "      <td>1975</td>\n",
       "      <td>1783</td>\n",
       "      <td>1729</td>\n",
       "      <td>1581</td>\n",
       "      <td>1622</td>\n",
       "    </tr>\n",
       "    <tr>\n",
       "      <th>4</th>\n",
       "      <td>Science and engineering</td>\n",
       "      <td>Life sciences</td>\n",
       "      <td>Agricultural sciences and natural resources</td>\n",
       "      <td>1445</td>\n",
       "      <td>1494.0</td>\n",
       "      <td>1378</td>\n",
       "      <td>1434</td>\n",
       "      <td>1338</td>\n",
       "      <td>1324</td>\n",
       "      <td>1255</td>\n",
       "      <td>...</td>\n",
       "      <td>606</td>\n",
       "      <td>576</td>\n",
       "      <td>576</td>\n",
       "      <td>517</td>\n",
       "      <td>466</td>\n",
       "      <td>470</td>\n",
       "      <td>438</td>\n",
       "      <td>414</td>\n",
       "      <td>342</td>\n",
       "      <td>339</td>\n",
       "    </tr>\n",
       "  </tbody>\n",
       "</table>\n",
       "<p>5 rows × 64 columns</p>\n",
       "</div>"
      ],
      "text/plain": [
       "  Data Download from NCSES Interactive Data Tool     Unnamed: 1  \\\n",
       "0                                            NaN            NaN   \n",
       "1                                     S&E Fields   Broad Fields   \n",
       "2                        Science and engineering          Total   \n",
       "3                        Science and engineering  Life sciences   \n",
       "4                        Science and engineering  Life sciences   \n",
       "\n",
       "                                    Unnamed: 2 Unnamed: 3  Unnamed: 4  \\\n",
       "0                                          NaN       Year         NaN   \n",
       "1                              Detailed Fields       2018      2017.0   \n",
       "2                                        Total      42227     41294.0   \n",
       "3                                        Total      12780     12555.0   \n",
       "4  Agricultural sciences and natural resources       1445      1494.0   \n",
       "\n",
       "  Unnamed: 5 Unnamed: 6 Unnamed: 7 Unnamed: 8 Unnamed: 9  ... Unnamed: 54  \\\n",
       "0        NaN        NaN        NaN        NaN        NaN  ...         NaN   \n",
       "1       2016       2015       2014       2013       2012  ...        1967   \n",
       "2      41234      41178      40633      39031      37846  ...       13274   \n",
       "3      12536      12493      12484      12207      11964  ...        3143   \n",
       "4       1378       1434       1338       1324       1255  ...         606   \n",
       "\n",
       "  Unnamed: 55 Unnamed: 56 Unnamed: 57  Unnamed: 58  Unnamed: 59  Unnamed: 60  \\\n",
       "0         NaN         NaN         NaN          NaN          NaN          NaN   \n",
       "1        1966        1965        1964         1963         1962         1961   \n",
       "2       11732       10706        9462         8422         7612         6872   \n",
       "3        2885        2684        2361         2083         1975         1783   \n",
       "4         576         576         517          466          470          438   \n",
       "\n",
       "  Unnamed: 61 Unnamed: 62 Unnamed: 63  \n",
       "0         NaN         NaN         NaN  \n",
       "1        1960        1959        1958  \n",
       "2        6388        6043        5751  \n",
       "3        1729        1581        1622  \n",
       "4         414         342         339  \n",
       "\n",
       "[5 rows x 64 columns]"
      ]
     },
     "execution_count": 23,
     "metadata": {},
     "output_type": "execute_result"
    }
   ],
   "source": [
    "df1.head()"
   ]
  },
  {
   "cell_type": "code",
   "execution_count": 24,
   "metadata": {},
   "outputs": [
    {
     "data": {
      "text/plain": [
       "Text(0, 0.5, 'Pies Consumed')"
      ]
     },
     "execution_count": 24,
     "metadata": {},
     "output_type": "execute_result"
    },
    {
     "data": {
      "image/png": "[encoded data removed]",
      "text/plain": [
       "<Figure size 432x288 with 1 Axes>"
      ]
     },
     "metadata": {},
     "output_type": "display_data"
    }
   ],
   "source": [
    "plotdata = pd.DataFrame({\n",
    "    \"pies_2018\":[40, 12, 10, 26, 36],\n",
    "    \"pies_2019\":[19, 8, 30, 21, 38],\n",
    "    \"pies_2020\":[10, 10, 42, 17, 37]\n",
    "    }, \n",
    "    index=[\"Dad\", \"Mam\", \"Bro\", \"Sis\", \"Me\"]\n",
    ")\n",
    "plotdata.plot(kind=\"bar\")\n",
    "plt.title(\"Mince Pie Consumption Study\")\n",
    "plt.xlabel(\"Family Member\")\n",
    "plt.ylabel(\"Pies Consumed\")"
   ]
  },
  {
   "cell_type": "code",
   "execution_count": 25,
   "metadata": {},
   "outputs": [
    {
     "data": {
      "text/html": [
       "<div>\n",
       "<style scoped>\n",
       "    .dataframe tbody tr th:only-of-type {\n",
       "        vertical-align: middle;\n",
       "    }\n",
       "\n",
       "    .dataframe tbody tr th {\n",
       "        vertical-align: top;\n",
       "    }\n",
       "\n",
       "    .dataframe thead th {\n",
       "        text-align: right;\n",
       "    }\n",
       "</style>\n",
       "<table border=\"1\" class=\"dataframe\">\n",
       "  <thead>\n",
       "    <tr style=\"text-align: right;\">\n",
       "      <th></th>\n",
       "      <th>pies_2018</th>\n",
       "      <th>pies_2019</th>\n",
       "      <th>pies_2020</th>\n",
       "    </tr>\n",
       "  </thead>\n",
       "  <tbody>\n",
       "    <tr>\n",
       "      <th>Dad</th>\n",
       "      <td>40</td>\n",
       "      <td>19</td>\n",
       "      <td>10</td>\n",
       "    </tr>\n",
       "    <tr>\n",
       "      <th>Mam</th>\n",
       "      <td>12</td>\n",
       "      <td>8</td>\n",
       "      <td>10</td>\n",
       "    </tr>\n",
       "    <tr>\n",
       "      <th>Bro</th>\n",
       "      <td>10</td>\n",
       "      <td>30</td>\n",
       "      <td>42</td>\n",
       "    </tr>\n",
       "    <tr>\n",
       "      <th>Sis</th>\n",
       "      <td>26</td>\n",
       "      <td>21</td>\n",
       "      <td>17</td>\n",
       "    </tr>\n",
       "    <tr>\n",
       "      <th>Me</th>\n",
       "      <td>36</td>\n",
       "      <td>38</td>\n",
       "      <td>37</td>\n",
       "    </tr>\n",
       "  </tbody>\n",
       "</table>\n",
       "</div>"
      ],
      "text/plain": [
       "     pies_2018  pies_2019  pies_2020\n",
       "Dad         40         19         10\n",
       "Mam         12          8         10\n",
       "Bro         10         30         42\n",
       "Sis         26         21         17\n",
       "Me          36         38         37"
      ]
     },
     "execution_count": 25,
     "metadata": {},
     "output_type": "execute_result"
    }
   ],
   "source": [
    "x= pd.DataFrame({\n",
    "    \"pies_2018\":[40, 12, 10, 26, 36],\n",
    "    \"pies_2019\":[19, 8, 30, 21, 38],\n",
    "    \"pies_2020\":[10, 10, 42, 17, 37]\n",
    "    }, \n",
    "    index=[\"Dad\", \"Mam\", \"Bro\", \"Sis\", \"Me\"])\n",
    "x.head()"
   ]
  },
  {
   "cell_type": "code",
   "execution_count": 32,
   "metadata": {},
   "outputs": [
    {
     "data": {
      "text/plain": [
       "Text(0, 0.5, 'Pies Consumed')"
      ]
     },
     "execution_count": 32,
     "metadata": {},
     "output_type": "execute_result"
    },
    {
     "data": {
      "image/png": "[encoded data removed]",
      "text/plain": [
       "<Figure size 432x288 with 1 Axes>"
      ]
     },
     "metadata": {},
     "output_type": "display_data"
    }
   ],
   "source": [
    "plotdata = pd.DataFrame(x)\n",
    "plotdata.plot(kind=\"barh\")\n",
    "plt.title(\"Mince Pie Consumption Study\")\n",
    "plt.xlabel(\"Family Member\")\n",
    "plt.ylabel(\"Pies Consumed\")"
   ]
  },
  {
   "cell_type": "code",
   "execution_count": 45,
   "metadata": {},
   "outputs": [
    {
     "data": {
      "text/plain": [
       "Text(0, 0.5, 'Pies Consumed')"
      ]
     },
     "execution_count": 45,
     "metadata": {},
     "output_type": "execute_result"
    },
    {
     "data": {
      "image/png": "[encoded data removed]",
      "text/plain": [
       "<Figure size 432x288 with 1 Axes>"
      ]
     },
     "metadata": {},
     "output_type": "display_data"
    }
   ],
   "source": [
    "# Adding the stacked=True option to plot() \n",
    "# creates a stacked bar plot\n",
    "plotdata.plot(kind='barh', stacked=True).legend(\n",
    "    loc='lower right', ncol=1, title=\"Year \")\n",
    "plt.title(\"Total Pie Consumption\")\n",
    "plt.xlabel(\"Family Member\")\n",
    "plt.ylabel(\"Pies Consumed\")"
   ]
  },
  {
   "cell_type": "code",
   "execution_count": 6,
   "metadata": {},
   "outputs": [
    {
     "name": "stdout",
     "output_type": "stream",
     "text": [
      "YES! We have a match!\n"
     ]
    }
   ],
   "source": [
    "    # RegEx in Python\n",
    "    # When you have imported the re module, you can start using regular expressions:\n",
    "import re\n",
    "txt = \"The rain in Spain\"\n",
    "x = re.search(\"^The.*Spain$\", txt)\n",
    "\n",
    "if x:\n",
    "  print(\"YES! We have a match!\")\n",
    "else:\n",
    "  print(\"No match\")"
   ]
  },
  {
   "cell_type": "code",
   "execution_count": null,
   "metadata": {},
   "outputs": [],
   "source": [
    "\n"
   ]
  },
  {
   "cell_type": "code",
   "execution_count": null,
   "metadata": {},
   "outputs": [],
   "source": []
  },
  {
   "cell_type": "code",
   "execution_count": null,
   "metadata": {},
   "outputs": [],
   "source": [
    "import urllib\n",
    "import requests"
   ]
  },
  {
   "cell_type": "code",
   "execution_count": null,
   "metadata": {},
   "outputs": [],
   "source": [
    "dls = \"https://ncses.nsf.gov/pubs/nsf20311#&/nsf20311-tab002\"\n",
    "urllib.urlretrieve(dls, \"test.xls\")"
   ]
  },
  {
   "cell_type": "code",
   "execution_count": null,
   "metadata": {},
   "outputs": [],
   "source": [
    "import requests\n",
    "dls = \"https://ncses.nsf.gov/pubs/nsf20311#&/nsf20311-tab002.xlsx\"\n",
    "resp = requests.get(dls)\n",
    "\n",
    "output = open('test.xls', 'wb')\n",
    "output.write(resp.content)\n",
    "output.close()"
   ]
  },
  {
   "cell_type": "code",
   "execution_count": null,
   "metadata": {},
   "outputs": [],
   "source": [
    "type(output)"
   ]
  },
  {
   "cell_type": "code",
   "execution_count": null,
   "metadata": {},
   "outputs": [],
   "source": [
    "import io\n",
    "import requests, zipfile  #, StringIO\n",
    "\n",
    "# r = requests.get(\"https://ncsesdata.nsf.gov/datadownload/psd17Public.zip\", stream=True)\n",
    "# z = zipfile.ZipFile(io.StringIO(r.content))\n",
    "# z.extractall()\n",
    "import requests, zipfile, io\n",
    "r = requests.get(\"https://www.nsf.gov/statistics/ffrdc/pub_data.cfm/data/exp2018.xlsx.zip\", stream=True)\n",
    "z = zipfile.ZipFile(io.BytesIO(r.content))\n",
    "z.extractall()"
   ]
  },
  {
   "cell_type": "code",
   "execution_count": null,
   "metadata": {},
   "outputs": [],
   "source": [
    "url=\"https://raw.githubusercontent.com/cs109/2014_data/master/countries.csv\"\n",
    "c=pd.read_csv(url)"
   ]
  },
  {
   "cell_type": "code",
   "execution_count": null,
   "metadata": {},
   "outputs": [],
   "source": [
    "c.columns"
   ]
  },
  {
   "cell_type": "code",
   "execution_count": null,
   "metadata": {},
   "outputs": [],
   "source": [
    "c.head() "
   ]
  },
  {
   "cell_type": "code",
   "execution_count": null,
   "metadata": {},
   "outputs": [],
   "source": []
  },
  {
   "cell_type": "code",
   "execution_count": null,
   "metadata": {},
   "outputs": [],
   "source": [
    "## https://chihacknight.org/blog/2014/11/26/an-intro-to-web-scraping-with-python.html\n",
    "\n",
    "## Web scarapping of data using python for .cfm files. This is especially useful to scarap data from NSF/ NCSES .cfm data website"
   ]
  },
  {
   "cell_type": "code",
   "execution_count": 1,
   "metadata": {},
   "outputs": [],
   "source": [
    "from bs4 import BeautifulSoup\n",
    "import requests\n",
    "import pandas as pd"
   ]
  },
  {
   "cell_type": "code",
   "execution_count": 3,
   "metadata": {},
   "outputs": [],
   "source": [
    "#url = \"https://www.akc.org/reg/dogreg_stats.cfm\"\n",
    "url = \"https://www.nsf.gov/statistics/data.cfm\"\n",
    "r = requests.get(url)\n",
    "data = r.text\n",
    "soup = BeautifulSoup(data)"
   ]
  },
  {
   "cell_type": "code",
   "execution_count": 5,
   "metadata": {},
   "outputs": [
    {
     "ename": "IndexError",
     "evalue": "list index out of range",
     "output_type": "error",
     "traceback": [
      "\u001b[1;31m---------------------------------------------------------------------------\u001b[0m",
      "\u001b[1;31mIndexError\u001b[0m                                Traceback (most recent call last)",
      "\u001b[1;32m<ipython-input-5-969e4f89ce29>\u001b[0m in \u001b[0;36m<module>\u001b[1;34m\u001b[0m\n\u001b[0;32m      6\u001b[0m \u001b[1;33m\u001b[0m\u001b[0m\n\u001b[0;32m      7\u001b[0m \u001b[1;33m\u001b[0m\u001b[0m\n\u001b[1;32m----> 8\u001b[1;33m \u001b[0mtable\u001b[0m \u001b[1;33m=\u001b[0m \u001b[0msoup\u001b[0m\u001b[1;33m.\u001b[0m\u001b[0mfind_all\u001b[0m\u001b[1;33m(\u001b[0m\u001b[1;34m'table'\u001b[0m\u001b[1;33m)\u001b[0m\u001b[1;33m[\u001b[0m\u001b[1;36m1\u001b[0m\u001b[1;33m]\u001b[0m\u001b[1;33m\u001b[0m\u001b[1;33m\u001b[0m\u001b[0m\n\u001b[0m\u001b[0;32m      9\u001b[0m \u001b[0mrows\u001b[0m \u001b[1;33m=\u001b[0m \u001b[0mtable\u001b[0m\u001b[1;33m.\u001b[0m\u001b[0mfind_all\u001b[0m\u001b[1;33m(\u001b[0m\u001b[1;34m'tr'\u001b[0m\u001b[1;33m)\u001b[0m\u001b[1;33m[\u001b[0m\u001b[1;36m2\u001b[0m\u001b[1;33m:\u001b[0m\u001b[1;33m]\u001b[0m\u001b[1;33m\u001b[0m\u001b[1;33m\u001b[0m\u001b[0m\n\u001b[0;32m     10\u001b[0m \u001b[1;33m\u001b[0m\u001b[0m\n",
      "\u001b[1;31mIndexError\u001b[0m: list index out of range"
     ]
    }
   ],
   "source": [
    "url = \"https://www.akc.org/reg/dogreg_stats.cfm\"\n",
    "r = requests.get(url)\n",
    "data = r.text\n",
    "soup = BeautifulSoup(data)\n",
    "\n",
    "\n",
    "\n",
    "table = soup.find_all('table')[1]\n",
    "rows = table.find_all('tr')[2:]\n",
    "\n",
    "data = {\n",
    "    'breeds' : [],\n",
    "    'rank2013' : [],\n",
    "    'rank2012' : [],\n",
    "    'rank2008' : [],\n",
    "    'rank2003' : []\n",
    "}\n",
    "\n",
    "for row in rows:\n",
    "    cols = row.find_all('td')\n",
    "    data['breeds'].append( cols[0].get_text() )\n",
    "    data['rank2013'].append( cols[1].get_text() )\n",
    "    data['rank2012'].append( cols[2].get_text() )\n",
    "    data['rank2008'].append( cols[3].get_text() )\n",
    "    data['rank2003'].append( cols[4].get_text() )\n",
    "\n",
    "dogData = pd.DataFrame( data )\n",
    "dogData.to_csv(\"AKC_Dog_Registrations.csv\")"
   ]
  },
  {
   "cell_type": "code",
   "execution_count": null,
   "metadata": {},
   "outputs": [],
   "source": [
    "#conn = pyodbc.connect(\"Driver={SQL Server};\"\n",
    "#                       \"Server=DESKTOP-MS8S2RN;\"\n",
    "#                       \"Database=NCSES;\"\n",
    "#                       \"Trusted_Connection=yes;\"\n",
    "# )   \n",
    "\n",
    "# cursor = conn.cursor()\n",
    "# cursor.execute(\"SELECT * from dbo.SED1\")\n",
    "# for row in cursor:\n",
    "#     print(row)  "
   ]
  }
 ],
 "metadata": {
  "hide_input": false,
  "kernelspec": {
   "display_name": "Python 3",
   "language": "python",
   "name": "python3"
  },
  "language_info": {
   "codemirror_mode": {
    "name": "ipython",
    "version": 3
   },
   "file_extension": ".py",
   "mimetype": "text/x-python",
   "name": "python",
   "nbconvert_exporter": "python",
   "pygments_lexer": "ipython3",
   "version": "3.7.1"
  }
 },
 "nbformat": 4,
 "nbformat_minor": 4
}
