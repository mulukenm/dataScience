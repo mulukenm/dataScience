{
 "cells": [
  {
   "cell_type": "markdown",
   "metadata": {},
   "source": [
    "# Introduction to NumPy\n",
    "This section provides an introduction to NumPy. NumPy is a very useful Python library for performing mathematical and logical operations on arrays.  Effective data-driven science and computation requires understanding how data is stored and manipulated. NumPy provides abundance useful features to implement efficient computations. NumPy offers comprehensive mathematical functions, random number generators, linear algebra routines, Fourier transforms, and more. NumPy is so important in the Python data science. It provides an easy and flexible interface to optimized computation with arrays of data. This notebook provides a summary of NumPy with respect to its usage in data science.\n"
   ]
  },
  {
   "cell_type": "code",
   "execution_count": 1,
   "metadata": {},
   "outputs": [
    {
     "data": {
      "text/plain": [
       "'1.20.3'"
      ]
     },
     "execution_count": 1,
     "metadata": {},
     "output_type": "execute_result"
    }
   ],
   "source": [
    "# Importing NumPy with alias and looking its version\n",
    "import numpy as np\n",
    "np.__version__"
   ]
  },
  {
   "cell_type": "markdown",
   "metadata": {},
   "source": [
    "NumPy is used to work with arrays. The array object in NumPy is called ndarray. To create an ndarray, we can pass a list, tuple or any array-like object into the array() method, and it will be converted into an ndarray.\n",
    "\n",
    "Advantages of NumPy array over list:\n",
    "* Save coding time: Array can directly handle arithmetic operations; no need of loops as a result many vector and matrix operations save coding time\n",
    "* Faster execution: As the elements of the array are belonging to the same data type, there is no need of checking data types during execution; uses contiguous blockes of memory\n",
    "* Uses less memory: No pointers are needed; type and itemsize are the same for the same columns\n",
    "\n",
    "The following is the general difference between array and list data types:\n",
    "\n",
    "| Array | List | \n",
    "|----|---|\n",
    "| Only consists of elements belonging to the same data type | Can consist of elements belonging to different data types |\n",
    "| No type checking at runtime | Type checking for each item |\n",
    "| Type stored once in array metadata | Must store type for each item |\n",
    "| Need to explicitly import a module for declaration | No need to explicitly import a module for declaration |\n",
    "| Can directly handle arithmetic operations | Cannot directly handle arithmetic operations |\n",
    "| Must contain either all nested elements of same size | Can be nested to contain different type of elements |\n",
    "| Preferred for longer sequence of data items | Preferred for shorter sequence of data items |\n",
    "| Less flexibility since addition, deletion has to be done element wise | Greater flexibility allows easy modification (addition, deletion) of data | \n",
    "| A loop has to be formed to print or access the components of array | The entire list can be printed without any explicit looping|\t   \n",
    "| Comparatively more compact in memory size | Consume larger memory for easy addition of elements |\n",
    "| Faster, uses less memory | Slower,  uses ~3x more memory|\n",
    "\n"
   ]
  },
  {
   "cell_type": "code",
   "execution_count": 2,
   "metadata": {},
   "outputs": [
    {
     "name": "stdout",
     "output_type": "stream",
     "text": [
      "[1, 2, 3, 4, 5]\n",
      "Data type of my_list1 <class 'list'>\n",
      "[1 2 3 4 5]\n",
      "Data type of my_array1 <class 'numpy.ndarray'>\n",
      "[1, 2, 3, 4, 5]\n",
      "Data type of my_list2 <class 'list'>\n",
      "[1 2 3 4 5]\n",
      "Data type of my_array2 <class 'numpy.ndarray'>\n",
      "[1 2 3 4 5]\n",
      "Data type of my_array2 <class 'numpy.ndarray'>\n"
     ]
    }
   ],
   "source": [
    "# Looking array versus list\n",
    "my_list1 = [1, 2, 3, 4, 5]\n",
    "print(my_list1)\n",
    "print('Data type of my_list1',type(my_list1) )\n",
    "\n",
    "my_array1 = np.arange(1, 6)  # Numpy array using arange() function\n",
    "print(my_array1)\n",
    "print('Data type of my_array1',type(my_array1))\n",
    "\n",
    "my_list2 = list(range(1,6))\n",
    "print(my_list2)\n",
    "print('Data type of my_list2',type(my_list2) )\n",
    "\n",
    "my_array2 = np.array(my_list2) # Numpy array from a list\n",
    "print(my_array2)\n",
    "print('Data type of my_array2',type(my_array2))\n",
    "\n",
    "my_array3 = np.array(range(1,6)) # Numpy array from a range()\n",
    "print(my_array3)\n",
    "print('Data type of my_array2',type(my_array3))\n"
   ]
  },
  {
   "cell_type": "code",
   "execution_count": 3,
   "metadata": {},
   "outputs": [
    {
     "name": "stdout",
     "output_type": "stream",
     "text": [
      "[3, 6, 9, 12, 15]\n"
     ]
    },
    {
     "data": {
      "text/plain": [
       "[3, 6, 9, 12, 15]"
      ]
     },
     "execution_count": 3,
     "metadata": {},
     "output_type": "execute_result"
    }
   ],
   "source": [
    "for i in range(len(my_list1)):\n",
    "        my_list1[i] *= 3\n",
    "        \n",
    "# Notice the outputs using print function and putting the list name -- no difference\n",
    "print(my_list1)\n",
    "my_list1        "
   ]
  },
  {
   "cell_type": "code",
   "execution_count": 4,
   "metadata": {},
   "outputs": [
    {
     "name": "stdout",
     "output_type": "stream",
     "text": [
      "[ 3  6  9 12 15]\n"
     ]
    },
    {
     "data": {
      "text/plain": [
       "array([ 3,  6,  9, 12, 15])"
      ]
     },
     "execution_count": 4,
     "metadata": {},
     "output_type": "execute_result"
    }
   ],
   "source": [
    "my_array1 *= 3\n",
    "\n",
    "# Notice the outputs using print function and putting the array name with no print function\n",
    "print(my_array1)\n",
    "my_array1"
   ]
  },
  {
   "cell_type": "markdown",
   "metadata": {},
   "source": [
    "#### Exploring arrays"
   ]
  },
  {
   "cell_type": "code",
   "execution_count": 5,
   "metadata": {},
   "outputs": [
    {
     "name": "stdout",
     "output_type": "stream",
     "text": [
      "[0 1 2 3 4 5 6 7 8 9]\n"
     ]
    }
   ],
   "source": [
    "arr = np.array(range(10))   # Numpy array from a range\n",
    "print(arr)"
   ]
  },
  {
   "cell_type": "code",
   "execution_count": 6,
   "metadata": {},
   "outputs": [
    {
     "data": {
      "text/plain": [
       "array([[2, 3, 4],\n",
       "       [4, 5, 6],\n",
       "       [6, 7, 8]])"
      ]
     },
     "execution_count": 6,
     "metadata": {},
     "output_type": "execute_result"
    }
   ],
   "source": [
    "# nested lists result in multi-dimensional arrays \n",
    "arr1 = np.array([range(i, i + 3) for i in [2, 4, 6]])\n",
    "\n",
    "arr1"
   ]
  },
  {
   "cell_type": "code",
   "execution_count": 7,
   "metadata": {},
   "outputs": [
    {
     "data": {
      "text/plain": [
       "[1, 2, 3, 4, 5]"
      ]
     },
     "execution_count": 7,
     "metadata": {},
     "output_type": "execute_result"
    }
   ],
   "source": [
    "# A List\n",
    "my_list = [1, 2, 3, 4, 5]\n",
    "my_list"
   ]
  },
  {
   "cell_type": "code",
   "execution_count": 8,
   "metadata": {},
   "outputs": [
    {
     "data": {
      "text/plain": [
       "array([1, 2, 3, 4, 5])"
      ]
     },
     "execution_count": 8,
     "metadata": {},
     "output_type": "execute_result"
    }
   ],
   "source": [
    "# List to array\n",
    "my_numpy_list = np.array(my_list)\n",
    "my_numpy_list  #This line show the result of the array generated"
   ]
  },
  {
   "cell_type": "code",
   "execution_count": 9,
   "metadata": {},
   "outputs": [
    {
     "data": {
      "text/plain": [
       "array([[1, 2, 3],\n",
       "       [5, 4, 1],\n",
       "       [3, 6, 7]])"
      ]
     },
     "execution_count": 9,
     "metadata": {},
     "output_type": "execute_result"
    }
   ],
   "source": [
    "#two-dimesional array from nested list\n",
    "second_list = [[1,2,3], [5,4,1], [3,6,7]]\n",
    "new_2d_arr = np.array(second_list)\n",
    "new_2d_arr  #This line show the result of the array generated"
   ]
  },
  {
   "cell_type": "code",
   "execution_count": 10,
   "metadata": {},
   "outputs": [
    {
     "data": {
      "text/plain": [
       "array([0, 1, 2, 3, 4, 5, 6, 7, 8, 9])"
      ]
     },
     "execution_count": 10,
     "metadata": {},
     "output_type": "execute_result"
    }
   ],
   "source": [
    "# Numpy array using arrange() function\n",
    "my_list = np.arange(10)\n",
    "my_list"
   ]
  },
  {
   "cell_type": "markdown",
   "metadata": {},
   "source": [
    "## Computation of NumPy arrays\n",
    "\n",
    "Computation on NumPy arrays can be very fast, or can be very slow. Using vectorized operations which is, generally implemented through NumPy universal functions (ufuncs) makes computation faster. A universal function (or ufunc for short) is a function that operates on ndarrays in an element-by-element fashion, supporting array broadcasting, type casting, and several other standard features. "
   ]
  },
  {
   "cell_type": "markdown",
   "metadata": {},
   "source": [
    "#### Comparison of time taking: List vs Array\n",
    "\n",
    "As the data is getting bigger and bigger NumPy provides efficient storage and manipulation efficiency."
   ]
  },
  {
   "cell_type": "code",
   "execution_count": 11,
   "metadata": {},
   "outputs": [
    {
     "name": "stdout",
     "output_type": "stream",
     "text": [
      "size: 10000000 time:1.943561\n"
     ]
    }
   ],
   "source": [
    "import time\n",
    "start = time.time()\n",
    "my_list =  list(range(10000000))\n",
    "for i in range(len(my_list)):\n",
    "        my_list[i] *= 3\n",
    "end = time.time()  \n",
    "print(\"size: %d time:%f\" % (len(my_list), end -start))"
   ]
  },
  {
   "cell_type": "code",
   "execution_count": 12,
   "metadata": {},
   "outputs": [
    {
     "name": "stdout",
     "output_type": "stream",
     "text": [
      "size: 10000000 time:0.024959\n"
     ]
    }
   ],
   "source": [
    "start = time.time()\n",
    "my_array = np.arange(10000000)\n",
    "my_array *= 3\n",
    "end = time.time()  \n",
    "print(\"size: %d time:%f\" % (len(my_array), end -start))"
   ]
  },
  {
   "cell_type": "markdown",
   "metadata": {},
   "source": [
    "#### Exploring NumPy UFuncs"
   ]
  },
  {
   "cell_type": "code",
   "execution_count": 13,
   "metadata": {},
   "outputs": [
    {
     "data": {
      "text/plain": [
       "array([3, 2, 1, 0, 1, 2, 3])"
      ]
     },
     "execution_count": 13,
     "metadata": {},
     "output_type": "execute_result"
    }
   ],
   "source": [
    "# Absolute value\n",
    "x = np.array([-3, -2, -1, 0, 1, 2, 3])\n",
    "abs(x)"
   ]
  },
  {
   "cell_type": "code",
   "execution_count": 14,
   "metadata": {},
   "outputs": [
    {
     "data": {
      "text/plain": [
       "array([3, 2, 1, 0, 1, 2, 3])"
      ]
     },
     "execution_count": 14,
     "metadata": {},
     "output_type": "execute_result"
    }
   ],
   "source": [
    "# Absolute value using Ufunc  np.absolute() or np.abs()\n",
    "np.absolute(x)"
   ]
  },
  {
   "cell_type": "code",
   "execution_count": 15,
   "metadata": {},
   "outputs": [
    {
     "data": {
      "text/plain": [
       "array([3, 2, 1, 0, 1, 2, 3])"
      ]
     },
     "execution_count": 15,
     "metadata": {},
     "output_type": "execute_result"
    }
   ],
   "source": [
    "np.abs(x)"
   ]
  },
  {
   "cell_type": "code",
   "execution_count": 16,
   "metadata": {},
   "outputs": [
    {
     "data": {
      "text/plain": [
       "3"
      ]
     },
     "execution_count": 16,
     "metadata": {},
     "output_type": "execute_result"
    }
   ],
   "source": [
    "np.max(x)"
   ]
  },
  {
   "cell_type": "code",
   "execution_count": 17,
   "metadata": {},
   "outputs": [
    {
     "data": {
      "text/plain": [
       "-3"
      ]
     },
     "execution_count": 17,
     "metadata": {},
     "output_type": "execute_result"
    }
   ],
   "source": [
    "np.min(x)"
   ]
  },
  {
   "cell_type": "code",
   "execution_count": 18,
   "metadata": {},
   "outputs": [
    {
     "data": {
      "text/plain": [
       "0.0"
      ]
     },
     "execution_count": 18,
     "metadata": {},
     "output_type": "execute_result"
    }
   ],
   "source": [
    "np.mean(x)"
   ]
  },
  {
   "cell_type": "code",
   "execution_count": null,
   "metadata": {},
   "outputs": [],
   "source": []
  },
  {
   "cell_type": "code",
   "execution_count": null,
   "metadata": {},
   "outputs": [],
   "source": []
  }
 ],
 "metadata": {
  "hide_input": false,
  "kernelspec": {
   "display_name": "Python 3 (ipykernel)",
   "language": "python",
   "name": "python3"
  },
  "language_info": {
   "codemirror_mode": {
    "name": "ipython",
    "version": 3
   },
   "file_extension": ".py",
   "mimetype": "text/x-python",
   "name": "python",
   "nbconvert_exporter": "python",
   "pygments_lexer": "ipython3",
   "version": "3.8.11"
  },
  "latex_envs": {
   "LaTeX_envs_menu_present": true,
   "autoclose": false,
   "autocomplete": true,
   "bibliofile": "biblio.bib",
   "cite_by": "apalike",
   "current_citInitial": 1,
   "eqLabelWithNumbers": true,
   "eqNumInitial": 1,
   "hotkeys": {
    "equation": "Ctrl-E",
    "itemize": "Ctrl-I"
   },
   "labels_anchors": false,
   "latex_user_defs": false,
   "report_style_numbering": false,
   "user_envs_cfg": false
  },
  "varInspector": {
   "cols": {
    "lenName": 16,
    "lenType": 16,
    "lenVar": 40
   },
   "kernels_config": {
    "python": {
     "delete_cmd_postfix": "",
     "delete_cmd_prefix": "del ",
     "library": "var_list.py",
     "varRefreshCmd": "print(var_dic_list())"
    },
    "r": {
     "delete_cmd_postfix": ") ",
     "delete_cmd_prefix": "rm(",
     "library": "var_list.r",
     "varRefreshCmd": "cat(var_dic_list()) "
    }
   },
   "types_to_exclude": [
    "module",
    "function",
    "builtin_function_or_method",
    "instance",
    "_Feature"
   ],
   "window_display": false
  }
 },
 "nbformat": 4,
 "nbformat_minor": 4
}
