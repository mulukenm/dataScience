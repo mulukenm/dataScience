{
 "cells": [
  {
   "cell_type": "markdown",
   "id": "derived-tracy",
   "metadata": {},
   "source": [
    "# Data and Database\n",
    "\n",
    "In data science, getting data is the major component of the process after formulating the problem at hand. Data can be collected from different sources in different format. For the purpose of this notebook, we can categorize the sources (based on formats) into:\n",
    "\n",
    "* Text Files: Text files can be in different formats (both online or saved in a local drive). The most common formats are Excel,  csv, txt, pdf, etc...\n",
    "* Webscraping: Python has tools to access and extract data from websites. Beautiful Soup is one of the well known libraries to for pulling data out of HTML and XML files.\n",
    "* Application Programming Interface (APIs): API is a software intermediary that allows two applications to talk to each other. \n",
    "* Database: There are several database types such as Relational, NoSQL, Hierarchical, Network, and Object-Oriented databases. This notebook will focus on relational database.\n",
    "\n",
    "To pull of data from a database, Python has libraries such as pyodbc and SQLalchemy. The following is an example of pulling data from Microsoft SQL Server DB with pyodbc and SQLalchemy in conjunction with pandas library.\n"
   ]
  },
  {
   "cell_type": "code",
   "execution_count": null,
   "id": "impressive-bikini",
   "metadata": {},
   "outputs": [],
   "source": [
    "import pandas as pd\n",
    "import pyodbc\n",
    "import sqlalchemy as sal"
   ]
  },
  {
   "cell_type": "code",
   "execution_count": null,
   "id": "sharp-pipeline",
   "metadata": {},
   "outputs": [],
   "source": [
    "# Reading data from SQL Server in local machine\n",
    "conn = pyodbc.connect(\"Driver={SQL Server};\"\n",
    "                      \"Server=DESKTOP-MS8S2RN;\"\n",
    "                      \"Database=NCSES;\"\n",
    "                      \"Trusted_Connection=yes;\"\n",
    ")   \n",
    "\n",
    "cursor = conn.cursor()\n",
    "\n",
    "df = pd.read_sql_query('SELECT * from dbo.SED1',conn)\n",
    "df = df.set_index(['S&E Fields', 'Broad Fields', 'Detailed Fields'])\n",
    "df.head()\n"
   ]
  },
  {
   "cell_type": "code",
   "execution_count": null,
   "id": "reliable-correspondence",
   "metadata": {},
   "outputs": [],
   "source": [
    "server_name = 'DESKTOP-MS8S2RN'\n",
    "database_name = 'NCSES'\n",
    "engine = sal.create_engine('mssql+pyodbc://server_name/database_name?driver=SQL Server?Trusted_Connection=yes')\n",
    "\n",
    "\n",
    "\n",
    "# establishing the connection to the databse using engine as an interface\n",
    "conn = engine.connect()\n",
    "\n",
    "\n",
    "# df = pd.read_sql(query, conn)\n",
    "# df.head()\n",
    "\n",
    "# printing names of the tables present in the database\n",
    "#print(engine.table_names())"
   ]
  },
  {
   "cell_type": "code",
   "execution_count": null,
   "id": "jewish-bailey",
   "metadata": {},
   "outputs": [],
   "source": []
  },
  {
   "cell_type": "code",
   "execution_count": null,
   "id": "falling-karen",
   "metadata": {},
   "outputs": [],
   "source": [
    "engine"
   ]
  },
  {
   "cell_type": "code",
   "execution_count": null,
   "id": "accepted-tobago",
   "metadata": {},
   "outputs": [],
   "source": []
  }
 ],
 "metadata": {
  "hide_input": false,
  "kernelspec": {
   "display_name": "Python 3",
   "language": "python",
   "name": "python3"
  },
  "language_info": {
   "codemirror_mode": {
    "name": "ipython",
    "version": 3
   },
   "file_extension": ".py",
   "mimetype": "text/x-python",
   "name": "python",
   "nbconvert_exporter": "python",
   "pygments_lexer": "ipython3",
   "version": "3.8.5"
  }
 },
 "nbformat": 4,
 "nbformat_minor": 5
}
