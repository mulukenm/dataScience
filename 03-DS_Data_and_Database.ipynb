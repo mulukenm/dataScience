{
 "cells": [
  {
   "cell_type": "markdown",
   "id": "viral-snake",
   "metadata": {},
   "source": [
    "# Data and Database\n",
    "\n",
    "In data science, getting data is the major component of the process after formulating the problem at hand. Data can be collected from different sources in different format. For the purpose of this notebook, we can categorize the sources (based on formats) into:\n",
    "\n",
    "* Text Files: Text files can be in different formats (both online or saved in a local drive). The most common formats are Excel,  csv, txt, pdf, etc...\n",
    "* Webscraping: Python has tools to access and extract data from websites. Beautiful Soup is one of the well known libraries to for pulling data out of HTML and XML files.\n",
    "* Application Programming Interface (APIs): API is a software intermediary that allows two applications to talk to each other. \n",
    "* Database: There are several database types such as Relational, NoSQL, Hierarchical, Network, and Object-Oriented databases. This notebook will focus on relational database.\n"
   ]
  },
  {
   "cell_type": "code",
   "execution_count": null,
   "id": "trying-lobby",
   "metadata": {},
   "outputs": [],
   "source": []
  }
 ],
 "metadata": {
  "hide_input": false,
  "kernelspec": {
   "display_name": "Python 3",
   "language": "python",
   "name": "python3"
  },
  "language_info": {
   "codemirror_mode": {
    "name": "ipython",
    "version": 3
   },
   "file_extension": ".py",
   "mimetype": "text/x-python",
   "name": "python",
   "nbconvert_exporter": "python",
   "pygments_lexer": "ipython3",
   "version": "3.8.5"
  }
 },
 "nbformat": 4,
 "nbformat_minor": 5
}
