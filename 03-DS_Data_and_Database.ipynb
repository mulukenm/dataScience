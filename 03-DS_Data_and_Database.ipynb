{
 "cells": [
  {
   "cell_type": "markdown",
   "id": "subjective-rwanda",
   "metadata": {},
   "source": [
    "# Data and Database\n",
    "\n",
    "In data science, getting data and preprocessing is the major component of the process after formulating the problem at hand. Data can be collected from different sources in different format. For the purpose of this notebook, we can categorize the sources (based on formats) into:\n",
    "\n",
    "* Text Files: Text files can be in different formats (both online or saved in a local drive). The most common formats are Excel,  csv, txt, pdf, etc ...\n",
    "* Webscraping: Python has tools to access and extract data from websites. Beautiful Soup is one of the well known libraries to for pulling data out of HTML and XML files.\n",
    "* Application Programming Interface (APIs): API is a software intermediary that allows two applications to talk to each other. APIs provide many efficiencies over using static data downloads (such as CSV files). These include the ability to work with rapidly changing data or working with data from which you only want a small chunk (say, today’s temperature, compared to downloading a whole trove of weather data). \n",
    "* Database: There are several database types such as Relational, NoSQL, Hierarchical, Network, and Object-Oriented databases. This notebook will focus on relational database.\n",
    "\n",
    "To pull of data from a database, Python has libraries such as pyodbc and SQLalchemy. The following is an example of pulling data from Microsoft SQL Server DB with pyodbc and SQLalchemy in conjunction with pandas library.\n"
   ]
  },
  {
   "cell_type": "code",
   "execution_count": 1,
   "id": "thick-appreciation",
   "metadata": {},
   "outputs": [],
   "source": [
    "import pandas as pd\n",
    "import pyodbc\n",
    "import sqlalchemy as sal\n",
    "import urllib.parse"
   ]
  },
  {
   "cell_type": "code",
   "execution_count": 2,
   "id": "nasty-locking",
   "metadata": {},
   "outputs": [
    {
     "name": "stdout",
     "output_type": "stream",
     "text": [
      "1.3.3\n",
      "4.0.0-unsupported\n",
      "1.4.22\n"
     ]
    }
   ],
   "source": [
    "print(pd.__version__)\n",
    "print(pyodbc.version)\n",
    "print(sal.__version__)"
   ]
  },
  {
   "cell_type": "code",
   "execution_count": 3,
   "id": "realistic-difficulty",
   "metadata": {},
   "outputs": [
    {
     "ename": "OperationalError",
     "evalue": "('08001', '[08001] [Microsoft][ODBC SQL Server Driver][DBNETLIB]SQL Server does not exist or access denied. (17) (SQLDriverConnect); [08001] [Microsoft][ODBC SQL Server Driver][DBNETLIB]ConnectionOpen (Connect()). (53)')",
     "output_type": "error",
     "traceback": [
      "\u001b[1;31m---------------------------------------------------------------------------\u001b[0m",
      "\u001b[1;31mOperationalError\u001b[0m                          Traceback (most recent call last)",
      "\u001b[1;32m~\\AppData\\Local\\Temp/ipykernel_12700/1828442457.py\u001b[0m in \u001b[0;36m<module>\u001b[1;34m\u001b[0m\n\u001b[0;32m      1\u001b[0m \u001b[1;31m# 1: Pyodbc ---- Reading data from SQL Server in local machine\u001b[0m\u001b[1;33m\u001b[0m\u001b[1;33m\u001b[0m\u001b[1;33m\u001b[0m\u001b[0m\n\u001b[0;32m      2\u001b[0m \u001b[1;33m\u001b[0m\u001b[0m\n\u001b[1;32m----> 3\u001b[1;33m conn = pyodbc.connect(\"Driver={SQL Server};\"\n\u001b[0m\u001b[0;32m      4\u001b[0m                       \u001b[1;34m\"Server=DESKTOP-MS8S2RN;\"\u001b[0m\u001b[1;33m\u001b[0m\u001b[1;33m\u001b[0m\u001b[0m\n\u001b[0;32m      5\u001b[0m                       \u001b[1;34m\"Database=NCSES;\"\u001b[0m\u001b[1;33m\u001b[0m\u001b[1;33m\u001b[0m\u001b[0m\n",
      "\u001b[1;31mOperationalError\u001b[0m: ('08001', '[08001] [Microsoft][ODBC SQL Server Driver][DBNETLIB]SQL Server does not exist or access denied. (17) (SQLDriverConnect); [08001] [Microsoft][ODBC SQL Server Driver][DBNETLIB]ConnectionOpen (Connect()). (53)')"
     ]
    }
   ],
   "source": [
    "# 1: Pyodbc ---- Reading data from SQL Server in local machine\n",
    "\n",
    "conn = pyodbc.connect(\"Driver={SQL Server};\"\n",
    "                      \"Server=DESKTOP-MS8S2RN;\"\n",
    "                      \"Database=NCSES;\"\n",
    "                      \"Trusted_Connection=yes;\"\n",
    ")   \n",
    "\n",
    "cursor = conn.cursor()\n",
    "\n",
    "df = pd.read_sql_query('SELECT * from dbo.SED1',conn)\n",
    "df = df.set_index(['S&E Fields', 'Broad Fields', 'Detailed Fields'])\n",
    "df.head()"
   ]
  },
  {
   "cell_type": "code",
   "execution_count": null,
   "id": "accessible-merit",
   "metadata": {},
   "outputs": [],
   "source": [
    "# 2: sqlalchemy (...Pyodbc) ----Reading data from SQL Server in local machine\n",
    "params = urllib.parse.quote_plus(\"Driver={SQL Server};\"\n",
    "                      \"Server=DESKTOP-MS8S2RN;\"\n",
    "                      \"Database=NCSES;\"\n",
    "                      \"Trusted_Connection=yes;\")\n",
    "\n",
    "engine1 = sal.create_engine(\"mssql+pyodbc:///?odbc_connect={}\".format(params))\n",
    "\n",
    "conn1 = engine1.connect()\n",
    "\n",
    "df1 = pd.read_sql_query('SELECT * from dbo.SED1',conn1)\n",
    "df1 = df1.set_index(['S&E Fields', 'Broad Fields', 'Detailed Fields'])\n",
    "df1.head()"
   ]
  },
  {
   "cell_type": "code",
   "execution_count": null,
   "id": "constitutional-chicken",
   "metadata": {},
   "outputs": [],
   "source": []
  },
  {
   "cell_type": "code",
   "execution_count": null,
   "id": "unexpected-brunswick",
   "metadata": {},
   "outputs": [],
   "source": []
  },
  {
   "cell_type": "code",
   "execution_count": null,
   "id": "d9009147",
   "metadata": {},
   "outputs": [],
   "source": []
  },
  {
   "cell_type": "code",
   "execution_count": null,
   "id": "0f0be13b",
   "metadata": {},
   "outputs": [],
   "source": []
  }
 ],
 "metadata": {
  "hide_input": false,
  "kernelspec": {
   "display_name": "Python 3 (ipykernel)",
   "language": "python",
   "name": "python3"
  },
  "language_info": {
   "codemirror_mode": {
    "name": "ipython",
    "version": 3
   },
   "file_extension": ".py",
   "mimetype": "text/x-python",
   "name": "python",
   "nbconvert_exporter": "python",
   "pygments_lexer": "ipython3",
   "version": "3.8.11"
  },
  "latex_envs": {
   "LaTeX_envs_menu_present": true,
   "autoclose": false,
   "autocomplete": true,
   "bibliofile": "biblio.bib",
   "cite_by": "apalike",
   "current_citInitial": 1,
   "eqLabelWithNumbers": true,
   "eqNumInitial": 1,
   "hotkeys": {
    "equation": "Ctrl-E",
    "itemize": "Ctrl-I"
   },
   "labels_anchors": false,
   "latex_user_defs": false,
   "report_style_numbering": false,
   "user_envs_cfg": false
  }
 },
 "nbformat": 4,
 "nbformat_minor": 5
}
