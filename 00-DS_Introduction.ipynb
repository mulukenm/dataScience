{
 "cells": [
  {
   "cell_type": "markdown",
   "metadata": {
    "hide_input": false
   },
   "source": [
    "# Introduction\n",
    "\n",
    "This notebook is an introduction to data science using Python. The introduction focuses on help and documentation, and exploring data structure in Python. \n",
    "\n",
    "###  What is Data Science?\n",
    "Data science is the practice of using data to try to understand and solve real-world problems. It is the process of finding hidden pattern from the raw/unstructured data. Data science requires programming and databases related skills, math, machine learning and statistics knowledge, and problem solving ability such as business understanding or substantive expertise in a domain of analysis at hand.\n",
    "\n",
    "Generally, the following a roadmap to be data scientist (Source: [Data Camp](https://www.datacamp.com/community/tutorials/how-to-become-a-data-scientist)):\n",
    "1. Get good at stats, math, and machine learning: \n",
    "   * Math especially linear algebra and calculus\n",
    "   * Probability and statistics such as p-value, t-test, F-test, estimates, central tendency....etc \n",
    "   * Machine learning algorithms -- how they are organized\n",
    "2. Learn to code: Python, R ...\n",
    "3. Understand databases: SQL, ORACLE, MySQL, ....\n",
    "4. Master data munging, visualization, and reporting\n",
    "5. Level up with big data: Apache Spark, Map reduce, Hadoop ....\n",
    "6. Get experience, PRACTICE, ......\n",
    "7. Internship, bootcamp, or get a job\n",
    "8. Follow and engage with the community\n",
    "\n",
    "\n",
    "## Tools \n",
    "[Anaconda](https://www.anaconda.com/) is a data science and machine learning applications toolkit. It includes both Python and conda, and additionally bundles a suite of other pre-installed and ready to install packages geared toward scientific computing. There is also a smaller version called [Miniconda](https://docs.conda.io/en/latest/miniconda.html) which is a bootstrap version of Anaconda that includes only conda, Python, and some packages.\n",
    "\n",
    "The following packages (modules) are among the most useful for data science and scientific computing: \n",
    "* [NumPy](https://numpy.org/):  the fundamental package for scientific computing in Python and provides efficient storage and computation for multi-dimensional data arrays.  \n",
    "* [Pandas](https://pandas.pydata.org/): a fast, powerful, flexible and easy to use open source data analysis and manipulation tool, built on top of the Python programming language.\n",
    "* [SciPy](https://www.scipy.org/about.html): a collection of open source software for scientific computing in Python.\n",
    "* [Matplotlib](https://matplotlib.org/): a comprehensive library for creating static, animated, and interactive visualizations in Python.\n",
    "* [Scikit-Learn](https://scikit-learn.org/stable/): provides simple and efficient tools for predictive data analysis; provides a uniform toolkit for applying common machine learning algorithms to data. \n",
    "* [IPython/Jupyter](https://ipython.org/): a powerful interactive shell and kernel for Jupyter Notebooks. It provides an enhanced terminal and an interactive notebook environment that is useful for exploratory analysis.  \n"
   ]
  },
  {
   "cell_type": "code",
   "execution_count": 1,
   "metadata": {},
   "outputs": [
    {
     "name": "stdout",
     "output_type": "stream",
     "text": [
      "The Python version is:  3.8.11\n",
      "The Python version is:  3.8.11\n"
     ]
    }
   ],
   "source": [
    "# Checking version of Python--Option 1  (--- installed)\n",
    "from platform import python_version \n",
    "print(\"The Python version is: \", python_version())\n",
    "\n",
    "# Checking version of Python --Option2 (--- installed)\n",
    "import platform \n",
    "print(\"The Python version is: \", platform.python_version())\n"
   ]
  },
  {
   "cell_type": "markdown",
   "metadata": {},
   "source": [
    "##  Help and Documentation in IPython"
   ]
  },
  {
   "cell_type": "code",
   "execution_count": 2,
   "metadata": {},
   "outputs": [
    {
     "name": "stdout",
     "output_type": "stream",
     "text": [
      "Help on built-in function len in module builtins:\n",
      "\n",
      "len(obj, /)\n",
      "    Return the number of items in a container.\n",
      "\n"
     ]
    }
   ],
   "source": [
    "# Using built-in 'help()' function ----- with access information  and print it\n",
    "help(len)"
   ]
  },
  {
   "cell_type": "code",
   "execution_count": 3,
   "metadata": {},
   "outputs": [],
   "source": [
    "# Accessing documentation using '?' ----to explore documentation and other relevant information\n",
    "# It can be used to explore any thing: built-in functions, methods, objects .....\n",
    "len?"
   ]
  },
  {
   "cell_type": "code",
   "execution_count": 4,
   "metadata": {},
   "outputs": [],
   "source": [
    "# List example\n",
    "L = [7, 9, 11, 13]\n",
    "L?"
   ]
  },
  {
   "cell_type": "code",
   "execution_count": 5,
   "metadata": {},
   "outputs": [],
   "source": [
    "L.insert?"
   ]
  },
  {
   "cell_type": "code",
   "execution_count": 6,
   "metadata": {},
   "outputs": [],
   "source": [
    "# Example function \n",
    "def square(a):\n",
    "    \"\"\"Return the square of a.\"\"\"\n",
    "    return a ** 2"
   ]
  },
  {
   "cell_type": "code",
   "execution_count": 7,
   "metadata": {},
   "outputs": [],
   "source": [
    "# Accessing documentation\n",
    "square?"
   ]
  },
  {
   "cell_type": "code",
   "execution_count": 8,
   "metadata": {},
   "outputs": [],
   "source": [
    "#  Accessing source code using '??' --- it provides the info you get with '?' plus the \n",
    "# source code if it is implemented in Python; if not the same info as '?' \n",
    "square??"
   ]
  },
  {
   "cell_type": "markdown",
   "metadata": {},
   "source": [
    "## Exploring Data Structure \n",
    "Data structures are the fundamental constructs that used to store, manage, organize, search and manipulate data in an efficient way depending on your need. \n",
    "\n",
    "Categories of Python data structures:\n",
    "\n",
    "* Dictionaries, Maps,and Hash Tables\n",
    "* Array Data Structures: list, tuple, array.array, string, bytes, bytearray\n",
    "* Sets and multi-sets\n",
    "* Stacks\n",
    "* Queues\n",
    "\n",
    "### Data Types\n",
    "* Numeric types: int, float, complex\n",
    "* Iterator types: generator\n",
    "* Sequence types: lists, tuple, range\n",
    "* Text sequence types: Strings -- str\n",
    "* Binary sequence types: bytes, bytearray, memoryview  \n",
    "* Set types: set \n",
    "* Mapping types: dictionary --dict "
   ]
  },
  {
   "cell_type": "code",
   "execution_count": 9,
   "metadata": {},
   "outputs": [],
   "source": [
    "# # https://towardsdatascience.com/jupyter-notebook-to-pdf-in-a-few-lines-3c48d68a7a63\n",
    "# !pip install -U notebook-as-pdf"
   ]
  },
  {
   "cell_type": "code",
   "execution_count": 10,
   "metadata": {},
   "outputs": [],
   "source": [
    "# !pyppeteer-install"
   ]
  },
  {
   "cell_type": "code",
   "execution_count": null,
   "metadata": {},
   "outputs": [],
   "source": []
  },
  {
   "cell_type": "code",
   "execution_count": null,
   "metadata": {},
   "outputs": [],
   "source": []
  },
  {
   "cell_type": "code",
   "execution_count": null,
   "metadata": {},
   "outputs": [],
   "source": []
  }
 ],
 "metadata": {
  "celltoolbar": "Edit Metadata",
  "hide_input": false,
  "kernelspec": {
   "display_name": "Python 3 (ipykernel)",
   "language": "python",
   "name": "python3"
  },
  "language_info": {
   "codemirror_mode": {
    "name": "ipython",
    "version": 3
   },
   "file_extension": ".py",
   "mimetype": "text/x-python",
   "name": "python",
   "nbconvert_exporter": "python",
   "pygments_lexer": "ipython3",
   "version": "3.8.11"
  },
  "latex_envs": {
   "LaTeX_envs_menu_present": true,
   "autoclose": false,
   "autocomplete": true,
   "bibliofile": "biblio.bib",
   "cite_by": "apalike",
   "current_citInitial": 1,
   "eqLabelWithNumbers": true,
   "eqNumInitial": 1,
   "hotkeys": {
    "equation": "Ctrl-E",
    "itemize": "Ctrl-I"
   },
   "labels_anchors": false,
   "latex_user_defs": false,
   "report_style_numbering": false,
   "user_envs_cfg": false
  },
  "varInspector": {
   "cols": {
    "lenName": 16,
    "lenType": 16,
    "lenVar": 40
   },
   "kernels_config": {
    "python": {
     "delete_cmd_postfix": "",
     "delete_cmd_prefix": "del ",
     "library": "var_list.py",
     "varRefreshCmd": "print(var_dic_list())"
    },
    "r": {
     "delete_cmd_postfix": ") ",
     "delete_cmd_prefix": "rm(",
     "library": "var_list.r",
     "varRefreshCmd": "cat(var_dic_list()) "
    }
   },
   "types_to_exclude": [
    "module",
    "function",
    "builtin_function_or_method",
    "instance",
    "_Feature"
   ],
   "window_display": false
  }
 },
 "nbformat": 4,
 "nbformat_minor": 4
}
