{
 "cells": [
  {
   "cell_type": "markdown",
   "id": "frequent-occasions",
   "metadata": {},
   "source": [
    "# Statistical Analysis\n",
    "\n",
    "Statistics is the science of collecting, analyzing, presenting, and interpreting data.\n",
    "### Descriptive Analysis"
   ]
  },
  {
   "cell_type": "code",
   "execution_count": null,
   "id": "pressing-necklace",
   "metadata": {},
   "outputs": [],
   "source": [
    "import pandas as pd\n",
    "import numpy as np"
   ]
  },
  {
   "cell_type": "code",
   "execution_count": null,
   "id": "actual-vatican",
   "metadata": {},
   "outputs": [],
   "source": [
    "# Doctorate Recipients by Demography--- Doctrate reciepients by Citizenship,  Race/Ethnicity, Sex, S&E Fields, Broad Fields, Detailed Fields, and Year\n",
    "# Data Download from NCSES Interactive Data Tool\n",
    "df = pd.read_csv('../../Users/gitData/SED_export_table_2020-11-12T19_44_35.595Z.csv', skiprows=[0], header=[1])\n",
    "\n",
    "# Removing 'Total values' --- for calculating statistical purposes\n",
    "df1 = df['Detailed Fields']!='Total for selected values'\n",
    "df = df[df1]\n",
    "df2 = df['Race and Ethnicity']!='Total for selected values'\n",
    "df = df[df2]\n",
    "df3 = df['Citizenship']!='Total for selected values'\n",
    "df = df[df3]\n",
    "df4 = df['Sex']!='Total for selected values'\n",
    "df = df[df4]\n",
    "df.head()"
   ]
  },
  {
   "cell_type": "code",
   "execution_count": null,
   "id": "hispanic-knitting",
   "metadata": {},
   "outputs": [],
   "source": [
    "df = df.set_index(['S&E Fields', 'Broad Fields', 'Detailed Fields', 'Race and Ethnicity',\n",
    "       'Citizenship', 'Sex'])\n",
    "df.head()"
   ]
  },
  {
   "cell_type": "code",
   "execution_count": null,
   "id": "twenty-picture",
   "metadata": {},
   "outputs": [],
   "source": [
    "df = df.stack().to_frame()\n",
    "df = df.reset_index()\n",
    "df.head()"
   ]
  },
  {
   "cell_type": "code",
   "execution_count": null,
   "id": "celtic-bracelet",
   "metadata": {
    "scrolled": true
   },
   "outputs": [],
   "source": [
    "df.columns = ['S&E Fields', 'Broad Fields', 'Detailed Fields', 'Race and Ethnicity',\n",
    "       'Citizenship', 'Sex', 'Year', 'Number']\n",
    "df.head()\n",
    "#df.columns"
   ]
  },
  {
   "cell_type": "code",
   "execution_count": null,
   "id": "excessive-medium",
   "metadata": {},
   "outputs": [],
   "source": [
    "df3 = df['Number']!='-'\n",
    "df = df[df3]\n",
    "df.dtypes"
   ]
  },
  {
   "cell_type": "code",
   "execution_count": null,
   "id": "automotive-composer",
   "metadata": {},
   "outputs": [],
   "source": [
    "df['Number']=df['Number'].str.replace(',','')  # Removing ',' from numbers to change object to int"
   ]
  },
  {
   "cell_type": "code",
   "execution_count": null,
   "id": "southern-geography",
   "metadata": {},
   "outputs": [],
   "source": [
    "df[\"Number\"] = df[\"Number\"].astype(str).astype(int)\n",
    "df.dtypes\n",
    "#df[\"Number\"] = pd.to_numeric(df[\"Number\"])\n"
   ]
  },
  {
   "cell_type": "code",
   "execution_count": null,
   "id": "stock-mileage",
   "metadata": {},
   "outputs": [],
   "source": [
    "df[['Year', 'Number']].groupby([\"Year\"]).sum()"
   ]
  },
  {
   "cell_type": "code",
   "execution_count": null,
   "id": "medieval-rabbit",
   "metadata": {},
   "outputs": [],
   "source": [
    "df[['S&E Fields',\"Year\", 'Number']].groupby(['S&E Fields',\"Year\"]).mean()"
   ]
  },
  {
   "cell_type": "code",
   "execution_count": null,
   "id": "apart-method",
   "metadata": {},
   "outputs": [],
   "source": [
    "df[['S&E Fields',\"Year\", 'Number']].groupby(['S&E Fields',\"Year\"]).sum()"
   ]
  },
  {
   "cell_type": "code",
   "execution_count": null,
   "id": "04ecc700",
   "metadata": {},
   "outputs": [],
   "source": []
  }
 ],
 "metadata": {
  "hide_input": false,
  "kernelspec": {
   "display_name": "Python 3 (ipykernel)",
   "language": "python",
   "name": "python3"
  },
  "language_info": {
   "codemirror_mode": {
    "name": "ipython",
    "version": 3
   },
   "file_extension": ".py",
   "mimetype": "text/x-python",
   "name": "python",
   "nbconvert_exporter": "python",
   "pygments_lexer": "ipython3",
   "version": "3.8.11"
  },
  "latex_envs": {
   "LaTeX_envs_menu_present": true,
   "autoclose": false,
   "autocomplete": true,
   "bibliofile": "biblio.bib",
   "cite_by": "apalike",
   "current_citInitial": 1,
   "eqLabelWithNumbers": true,
   "eqNumInitial": 1,
   "hotkeys": {
    "equation": "Ctrl-E",
    "itemize": "Ctrl-I"
   },
   "labels_anchors": false,
   "latex_user_defs": false,
   "report_style_numbering": false,
   "user_envs_cfg": false
  }
 },
 "nbformat": 4,
 "nbformat_minor": 5
}
