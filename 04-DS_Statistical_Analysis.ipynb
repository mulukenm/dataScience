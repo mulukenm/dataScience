{
 "cells": [
  {
   "cell_type": "markdown",
   "id": "frequent-occasions",
   "metadata": {},
   "source": [
    "# Statistical Analysis\n",
    "\n",
    "Statistics is the science of collecting, analyzing, presenting, and interpreting data.\n",
    "## Descriptive Analysis"
   ]
  },
  {
   "cell_type": "code",
   "execution_count": null,
   "id": "pressing-necklace",
   "metadata": {},
   "outputs": [],
   "source": [
    "%matplotlib inline\n",
    "import pandas as pd\n",
    "import numpy as np\n",
    "from scipy.stats import trim_mean\n",
    "from statsmodels import robust\n",
    "import wquantiles\n",
    "\n",
    "import seaborn as sns\n",
    "import matplotlib.pylab as plt\n",
    "import warnings\n",
    "warnings.filterwarnings(\"ignore\")"
   ]
  },
  {
   "cell_type": "code",
   "execution_count": null,
   "id": "actual-vatican",
   "metadata": {},
   "outputs": [],
   "source": [
    "# Doctorate Recipients by Demography--- Doctrate reciepients by Citizenship,  Race/Ethnicity, Sex, S&E Fields, Broad Fields, Detailed Fields, and Year\n",
    "# Data Download from NCSES Interactive Data Tool\n",
    "df = pd.read_csv('../../Users/gitData/SED_export_table_2020-11-12T19_44_35.595Z.csv', skiprows=[0], header=[1])\n",
    "\n",
    "# Removing 'Total values' --- for calculating statistical purposes\n",
    "df1 = df['Detailed Fields']!='Total for selected values'\n",
    "df = df[df1]\n",
    "df2 = df['Race and Ethnicity']!='Total for selected values'\n",
    "df = df[df2]\n",
    "df3 = df['Citizenship']!='Total for selected values'\n",
    "df = df[df3]\n",
    "df4 = df['Sex']!='Total for selected values'\n",
    "df = df[df4]\n",
    "df.head()"
   ]
  },
  {
   "cell_type": "code",
   "execution_count": null,
   "id": "5a9f53a2",
   "metadata": {},
   "outputs": [],
   "source": [
    "# checking the data types of the columns in the dataset\n",
    "df.info()"
   ]
  },
  {
   "cell_type": "code",
   "execution_count": null,
   "id": "55eb4330",
   "metadata": {},
   "outputs": [],
   "source": [
    "# checking for duplicate values in the data\n",
    "df.duplicated().sum()"
   ]
  },
  {
   "cell_type": "code",
   "execution_count": null,
   "id": "898161bf",
   "metadata": {},
   "outputs": [],
   "source": [
    "# let's check for missing values in the data\n",
    "round(df.isnull().sum() / df.isnull().count() * 100, 2)"
   ]
  },
  {
   "cell_type": "code",
   "execution_count": null,
   "id": "hispanic-knitting",
   "metadata": {},
   "outputs": [],
   "source": [
    "df = df.set_index(['S&E Fields', 'Broad Fields', 'Detailed Fields', 'Race and Ethnicity',\n",
    "       'Citizenship', 'Sex'])\n",
    "df.head()"
   ]
  },
  {
   "cell_type": "code",
   "execution_count": null,
   "id": "twenty-picture",
   "metadata": {
    "scrolled": true
   },
   "outputs": [],
   "source": [
    "df = df.stack().to_frame()\n",
    "df = df.reset_index()\n",
    "df.head()"
   ]
  },
  {
   "cell_type": "code",
   "execution_count": null,
   "id": "celtic-bracelet",
   "metadata": {
    "scrolled": true
   },
   "outputs": [],
   "source": [
    "df.columns = ['S&E Fields', 'Broad Fields', 'Detailed Fields', 'Race and Ethnicity',\n",
    "       'Citizenship', 'Sex', 'Year', 'Number']\n",
    "df.head()\n",
    "#df.columns\n",
    "df.shape"
   ]
  },
  {
   "cell_type": "code",
   "execution_count": null,
   "id": "excessive-medium",
   "metadata": {},
   "outputs": [],
   "source": [
    "df3 = df['Number']!='-'\n",
    "df = df[df3]\n",
    "df.dtypes"
   ]
  },
  {
   "cell_type": "code",
   "execution_count": null,
   "id": "automotive-composer",
   "metadata": {},
   "outputs": [],
   "source": [
    "df['Number']=df['Number'].str.replace(',','')  # Removing ',' from numbers to change object to int\n",
    "\n",
    "df.info()"
   ]
  },
  {
   "cell_type": "code",
   "execution_count": null,
   "id": "southern-geography",
   "metadata": {},
   "outputs": [],
   "source": [
    "df[\"Number\"] = df[\"Number\"].astype(str).astype(int)\n",
    "df.dtypes\n",
    "#df[\"Number\"] = pd.to_numeric(df[\"Number\"])"
   ]
  },
  {
   "cell_type": "markdown",
   "id": "8291ee3a",
   "metadata": {},
   "source": [
    "### Common data manipulation tasks"
   ]
  },
  {
   "cell_type": "markdown",
   "id": "201276d9",
   "metadata": {},
   "source": [
    "1. Selecting/Indexing\n",
    "2. Filtering\n",
    "3. Sorting\n",
    "4. Mutating/Conditionally adding documents\n",
    "5. Groupby/Summarize"
   ]
  },
  {
   "cell_type": "code",
   "execution_count": null,
   "id": "50fd554f",
   "metadata": {},
   "outputs": [],
   "source": [
    "# selecting/Indexing \n",
    "df1 =  df.iloc[1:10, :]\n",
    "\n",
    "df1.head(15)"
   ]
  },
  {
   "cell_type": "code",
   "execution_count": null,
   "id": "80402ec1",
   "metadata": {},
   "outputs": [],
   "source": [
    "# Filtering\n",
    "df2 = df[df[\"Broad Fields\"] == \"Life sciences\"]\n",
    "\n",
    "df2.head()"
   ]
  },
  {
   "cell_type": "code",
   "execution_count": null,
   "id": "30a935dc",
   "metadata": {},
   "outputs": [],
   "source": [
    "# Sorting\n",
    "df1.sort_values([\"Number\"],  ascending=False)"
   ]
  },
  {
   "cell_type": "code",
   "execution_count": null,
   "id": "stock-mileage",
   "metadata": {},
   "outputs": [],
   "source": [
    "df[['Year', 'Number']].groupby([\"Year\"]).sum()"
   ]
  },
  {
   "cell_type": "code",
   "execution_count": null,
   "id": "medieval-rabbit",
   "metadata": {},
   "outputs": [],
   "source": [
    "df[['S&E Fields',\"Year\", 'Number']].groupby(['S&E Fields',\"Year\"]).mean()"
   ]
  },
  {
   "cell_type": "code",
   "execution_count": null,
   "id": "apart-method",
   "metadata": {},
   "outputs": [],
   "source": [
    "df[['S&E Fields',\"Year\", 'Number']].groupby(['S&E Fields',\"Year\"]).sum()"
   ]
  },
  {
   "cell_type": "code",
   "execution_count": null,
   "id": "04ecc700",
   "metadata": {},
   "outputs": [],
   "source": [
    "df.head()"
   ]
  },
  {
   "cell_type": "code",
   "execution_count": null,
   "id": "e8256dd0",
   "metadata": {},
   "outputs": [],
   "source": [
    "df.groupby('Broad Fields').sum()"
   ]
  },
  {
   "cell_type": "code",
   "execution_count": null,
   "id": "bc542093",
   "metadata": {},
   "outputs": [],
   "source": [
    "df.groupby('Broad Fields')['Number'].sum()"
   ]
  },
  {
   "cell_type": "code",
   "execution_count": null,
   "id": "6d1adda7",
   "metadata": {},
   "outputs": [],
   "source": []
  },
  {
   "cell_type": "code",
   "execution_count": null,
   "id": "97f68887",
   "metadata": {},
   "outputs": [],
   "source": []
  },
  {
   "cell_type": "code",
   "execution_count": null,
   "id": "f9e86025",
   "metadata": {},
   "outputs": [],
   "source": []
  }
 ],
 "metadata": {
  "hide_input": false,
  "kernelspec": {
   "display_name": "Python 3 (ipykernel)",
   "language": "python",
   "name": "python3"
  },
  "language_info": {
   "codemirror_mode": {
    "name": "ipython",
    "version": 3
   },
   "file_extension": ".py",
   "mimetype": "text/x-python",
   "name": "python",
   "nbconvert_exporter": "python",
   "pygments_lexer": "ipython3",
   "version": "3.12.3"
  },
  "latex_envs": {
   "LaTeX_envs_menu_present": true,
   "autoclose": false,
   "autocomplete": true,
   "bibliofile": "biblio.bib",
   "cite_by": "apalike",
   "current_citInitial": 1,
   "eqLabelWithNumbers": true,
   "eqNumInitial": 1,
   "hotkeys": {
    "equation": "Ctrl-E",
    "itemize": "Ctrl-I"
   },
   "labels_anchors": false,
   "latex_user_defs": false,
   "report_style_numbering": false,
   "user_envs_cfg": false
  }
 },
 "nbformat": 4,
 "nbformat_minor": 5
}
