{
 "cells": [
  {
   "cell_type": "markdown",
   "id": "retained-jacob",
   "metadata": {},
   "source": [
    "# Statistical Analysis\n",
    "\n",
    "### Descriptive Analysis"
   ]
  },
  {
   "cell_type": "code",
   "execution_count": 3,
   "id": "collect-petite",
   "metadata": {},
   "outputs": [],
   "source": [
    "import pandas as pd\n"
   ]
  },
  {
   "cell_type": "code",
   "execution_count": 9,
   "id": "lesser-samuel",
   "metadata": {},
   "outputs": [
    {
     "data": {
      "text/html": [
       "<div>\n",
       "<style scoped>\n",
       "    .dataframe tbody tr th:only-of-type {\n",
       "        vertical-align: middle;\n",
       "    }\n",
       "\n",
       "    .dataframe tbody tr th {\n",
       "        vertical-align: top;\n",
       "    }\n",
       "\n",
       "    .dataframe thead th {\n",
       "        text-align: right;\n",
       "    }\n",
       "</style>\n",
       "<table border=\"1\" class=\"dataframe\">\n",
       "  <thead>\n",
       "    <tr style=\"text-align: right;\">\n",
       "      <th></th>\n",
       "      <th></th>\n",
       "      <th>0</th>\n",
       "    </tr>\n",
       "  </thead>\n",
       "  <tbody>\n",
       "    <tr>\n",
       "      <th rowspan=\"5\" valign=\"top\">0</th>\n",
       "      <th>S&amp;E Fields</th>\n",
       "      <td>Science and engineering</td>\n",
       "    </tr>\n",
       "    <tr>\n",
       "      <th>Broad Fields</th>\n",
       "      <td>Total for selected values</td>\n",
       "    </tr>\n",
       "    <tr>\n",
       "      <th>Detailed Fields</th>\n",
       "      <td>Total for selected values</td>\n",
       "    </tr>\n",
       "    <tr>\n",
       "      <th>Race and Ethnicity</th>\n",
       "      <td>Total for selected values</td>\n",
       "    </tr>\n",
       "    <tr>\n",
       "      <th>Citizenship</th>\n",
       "      <td>Total for selected values</td>\n",
       "    </tr>\n",
       "  </tbody>\n",
       "</table>\n",
       "</div>"
      ],
      "text/plain": [
       "                                              0\n",
       "0 S&E Fields            Science and engineering\n",
       "  Broad Fields        Total for selected values\n",
       "  Detailed Fields     Total for selected values\n",
       "  Race and Ethnicity  Total for selected values\n",
       "  Citizenship         Total for selected values"
      ]
     },
     "execution_count": 9,
     "metadata": {},
     "output_type": "execute_result"
    }
   ],
   "source": [
    "# Doctorate Recipients by Demography--- Doctrate reciepients by Citizenship,  Race/Ethnicity, Sex, S&E Fields, Broad Fields, Detailed Fields, and Year\n",
    "# Data Download from NCSES Interactive Data Tool\n",
    "df = pd.read_csv('../../WorkingFiles/NSF_NCSES/Data/SED_export_table_2020-11-12T19_44_35.595Z.csv', skiprows=[0], header=[1])\n",
    "#df = df.set_index(['Citizenship','S&E Fields', 'Broad Fields', 'Detailed Fields', 'Race and Ethnicity','Sex'])\n",
    "df = df.stack().to_frame()\n",
    "df.head()"
   ]
  },
  {
   "cell_type": "code",
   "execution_count": 7,
   "id": "advance-washer",
   "metadata": {},
   "outputs": [
    {
     "data": {
      "text/plain": [
       "<bound method DataFrame.stack of                                              S&E Fields  \\\n",
       "0                               Science and engineering   \n",
       "1                               Science and engineering   \n",
       "2                               Science and engineering   \n",
       "3                               Science and engineering   \n",
       "4                               Science and engineering   \n",
       "...                                                 ...   \n",
       "1301                                                NaN   \n",
       "1302                                             NOTES:   \n",
       "1303                                                NaN   \n",
       "1304  SOURCE: National Center for Science and Engine...   \n",
       "1305           Downloaded 2020/11/12 at 14:44:35 PM EST   \n",
       "\n",
       "                   Broad Fields                              Detailed Fields  \\\n",
       "0     Total for selected values                    Total for selected values   \n",
       "1                 Life sciences                    Total for selected values   \n",
       "2                 Life sciences  Agricultural sciences and natural resources   \n",
       "3                 Life sciences  Agricultural sciences and natural resources   \n",
       "4                 Life sciences  Agricultural sciences and natural resources   \n",
       "...                         ...                                          ...   \n",
       "1301                        NaN                                          NaN   \n",
       "1302                        NaN                                          NaN   \n",
       "1303                        NaN                                          NaN   \n",
       "1304                        NaN                                          NaN   \n",
       "1305                        NaN                                          NaN   \n",
       "\n",
       "             Race and Ethnicity                         Citizenship  \\\n",
       "0     Total for selected values           Total for selected values   \n",
       "1     Total for selected values           Total for selected values   \n",
       "2     Total for selected values           Total for selected values   \n",
       "3            Hispanic or Latino           Total for selected values   \n",
       "4            Hispanic or Latino  U.S. citizen or permanent resident   \n",
       "...                         ...                                 ...   \n",
       "1301                        NaN                                 NaN   \n",
       "1302                        NaN                                 NaN   \n",
       "1303                        NaN                                 NaN   \n",
       "1304                        NaN                                 NaN   \n",
       "1305                        NaN                                 NaN   \n",
       "\n",
       "                            Sex    2018    2017    2016    2015  ...    1989  \\\n",
       "0     Total for selected values  42,227  41,294  41,234  41,178  ...  22,565   \n",
       "1     Total for selected values  12,780  12,555  12,536  12,493  ...   6,410   \n",
       "2     Total for selected values     793     822     771     774  ...     801   \n",
       "3     Total for selected values      50      47      46      52  ...      21   \n",
       "4     Total for selected values      50      47      46      52  ...      21   \n",
       "...                         ...     ...     ...     ...     ...  ...     ...   \n",
       "1301                        NaN     NaN     NaN     NaN     NaN  ...     NaN   \n",
       "1302                        NaN     NaN     NaN     NaN     NaN  ...     NaN   \n",
       "1303                        NaN     NaN     NaN     NaN     NaN  ...     NaN   \n",
       "1304                        NaN     NaN     NaN     NaN     NaN  ...     NaN   \n",
       "1305                        NaN     NaN     NaN     NaN     NaN  ...     NaN   \n",
       "\n",
       "        1988    1987    1986    1985    1984    1983    1982    1981    1980  \n",
       "0     21,675  20,558  20,064  19,504  19,285  19,117  18,736  18,713  18,169  \n",
       "1      6,222   5,783   5,767   5,822   5,803   5,603   5,762   5,665   5,501  \n",
       "2        745     738     745     849     783     814     819     778     746  \n",
       "3         22      17      19      17      10      12      11      18       7  \n",
       "4         22      17      19      17      10      12      11      18       7  \n",
       "...      ...     ...     ...     ...     ...     ...     ...     ...     ...  \n",
       "1301     NaN     NaN     NaN     NaN     NaN     NaN     NaN     NaN     NaN  \n",
       "1302     NaN     NaN     NaN     NaN     NaN     NaN     NaN     NaN     NaN  \n",
       "1303     NaN     NaN     NaN     NaN     NaN     NaN     NaN     NaN     NaN  \n",
       "1304     NaN     NaN     NaN     NaN     NaN     NaN     NaN     NaN     NaN  \n",
       "1305     NaN     NaN     NaN     NaN     NaN     NaN     NaN     NaN     NaN  \n",
       "\n",
       "[1306 rows x 45 columns]>"
      ]
     },
     "execution_count": 7,
     "metadata": {},
     "output_type": "execute_result"
    }
   ],
   "source": [
    "df"
   ]
  },
  {
   "cell_type": "code",
   "execution_count": null,
   "id": "becoming-decrease",
   "metadata": {},
   "outputs": [],
   "source": []
  }
 ],
 "metadata": {
  "hide_input": false,
  "kernelspec": {
   "display_name": "Python 3",
   "language": "python",
   "name": "python3"
  },
  "language_info": {
   "codemirror_mode": {
    "name": "ipython",
    "version": 3
   },
   "file_extension": ".py",
   "mimetype": "text/x-python",
   "name": "python",
   "nbconvert_exporter": "python",
   "pygments_lexer": "ipython3",
   "version": "3.8.8"
  },
  "latex_envs": {
   "LaTeX_envs_menu_present": true,
   "autoclose": false,
   "autocomplete": true,
   "bibliofile": "biblio.bib",
   "cite_by": "apalike",
   "current_citInitial": 1,
   "eqLabelWithNumbers": true,
   "eqNumInitial": 1,
   "hotkeys": {
    "equation": "Ctrl-E",
    "itemize": "Ctrl-I"
   },
   "labels_anchors": false,
   "latex_user_defs": false,
   "report_style_numbering": false,
   "user_envs_cfg": false
  }
 },
 "nbformat": 4,
 "nbformat_minor": 5
}
