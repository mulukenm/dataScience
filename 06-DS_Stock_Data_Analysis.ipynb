{
 "cells": [
  {
   "cell_type": "markdown",
   "id": "07cf147f",
   "metadata": {},
   "source": [
    "# Stock Data\n",
    "A stock is a general term used to describe the ownership certificates of any company. A share, on the other hand, refers to the stock certificate of a particular company. Holding a particular company's share makes you a shareholder. [https://economictimes.indiatimes.com/definition/stocks]"
   ]
  },
  {
   "cell_type": "code",
   "execution_count": 16,
   "id": "2cf61c14",
   "metadata": {},
   "outputs": [],
   "source": [
    "import yfinance as yf\n",
    "import pandas as pd"
   ]
  },
  {
   "cell_type": "code",
   "execution_count": 17,
   "id": "e58c54fc",
   "metadata": {},
   "outputs": [],
   "source": [
    "# Devon Energy Corp\n",
    "Devon= yf.Ticker(\"DVN\")"
   ]
  },
  {
   "cell_type": "code",
   "execution_count": 18,
   "id": "68a71ae0",
   "metadata": {},
   "outputs": [
    {
     "data": {
      "text/plain": [
       "{'zip': '94103',\n",
       " 'sector': 'Communication Services',\n",
       " 'fullTimeEmployees': 7500,\n",
       " 'longBusinessSummary': \"Twitter, Inc. operates as a platform for public self-expression and conversation in real-time. The company's primary product is Twitter, a platform that allows users to consume, create, distribute, and discover content. It also provides promoted products that enable advertisers to promote brands, products, and services, as well as enable advertisers to target an audience based on various factors, including who an account follows and actions taken on its platform, such as Tweets created and engagement with Tweets. Its promoted products consist of promoted ads and Twitter Amplify, Follower Ads, and Twitter takeover. In addition, the company offers monetization products for creators, including Tips to directly send small one-time payments on Twitter using various payment methods, including bitcoin; Super Follows, a paid monthly subscription, which includes bonus content, exclusive previews, and perks as a way to support and connect with creators on Twitter; and Ticketed Spaces to support creators on Twitter for their time and effort in hosting, speaking, and moderating the public conversation on Twitter Spaces. Further, it offers products for developers and data partners comprising Twitter Developer Platform, a platform that enables developers to build tools for people and businesses using its public application programming interface; and paid access to Twitter data for partners with commercial use cases. Twitter, Inc. was founded in 2006 and is based in San Francisco, California.\",\n",
       " 'city': 'San Francisco',\n",
       " 'phone': '415 222 9670',\n",
       " 'state': 'CA',\n",
       " 'country': 'United States',\n",
       " 'companyOfficers': [],\n",
       " 'website': 'https://www.twitter.com',\n",
       " 'maxAge': 1,\n",
       " 'address1': '1355 Market Street',\n",
       " 'industry': 'Internet Content & Information',\n",
       " 'address2': 'Suite 900',\n",
       " 'ebitdaMargins': 0.13733,\n",
       " 'profitMargins': -0.04361,\n",
       " 'grossMargins': 0.64598,\n",
       " 'operatingCashflow': 632689024,\n",
       " 'revenueGrowth': 0.216,\n",
       " 'operatingMargins': 0.05376,\n",
       " 'ebitda': 697310016,\n",
       " 'targetLowPrice': 33,\n",
       " 'recommendationKey': 'hold',\n",
       " 'grossProfits': 3279972000,\n",
       " 'freeCashflow': 205639008,\n",
       " 'targetMedianPrice': 54,\n",
       " 'currentPrice': 49.02,\n",
       " 'earningsGrowth': -0.232,\n",
       " 'currentRatio': 5.892,\n",
       " 'returnOnAssets': 0.01244,\n",
       " 'numberOfAnalystOpinions': 31,\n",
       " 'targetMeanPrice': 51,\n",
       " 'debtToEquity': 75.906,\n",
       " 'returnOnEquity': -0.02898,\n",
       " 'targetHighPrice': 77.8,\n",
       " 'totalCash': 6393681920,\n",
       " 'totalDebt': 5546573824,\n",
       " 'totalRevenue': 5077481984,\n",
       " 'totalCashPerShare': 8.003,\n",
       " 'financialCurrency': 'USD',\n",
       " 'revenuePerShare': 6.366,\n",
       " 'quickRatio': 5.664,\n",
       " 'recommendationMean': 2.9,\n",
       " 'exchange': 'NYQ',\n",
       " 'shortName': 'Twitter, Inc.',\n",
       " 'longName': 'Twitter, Inc.',\n",
       " 'exchangeTimezoneName': 'America/New_York',\n",
       " 'exchangeTimezoneShortName': 'EDT',\n",
       " 'isEsgPopulated': False,\n",
       " 'gmtOffSetMilliseconds': '-14400000',\n",
       " 'quoteType': 'EQUITY',\n",
       " 'symbol': 'TWTR',\n",
       " 'messageBoardId': 'finmb_35962803',\n",
       " 'market': 'us_market',\n",
       " 'annualHoldingsTurnover': None,\n",
       " 'enterpriseToRevenue': 7.561,\n",
       " 'beta3Year': None,\n",
       " 'enterpriseToEbitda': 55.054,\n",
       " '52WeekChange': -0.110648334,\n",
       " 'morningStarRiskRating': None,\n",
       " 'forwardEps': 1.18,\n",
       " 'revenueQuarterlyGrowth': None,\n",
       " 'sharesOutstanding': 763577984,\n",
       " 'fundInceptionDate': None,\n",
       " 'annualReportExpenseRatio': None,\n",
       " 'totalAssets': None,\n",
       " 'bookValue': 9.159,\n",
       " 'sharesShort': 32668686,\n",
       " 'sharesPercentSharesOut': 0.0428,\n",
       " 'fundFamily': None,\n",
       " 'lastFiscalYearEnd': 1640908800,\n",
       " 'heldPercentInstitutions': 0.80783,\n",
       " 'netIncomeToCommon': -221408992,\n",
       " 'trailingEps': -0.28,\n",
       " 'lastDividendValue': None,\n",
       " 'SandP52WeekChange': 0.02543068,\n",
       " 'priceToBook': 5.3521123,\n",
       " 'heldPercentInsiders': 0.12417,\n",
       " 'nextFiscalYearEnd': 1703980800,\n",
       " 'yield': None,\n",
       " 'mostRecentQuarter': 1640908800,\n",
       " 'shortRatio': 0.48,\n",
       " 'sharesShortPreviousMonthDate': 1647302400,\n",
       " 'floatShares': 700988161,\n",
       " 'beta': 0.80147,\n",
       " 'enterpriseValue': 38389628928,\n",
       " 'priceHint': 2,\n",
       " 'threeYearAverageReturn': None,\n",
       " 'lastSplitDate': None,\n",
       " 'lastSplitFactor': None,\n",
       " 'legalType': None,\n",
       " 'lastDividendDate': None,\n",
       " 'morningStarOverallRating': None,\n",
       " 'earningsQuarterlyGrowth': -0.182,\n",
       " 'priceToSalesTrailing12Months': 7.3718805,\n",
       " 'dateShortInterest': 1649894400,\n",
       " 'pegRatio': 2.05,\n",
       " 'ytdReturn': None,\n",
       " 'forwardPE': 41.542374,\n",
       " 'lastCapGain': None,\n",
       " 'shortPercentOfFloat': 0.043899998,\n",
       " 'sharesShortPriorMonth': 38965622,\n",
       " 'impliedSharesOutstanding': 0,\n",
       " 'category': None,\n",
       " 'fiveYearAverageReturn': None,\n",
       " 'previousClose': 49.11,\n",
       " 'regularMarketOpen': 49.45,\n",
       " 'twoHundredDayAverage': 50.37595,\n",
       " 'trailingAnnualDividendYield': 0,\n",
       " 'payoutRatio': 0,\n",
       " 'volume24Hr': None,\n",
       " 'regularMarketDayHigh': 50.25,\n",
       " 'navPrice': None,\n",
       " 'averageDailyVolume10Day': 114087460,\n",
       " 'regularMarketPreviousClose': 49.11,\n",
       " 'fiftyDayAverage': 40.2312,\n",
       " 'trailingAnnualDividendRate': 0,\n",
       " 'open': 49.45,\n",
       " 'toCurrency': None,\n",
       " 'averageVolume10days': 114087460,\n",
       " 'expireDate': None,\n",
       " 'algorithm': None,\n",
       " 'dividendRate': None,\n",
       " 'exDividendDate': None,\n",
       " 'circulatingSupply': None,\n",
       " 'startDate': None,\n",
       " 'regularMarketDayLow': 48.74,\n",
       " 'currency': 'USD',\n",
       " 'regularMarketVolume': 38250854,\n",
       " 'lastMarket': None,\n",
       " 'maxSupply': None,\n",
       " 'openInterest': None,\n",
       " 'marketCap': 37430591488,\n",
       " 'volumeAllCurrencies': None,\n",
       " 'strikePrice': None,\n",
       " 'averageVolume': 49538920,\n",
       " 'dayLow': 48.74,\n",
       " 'ask': 49.05,\n",
       " 'askSize': 800,\n",
       " 'volume': 38250854,\n",
       " 'fiftyTwoWeekHigh': 73.34,\n",
       " 'fromCurrency': None,\n",
       " 'fiveYearAvgDividendYield': None,\n",
       " 'fiftyTwoWeekLow': 31.3,\n",
       " 'bid': 48.95,\n",
       " 'tradeable': False,\n",
       " 'dividendYield': None,\n",
       " 'bidSize': 4000,\n",
       " 'dayHigh': 50.25,\n",
       " 'regularMarketPrice': 49.02,\n",
       " 'preMarketPrice': 49.45,\n",
       " 'logo_url': 'https://logo.clearbit.com/twitter.com'}"
      ]
     },
     "execution_count": 18,
     "metadata": {},
     "output_type": "execute_result"
    }
   ],
   "source": [
    "Devon_info = twitter.info\n",
    "Devon_info"
   ]
  },
  {
   "cell_type": "code",
   "execution_count": 19,
   "id": "670f975b",
   "metadata": {},
   "outputs": [
    {
     "data": {
      "text/plain": [
       "'United States'"
      ]
     },
     "execution_count": 19,
     "metadata": {},
     "output_type": "execute_result"
    }
   ],
   "source": [
    "Devon_info['country']"
   ]
  },
  {
   "cell_type": "code",
   "execution_count": 20,
   "id": "1643bb23",
   "metadata": {},
   "outputs": [],
   "source": [
    "Devon_share_price_data = twitter.history(period=\"max\")"
   ]
  },
  {
   "cell_type": "code",
   "execution_count": 21,
   "id": "7c58ba9e",
   "metadata": {},
   "outputs": [
    {
     "data": {
      "text/html": [
       "<div>\n",
       "<style scoped>\n",
       "    .dataframe tbody tr th:only-of-type {\n",
       "        vertical-align: middle;\n",
       "    }\n",
       "\n",
       "    .dataframe tbody tr th {\n",
       "        vertical-align: top;\n",
       "    }\n",
       "\n",
       "    .dataframe thead th {\n",
       "        text-align: right;\n",
       "    }\n",
       "</style>\n",
       "<table border=\"1\" class=\"dataframe\">\n",
       "  <thead>\n",
       "    <tr style=\"text-align: right;\">\n",
       "      <th></th>\n",
       "      <th>Open</th>\n",
       "      <th>High</th>\n",
       "      <th>Low</th>\n",
       "      <th>Close</th>\n",
       "      <th>Volume</th>\n",
       "      <th>Dividends</th>\n",
       "      <th>Stock Splits</th>\n",
       "    </tr>\n",
       "    <tr>\n",
       "      <th>Date</th>\n",
       "      <th></th>\n",
       "      <th></th>\n",
       "      <th></th>\n",
       "      <th></th>\n",
       "      <th></th>\n",
       "      <th></th>\n",
       "      <th></th>\n",
       "    </tr>\n",
       "  </thead>\n",
       "  <tbody>\n",
       "    <tr>\n",
       "      <th>2013-11-07</th>\n",
       "      <td>45.099998</td>\n",
       "      <td>50.090000</td>\n",
       "      <td>44.000000</td>\n",
       "      <td>44.900002</td>\n",
       "      <td>117701600</td>\n",
       "      <td>0</td>\n",
       "      <td>0</td>\n",
       "    </tr>\n",
       "    <tr>\n",
       "      <th>2013-11-08</th>\n",
       "      <td>45.930000</td>\n",
       "      <td>46.939999</td>\n",
       "      <td>40.689999</td>\n",
       "      <td>41.650002</td>\n",
       "      <td>27925300</td>\n",
       "      <td>0</td>\n",
       "      <td>0</td>\n",
       "    </tr>\n",
       "    <tr>\n",
       "      <th>2013-11-11</th>\n",
       "      <td>40.500000</td>\n",
       "      <td>43.000000</td>\n",
       "      <td>39.400002</td>\n",
       "      <td>42.900002</td>\n",
       "      <td>16113900</td>\n",
       "      <td>0</td>\n",
       "      <td>0</td>\n",
       "    </tr>\n",
       "    <tr>\n",
       "      <th>2013-11-12</th>\n",
       "      <td>43.660000</td>\n",
       "      <td>43.779999</td>\n",
       "      <td>41.830002</td>\n",
       "      <td>41.900002</td>\n",
       "      <td>6316700</td>\n",
       "      <td>0</td>\n",
       "      <td>0</td>\n",
       "    </tr>\n",
       "    <tr>\n",
       "      <th>2013-11-13</th>\n",
       "      <td>41.029999</td>\n",
       "      <td>42.869999</td>\n",
       "      <td>40.759998</td>\n",
       "      <td>42.599998</td>\n",
       "      <td>8688300</td>\n",
       "      <td>0</td>\n",
       "      <td>0</td>\n",
       "    </tr>\n",
       "  </tbody>\n",
       "</table>\n",
       "</div>"
      ],
      "text/plain": [
       "                 Open       High        Low      Close     Volume  Dividends  \\\n",
       "Date                                                                           \n",
       "2013-11-07  45.099998  50.090000  44.000000  44.900002  117701600          0   \n",
       "2013-11-08  45.930000  46.939999  40.689999  41.650002   27925300          0   \n",
       "2013-11-11  40.500000  43.000000  39.400002  42.900002   16113900          0   \n",
       "2013-11-12  43.660000  43.779999  41.830002  41.900002    6316700          0   \n",
       "2013-11-13  41.029999  42.869999  40.759998  42.599998    8688300          0   \n",
       "\n",
       "            Stock Splits  \n",
       "Date                      \n",
       "2013-11-07             0  \n",
       "2013-11-08             0  \n",
       "2013-11-11             0  \n",
       "2013-11-12             0  \n",
       "2013-11-13             0  "
      ]
     },
     "execution_count": 21,
     "metadata": {},
     "output_type": "execute_result"
    }
   ],
   "source": [
    "Devon_share_price_data.head()"
   ]
  },
  {
   "cell_type": "code",
   "execution_count": 22,
   "id": "da4852c7",
   "metadata": {},
   "outputs": [],
   "source": [
    "Devon_share_price_data.reset_index(inplace=True)"
   ]
  },
  {
   "cell_type": "code",
   "execution_count": 23,
   "id": "a1397dd3",
   "metadata": {},
   "outputs": [
    {
     "data": {
      "text/plain": [
       "<AxesSubplot:xlabel='Date'>"
      ]
     },
     "execution_count": 23,
     "metadata": {},
     "output_type": "execute_result"
    },
    {
     "data": {
      "image/png": "[encoded data removed]",
      "text/plain": [
       "<Figure size 432x288 with 1 Axes>"
      ]
     },
     "metadata": {
      "needs_background": "light"
     },
     "output_type": "display_data"
    }
   ],
   "source": [
    "Devon_share_price_data.plot(x=\"Date\", y=\"Open\")"
   ]
  },
  {
   "cell_type": "code",
   "execution_count": 24,
   "id": "78bd8120",
   "metadata": {},
   "outputs": [
    {
     "data": {
      "text/plain": [
       "Date\n",
       "1993-06-09    0.015\n",
       "1993-09-09    0.015\n",
       "1993-12-09    0.015\n",
       "1994-03-09    0.015\n",
       "1994-06-09    0.015\n",
       "              ...  \n",
       "2021-03-12    0.300\n",
       "2021-06-11    0.340\n",
       "2021-09-10    0.490\n",
       "2021-12-09    0.840\n",
       "2022-03-11    1.000\n",
       "Name: Dividends, Length: 118, dtype: float64"
      ]
     },
     "execution_count": 24,
     "metadata": {},
     "output_type": "execute_result"
    }
   ],
   "source": [
    "Devon.dividends"
   ]
  },
  {
   "cell_type": "code",
   "execution_count": 25,
   "id": "d0645057",
   "metadata": {},
   "outputs": [
    {
     "data": {
      "text/plain": [
       "<AxesSubplot:xlabel='Date'>"
      ]
     },
     "execution_count": 25,
     "metadata": {},
     "output_type": "execute_result"
    },
    {
     "data": {
      "image/png": "[encoded data removed]",
      "text/plain": [
       "<Figure size 432x288 with 1 Axes>"
      ]
     },
     "metadata": {
      "needs_background": "light"
     },
     "output_type": "display_data"
    }
   ],
   "source": [
    "Devon.dividends.plot()"
   ]
  },
  {
   "cell_type": "code",
   "execution_count": null,
   "id": "c3bc4936",
   "metadata": {},
   "outputs": [],
   "source": []
  },
  {
   "cell_type": "code",
   "execution_count": null,
   "id": "15300d62",
   "metadata": {},
   "outputs": [],
   "source": []
  }
 ],
 "metadata": {
  "kernelspec": {
   "display_name": "Python 3 (ipykernel)",
   "language": "python",
   "name": "python3"
  },
  "language_info": {
   "codemirror_mode": {
    "name": "ipython",
    "version": 3
   },
   "file_extension": ".py",
   "mimetype": "text/x-python",
   "name": "python",
   "nbconvert_exporter": "python",
   "pygments_lexer": "ipython3",
   "version": "3.8.12"
  }
 },
 "nbformat": 4,
 "nbformat_minor": 5
}
