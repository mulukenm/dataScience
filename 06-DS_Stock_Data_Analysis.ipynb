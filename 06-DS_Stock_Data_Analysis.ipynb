{
 "cells": [
  {
   "cell_type": "markdown",
   "id": "07cf147f",
   "metadata": {},
   "source": [
    "# Stock Data\n",
    "A stock is a general term used to describe the ownership certificates of any company. A share, on the other hand, refers to the stock certificate of a particular company. Holding a particular company's share makes you a shareholder. [https://economictimes.indiatimes.com/definition/stocks]"
   ]
  },
  {
   "cell_type": "code",
   "execution_count": 1,
   "id": "2cf61c14",
   "metadata": {},
   "outputs": [],
   "source": [
    "import yfinance as yf\n",
    "import pandas as pd"
   ]
  },
  {
   "cell_type": "code",
   "execution_count": 2,
   "id": "e58c54fc",
   "metadata": {},
   "outputs": [],
   "source": [
    "# Devon Energy Corp\n",
    "Devon= yf.Ticker(\"DVN\")"
   ]
  },
  {
   "cell_type": "code",
   "execution_count": 4,
   "id": "68a71ae0",
   "metadata": {},
   "outputs": [
    {
     "data": {
      "text/plain": [
       "{'zip': '73102-5015',\n",
       " 'sector': 'Energy',\n",
       " 'fullTimeEmployees': 1600,\n",
       " 'longBusinessSummary': 'Devon Energy Corporation, an independent energy company, primarily engages in the exploration, development, and production of oil, natural gas, and natural gas liquids in the United States. It operates approximately 5,134 gross wells. Devon Energy Corporation was incorporated in 1971 and is headquartered in Oklahoma City, Oklahoma.',\n",
       " 'city': 'Oklahoma City',\n",
       " 'phone': '405 235 3611',\n",
       " 'state': 'OK',\n",
       " 'country': 'United States',\n",
       " 'companyOfficers': [],\n",
       " 'website': 'https://www.devonenergy.com',\n",
       " 'maxAge': 1,\n",
       " 'address1': '333 West Sheridan Avenue',\n",
       " 'industry': 'Oil & Gas E&P',\n",
       " 'ebitdaMargins': 0.41984,\n",
       " 'profitMargins': 0.21445,\n",
       " 'grossMargins': 0.56522,\n",
       " 'operatingCashflow': 4898999808,\n",
       " 'revenueGrowth': 2.003,\n",
       " 'operatingMargins': 0.25288,\n",
       " 'ebitda': 5506999808,\n",
       " 'targetLowPrice': 60,\n",
       " 'recommendationKey': 'buy',\n",
       " 'grossProfits': 7414000000,\n",
       " 'freeCashflow': 2805625088,\n",
       " 'targetMedianPrice': 73,\n",
       " 'currentPrice': 67.74,\n",
       " 'earningsGrowth': None,\n",
       " 'currentRatio': 1.376,\n",
       " 'returnOnAssets': 0.13402,\n",
       " 'numberOfAnalystOpinions': 28,\n",
       " 'targetMeanPrice': 75.29,\n",
       " 'debtToEquity': 71.922,\n",
       " 'returnOnEquity': 0.45626998,\n",
       " 'targetHighPrice': 100,\n",
       " 'totalCash': 2099000064,\n",
       " 'totalDebt': 6760000000,\n",
       " 'totalRevenue': 13116999680,\n",
       " 'totalCashPerShare': 3.16,\n",
       " 'financialCurrency': 'USD',\n",
       " 'revenuePerShare': 19.784,\n",
       " 'quickRatio': 1.207,\n",
       " 'recommendationMean': 2,\n",
       " 'exchange': 'NYQ',\n",
       " 'shortName': 'Devon Energy Corporation',\n",
       " 'longName': 'Devon Energy Corporation',\n",
       " 'exchangeTimezoneName': 'America/New_York',\n",
       " 'exchangeTimezoneShortName': 'EDT',\n",
       " 'isEsgPopulated': False,\n",
       " 'gmtOffSetMilliseconds': '-14400000',\n",
       " 'quoteType': 'EQUITY',\n",
       " 'symbol': 'DVN',\n",
       " 'messageBoardId': 'finmb_266510',\n",
       " 'market': 'us_market',\n",
       " 'annualHoldingsTurnover': None,\n",
       " 'enterpriseToRevenue': 3.312,\n",
       " 'beta3Year': None,\n",
       " 'enterpriseToEbitda': 7.888,\n",
       " '52WeekChange': 1.5477605,\n",
       " 'morningStarRiskRating': None,\n",
       " 'forwardEps': 8.04,\n",
       " 'revenueQuarterlyGrowth': None,\n",
       " 'sharesOutstanding': 660428032,\n",
       " 'fundInceptionDate': None,\n",
       " 'annualReportExpenseRatio': None,\n",
       " 'totalAssets': None,\n",
       " 'bookValue': 13.97,\n",
       " 'sharesShort': 15262859,\n",
       " 'sharesPercentSharesOut': 0.0231,\n",
       " 'fundFamily': None,\n",
       " 'lastFiscalYearEnd': 1640908800,\n",
       " 'heldPercentInstitutions': 0.88254,\n",
       " 'netIncomeToCommon': 2783000064,\n",
       " 'trailingEps': 4.19,\n",
       " 'lastDividendValue': 1,\n",
       " 'SandP52WeekChange': 0.0018931627,\n",
       " 'priceToBook': 4.848962,\n",
       " 'heldPercentInsiders': 0.00786,\n",
       " 'nextFiscalYearEnd': 1703980800,\n",
       " 'yield': None,\n",
       " 'mostRecentQuarter': 1640908800,\n",
       " 'shortRatio': 1.37,\n",
       " 'sharesShortPreviousMonthDate': 1647302400,\n",
       " 'floatShares': 659139524,\n",
       " 'beta': 2.784803,\n",
       " 'enterpriseValue': 43437281280,\n",
       " 'priceHint': 2,\n",
       " 'threeYearAverageReturn': None,\n",
       " 'lastSplitDate': 1100563200,\n",
       " 'lastSplitFactor': '2:1',\n",
       " 'legalType': None,\n",
       " 'lastDividendDate': 1646956800,\n",
       " 'morningStarOverallRating': None,\n",
       " 'earningsQuarterlyGrowth': None,\n",
       " 'priceToSalesTrailing12Months': 3.4106421,\n",
       " 'dateShortInterest': 1649894400,\n",
       " 'pegRatio': 0.4,\n",
       " 'ytdReturn': None,\n",
       " 'forwardPE': 8.425373,\n",
       " 'lastCapGain': None,\n",
       " 'shortPercentOfFloat': 0.026300002,\n",
       " 'sharesShortPriorMonth': 18059365,\n",
       " 'impliedSharesOutstanding': 0,\n",
       " 'category': None,\n",
       " 'fiveYearAverageReturn': None,\n",
       " 'previousClose': 64.28,\n",
       " 'regularMarketOpen': 65.48,\n",
       " 'twoHundredDayAverage': 44.15075,\n",
       " 'trailingAnnualDividendYield': 0.03064717,\n",
       " 'payoutRatio': 0.4702,\n",
       " 'volume24Hr': None,\n",
       " 'regularMarketDayHigh': 67.91,\n",
       " 'navPrice': None,\n",
       " 'averageDailyVolume10Day': 10806960,\n",
       " 'regularMarketPreviousClose': 64.28,\n",
       " 'fiftyDayAverage': 59.2172,\n",
       " 'trailingAnnualDividendRate': 1.97,\n",
       " 'open': 65.48,\n",
       " 'toCurrency': None,\n",
       " 'averageVolume10days': 10806960,\n",
       " 'expireDate': None,\n",
       " 'algorithm': None,\n",
       " 'dividendRate': 4,\n",
       " 'exDividendDate': 1646956800,\n",
       " 'circulatingSupply': None,\n",
       " 'startDate': None,\n",
       " 'regularMarketDayLow': 63.96,\n",
       " 'currency': 'USD',\n",
       " 'trailingPE': 16.167063,\n",
       " 'regularMarketVolume': 14667385,\n",
       " 'lastMarket': None,\n",
       " 'maxSupply': None,\n",
       " 'openInterest': None,\n",
       " 'marketCap': 44737392640,\n",
       " 'volumeAllCurrencies': None,\n",
       " 'strikePrice': None,\n",
       " 'averageVolume': 12765023,\n",
       " 'dayLow': 63.96,\n",
       " 'ask': 67.63,\n",
       " 'askSize': 900,\n",
       " 'volume': 14667385,\n",
       " 'fiftyTwoWeekHigh': 67.91,\n",
       " 'fromCurrency': None,\n",
       " 'fiveYearAvgDividendYield': 2.03,\n",
       " 'fiftyTwoWeekLow': 23.67,\n",
       " 'bid': 67.32,\n",
       " 'tradeable': False,\n",
       " 'dividendYield': 0.0622,\n",
       " 'bidSize': 1100,\n",
       " 'dayHigh': 67.91,\n",
       " 'regularMarketPrice': 67.74,\n",
       " 'preMarketPrice': 65.78,\n",
       " 'logo_url': 'https://logo.clearbit.com/devonenergy.com'}"
      ]
     },
     "execution_count": 4,
     "metadata": {},
     "output_type": "execute_result"
    }
   ],
   "source": [
    "Devon_info = Devon.info\n",
    "Devon_info"
   ]
  },
  {
   "cell_type": "code",
   "execution_count": 7,
   "id": "670f975b",
   "metadata": {},
   "outputs": [
    {
     "data": {
      "text/plain": [
       "'United States'"
      ]
     },
     "execution_count": 7,
     "metadata": {},
     "output_type": "execute_result"
    }
   ],
   "source": [
    "Devon_info['country']"
   ]
  },
  {
   "cell_type": "code",
   "execution_count": 8,
   "id": "1643bb23",
   "metadata": {},
   "outputs": [],
   "source": [
    "Devon_share_price_data = Devon.history(period=\"max\")"
   ]
  },
  {
   "cell_type": "code",
   "execution_count": 9,
   "id": "7c58ba9e",
   "metadata": {},
   "outputs": [
    {
     "data": {
      "text/html": [
       "<div>\n",
       "<style scoped>\n",
       "    .dataframe tbody tr th:only-of-type {\n",
       "        vertical-align: middle;\n",
       "    }\n",
       "\n",
       "    .dataframe tbody tr th {\n",
       "        vertical-align: top;\n",
       "    }\n",
       "\n",
       "    .dataframe thead th {\n",
       "        text-align: right;\n",
       "    }\n",
       "</style>\n",
       "<table border=\"1\" class=\"dataframe\">\n",
       "  <thead>\n",
       "    <tr style=\"text-align: right;\">\n",
       "      <th></th>\n",
       "      <th>Open</th>\n",
       "      <th>High</th>\n",
       "      <th>Low</th>\n",
       "      <th>Close</th>\n",
       "      <th>Volume</th>\n",
       "      <th>Dividends</th>\n",
       "      <th>Stock Splits</th>\n",
       "    </tr>\n",
       "    <tr>\n",
       "      <th>Date</th>\n",
       "      <th></th>\n",
       "      <th></th>\n",
       "      <th></th>\n",
       "      <th></th>\n",
       "      <th></th>\n",
       "      <th></th>\n",
       "      <th></th>\n",
       "    </tr>\n",
       "  </thead>\n",
       "  <tbody>\n",
       "    <tr>\n",
       "      <th>1985-07-22</th>\n",
       "      <td>0.0</td>\n",
       "      <td>3.906927</td>\n",
       "      <td>3.646466</td>\n",
       "      <td>3.906927</td>\n",
       "      <td>59400</td>\n",
       "      <td>0.0</td>\n",
       "      <td>0.0</td>\n",
       "    </tr>\n",
       "    <tr>\n",
       "      <th>1985-07-23</th>\n",
       "      <td>0.0</td>\n",
       "      <td>4.037158</td>\n",
       "      <td>3.863517</td>\n",
       "      <td>3.906927</td>\n",
       "      <td>20800</td>\n",
       "      <td>0.0</td>\n",
       "      <td>0.0</td>\n",
       "    </tr>\n",
       "    <tr>\n",
       "      <th>1985-07-24</th>\n",
       "      <td>0.0</td>\n",
       "      <td>3.863516</td>\n",
       "      <td>3.733285</td>\n",
       "      <td>3.820106</td>\n",
       "      <td>32600</td>\n",
       "      <td>0.0</td>\n",
       "      <td>0.0</td>\n",
       "    </tr>\n",
       "    <tr>\n",
       "      <th>1985-07-25</th>\n",
       "      <td>0.0</td>\n",
       "      <td>3.863515</td>\n",
       "      <td>3.820104</td>\n",
       "      <td>3.863515</td>\n",
       "      <td>16600</td>\n",
       "      <td>0.0</td>\n",
       "      <td>0.0</td>\n",
       "    </tr>\n",
       "    <tr>\n",
       "      <th>1985-07-26</th>\n",
       "      <td>0.0</td>\n",
       "      <td>3.863516</td>\n",
       "      <td>3.776695</td>\n",
       "      <td>3.820106</td>\n",
       "      <td>10400</td>\n",
       "      <td>0.0</td>\n",
       "      <td>0.0</td>\n",
       "    </tr>\n",
       "  </tbody>\n",
       "</table>\n",
       "</div>"
      ],
      "text/plain": [
       "            Open      High       Low     Close  Volume  Dividends  \\\n",
       "Date                                                                \n",
       "1985-07-22   0.0  3.906927  3.646466  3.906927   59400        0.0   \n",
       "1985-07-23   0.0  4.037158  3.863517  3.906927   20800        0.0   \n",
       "1985-07-24   0.0  3.863516  3.733285  3.820106   32600        0.0   \n",
       "1985-07-25   0.0  3.863515  3.820104  3.863515   16600        0.0   \n",
       "1985-07-26   0.0  3.863516  3.776695  3.820106   10400        0.0   \n",
       "\n",
       "            Stock Splits  \n",
       "Date                      \n",
       "1985-07-22           0.0  \n",
       "1985-07-23           0.0  \n",
       "1985-07-24           0.0  \n",
       "1985-07-25           0.0  \n",
       "1985-07-26           0.0  "
      ]
     },
     "execution_count": 9,
     "metadata": {},
     "output_type": "execute_result"
    }
   ],
   "source": [
    "Devon_share_price_data.head()"
   ]
  },
  {
   "cell_type": "code",
   "execution_count": 10,
   "id": "da4852c7",
   "metadata": {},
   "outputs": [],
   "source": [
    "Devon_share_price_data.reset_index(inplace=True)"
   ]
  },
  {
   "cell_type": "code",
   "execution_count": 11,
   "id": "a1397dd3",
   "metadata": {},
   "outputs": [
    {
     "data": {
      "text/plain": [
       "<AxesSubplot:xlabel='Date'>"
      ]
     },
     "execution_count": 11,
     "metadata": {},
     "output_type": "execute_result"
    },
    {
     "data": {
      "image/png": "[encoded data removed]",
      "text/plain": [
       "<Figure size 432x288 with 1 Axes>"
      ]
     },
     "metadata": {
      "needs_background": "light"
     },
     "output_type": "display_data"
    }
   ],
   "source": [
    "Devon_share_price_data.plot(x=\"Date\", y=\"Open\")"
   ]
  },
  {
   "cell_type": "code",
   "execution_count": 12,
   "id": "78bd8120",
   "metadata": {},
   "outputs": [
    {
     "data": {
      "text/plain": [
       "Date\n",
       "1993-06-09    0.015\n",
       "1993-09-09    0.015\n",
       "1993-12-09    0.015\n",
       "1994-03-09    0.015\n",
       "1994-06-09    0.015\n",
       "              ...  \n",
       "2021-03-12    0.300\n",
       "2021-06-11    0.340\n",
       "2021-09-10    0.490\n",
       "2021-12-09    0.840\n",
       "2022-03-11    1.000\n",
       "Name: Dividends, Length: 118, dtype: float64"
      ]
     },
     "execution_count": 12,
     "metadata": {},
     "output_type": "execute_result"
    }
   ],
   "source": [
    "Devon.dividends"
   ]
  },
  {
   "cell_type": "code",
   "execution_count": 13,
   "id": "d0645057",
   "metadata": {},
   "outputs": [
    {
     "data": {
      "text/plain": [
       "<AxesSubplot:xlabel='Date'>"
      ]
     },
     "execution_count": 13,
     "metadata": {},
     "output_type": "execute_result"
    },
    {
     "data": {
      "image/png": "[encoded data removed]",
      "text/plain": [
       "<Figure size 432x288 with 1 Axes>"
      ]
     },
     "metadata": {
      "needs_background": "light"
     },
     "output_type": "display_data"
    }
   ],
   "source": [
    "Devon.dividends.plot()"
   ]
  },
  {
   "cell_type": "code",
   "execution_count": null,
   "id": "c3bc4936",
   "metadata": {},
   "outputs": [],
   "source": [
    "url2= \"https://cf-courses-data.s3.us.cloud-object-storage.appdomain.cloud/IBMDeveloperSkillsNetwork-PY0220EN-SkillsNetwork/labs/project/stock.html\"\n",
    "html_data = requests.get(url2).text"
   ]
  },
  {
   "cell_type": "code",
   "execution_count": null,
   "id": "15300d62",
   "metadata": {},
   "outputs": [],
   "source": [
    "devon_revenue = pd.DataFrame(columns=[\"Date\", \"Revenue\"])\n",
    "\n",
    "gme_table = soup.find_all('table', attrs={'class': 'historical_data_table table'})\n",
    "\n",
    "for table in gme_table:\n",
    "    if table.find('th').getText().startswith(\"GameStop Quarterly Revenue\"):\n",
    "        for row in table.find_all(\"tr\"):\n",
    "            col = row.find_all(\"td\") \n",
    "            if len(col) == 2: \n",
    "                date = col[0].text\n",
    "                revenue = col[1].text.replace('$', '').replace(',','')\n",
    "                gme_revenue = gme_revenue.append({\"Date\": date, \"Revenue\": revenue}, ignore_index=True)\n",
    "    \n",
    "gme_revenue.head()"
   ]
  }
 ],
 "metadata": {
  "kernelspec": {
   "display_name": "Python 3 (ipykernel)",
   "language": "python",
   "name": "python3"
  },
  "language_info": {
   "codemirror_mode": {
    "name": "ipython",
    "version": 3
   },
   "file_extension": ".py",
   "mimetype": "text/x-python",
   "name": "python",
   "nbconvert_exporter": "python",
   "pygments_lexer": "ipython3",
   "version": "3.8.12"
  }
 },
 "nbformat": 4,
 "nbformat_minor": 5
}
