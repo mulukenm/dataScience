{
 "cells": [
  {
   "cell_type": "code",
   "execution_count": 1,
   "id": "309c8ae5",
   "metadata": {},
   "outputs": [],
   "source": [
    "## Lazy Predict --- helps to understand which models works better without any parameter tuning\n",
    "from lazypredict.Supervised import LazyClassifier \n",
    "from sklearn.datasets import load_breast_cancer\n",
    "from sklearn.model_selection import train_test_split"
   ]
  },
  {
   "cell_type": "code",
   "execution_count": 2,
   "id": "cb52284c",
   "metadata": {},
   "outputs": [],
   "source": [
    "data = load_breast_cancer()\n",
    "X = data.data\n",
    "y = data.target"
   ]
  },
  {
   "cell_type": "code",
   "execution_count": 3,
   "id": "d3a4e2a3",
   "metadata": {},
   "outputs": [],
   "source": [
    "X_train, X_test, y_train, y_test = train_test_split(X, y, test_size=.5, random_state=123)"
   ]
  },
  {
   "cell_type": "code",
   "execution_count": 12,
   "id": "919c3c02",
   "metadata": {},
   "outputs": [
    {
     "name": "stdout",
     "output_type": "stream",
     "text": [
      "[[9.676e+00 1.314e+01 6.412e+01 ... 1.075e-01 2.848e-01 1.364e-01]\n",
      " [1.354e+01 1.436e+01 8.746e+01 ... 1.288e-01 2.977e-01 7.259e-02]\n",
      " [1.757e+01 1.505e+01 1.150e+02 ... 1.456e-01 2.756e-01 7.919e-02]\n",
      " ...\n",
      " [1.205e+01 2.272e+01 7.875e+01 ... 1.092e-01 2.191e-01 9.349e-02]\n",
      " [2.044e+01 2.178e+01 1.338e+02 ... 1.765e-01 2.609e-01 6.735e-02]\n",
      " [1.174e+01 1.469e+01 7.631e+01 ... 1.056e-01 2.604e-01 9.879e-02]]\n"
     ]
    }
   ],
   "source": [
    "import numpy as np\n",
    "np.set_printoptions(precision=3)\n",
    "print(X_train)"
   ]
  },
  {
   "cell_type": "code",
   "execution_count": 9,
   "id": "75ef1130",
   "metadata": {},
   "outputs": [
    {
     "name": "stderr",
     "output_type": "stream",
     "text": [
      "100%|██████████████████████████████████████████████████████████████████████████████████| 29/29 [00:00<00:00, 29.29it/s]\n"
     ]
    }
   ],
   "source": [
    "clf = LazyClassifier(verbose=0, ignore_warnings=True, custom_metric=None)\n",
    "models, predictions = clf.fit(X_train, X_test, y_train, y_test)"
   ]
  },
  {
   "cell_type": "code",
   "execution_count": 10,
   "id": "8f41329a",
   "metadata": {},
   "outputs": [
    {
     "name": "stdout",
     "output_type": "stream",
     "text": [
      "                               Accuracy  Balanced Accuracy  ROC AUC  F1 Score  \\\n",
      "Model                                                                           \n",
      "LinearSVC                          0.99               0.99     0.99      0.99   \n",
      "Perceptron                         0.99               0.98     0.98      0.99   \n",
      "LogisticRegression                 0.99               0.98     0.98      0.99   \n",
      "SVC                                0.98               0.98     0.98      0.98   \n",
      "XGBClassifier                      0.98               0.98     0.98      0.98   \n",
      "LabelPropagation                   0.98               0.97     0.97      0.98   \n",
      "LabelSpreading                     0.98               0.97     0.97      0.98   \n",
      "BaggingClassifier                  0.97               0.97     0.97      0.97   \n",
      "PassiveAggressiveClassifier        0.98               0.97     0.97      0.98   \n",
      "SGDClassifier                      0.98               0.97     0.97      0.98   \n",
      "RandomForestClassifier             0.97               0.97     0.97      0.97   \n",
      "CalibratedClassifierCV             0.98               0.97     0.97      0.98   \n",
      "LGBMClassifier                     0.97               0.97     0.97      0.97   \n",
      "QuadraticDiscriminantAnalysis      0.96               0.97     0.97      0.97   \n",
      "ExtraTreesClassifier               0.97               0.96     0.96      0.97   \n",
      "RidgeClassifierCV                  0.97               0.96     0.96      0.97   \n",
      "RidgeClassifier                    0.97               0.96     0.96      0.97   \n",
      "AdaBoostClassifier                 0.96               0.96     0.96      0.96   \n",
      "KNeighborsClassifier               0.96               0.96     0.96      0.96   \n",
      "BernoulliNB                        0.95               0.95     0.95      0.95   \n",
      "LinearDiscriminantAnalysis         0.96               0.95     0.95      0.96   \n",
      "GaussianNB                         0.95               0.95     0.95      0.95   \n",
      "NuSVC                              0.95               0.94     0.94      0.95   \n",
      "ExtraTreeClassifier                0.94               0.93     0.93      0.94   \n",
      "NearestCentroid                    0.95               0.93     0.93      0.95   \n",
      "DecisionTreeClassifier             0.93               0.93     0.93      0.93   \n",
      "DummyClassifier                    0.64               0.50     0.50      0.50   \n",
      "\n",
      "                               Time Taken  \n",
      "Model                                      \n",
      "LinearSVC                            0.00  \n",
      "Perceptron                           0.01  \n",
      "LogisticRegression                   0.02  \n",
      "SVC                                  0.01  \n",
      "XGBClassifier                        0.05  \n",
      "LabelPropagation                     0.03  \n",
      "LabelSpreading                       0.02  \n",
      "BaggingClassifier                    0.04  \n",
      "PassiveAggressiveClassifier          0.02  \n",
      "SGDClassifier                        0.01  \n",
      "RandomForestClassifier               0.17  \n",
      "CalibratedClassifierCV               0.03  \n",
      "LGBMClassifier                       0.07  \n",
      "QuadraticDiscriminantAnalysis        0.01  \n",
      "ExtraTreesClassifier                 0.12  \n",
      "RidgeClassifierCV                    0.01  \n",
      "RidgeClassifier                      0.01  \n",
      "AdaBoostClassifier                   0.13  \n",
      "KNeighborsClassifier                 0.12  \n",
      "BernoulliNB                          0.00  \n",
      "LinearDiscriminantAnalysis           0.01  \n",
      "GaussianNB                           0.02  \n",
      "NuSVC                                0.02  \n",
      "ExtraTreeClassifier                  0.01  \n",
      "NearestCentroid                      0.02  \n",
      "DecisionTreeClassifier               0.02  \n",
      "DummyClassifier                      0.01  \n"
     ]
    }
   ],
   "source": [
    "print(models)"
   ]
  },
  {
   "cell_type": "code",
   "execution_count": null,
   "id": "9a177653",
   "metadata": {},
   "outputs": [],
   "source": []
  }
 ],
 "metadata": {
  "kernelspec": {
   "display_name": "Python 3 (ipykernel)",
   "language": "python",
   "name": "python3"
  },
  "language_info": {
   "codemirror_mode": {
    "name": "ipython",
    "version": 3
   },
   "file_extension": ".py",
   "mimetype": "text/x-python",
   "name": "python",
   "nbconvert_exporter": "python",
   "pygments_lexer": "ipython3",
   "version": "3.8.16"
  }
 },
 "nbformat": 4,
 "nbformat_minor": 5
}
