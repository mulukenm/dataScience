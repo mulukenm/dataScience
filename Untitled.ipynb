{
 "cells": [
  {
   "cell_type": "code",
   "execution_count": 2,
   "id": "b12c1eac",
   "metadata": {},
   "outputs": [],
   "source": [
    "from lazypredict.Supervised import LazyClassifier \n",
    "from sklearn.datasets import load_breast_cancer\n",
    "from sklearn.model_selection import train_test_split"
   ]
  },
  {
   "cell_type": "code",
   "execution_count": 3,
   "id": "2abc18e5",
   "metadata": {},
   "outputs": [],
   "source": [
    "data = load_breast_cancer()\n",
    "X = data.data\n",
    "y = data.target\n"
   ]
  },
  {
   "cell_type": "code",
   "execution_count": 4,
   "id": "bd42a7f5",
   "metadata": {},
   "outputs": [],
   "source": [
    "X_train, X_test, y_train, y_test = train_test_split(X, y, test_size=.5, random_state=123)\n"
   ]
  },
  {
   "cell_type": "code",
   "execution_count": 5,
   "id": "0a2d0fe2",
   "metadata": {},
   "outputs": [
    {
     "name": "stderr",
     "output_type": "stream",
     "text": [
      " 34%|████████████████████████████▎                                                     | 10/29 [00:00<00:01, 17.01it/s]C:\\Users\\mmuch\\anaconda3\\lib\\site-packages\\sklearn\\semi_supervised\\_label_propagation.py:222: RuntimeWarning: invalid value encountered in true_divide\n",
      "  probabilities /= normalizer\n",
      "C:\\Users\\mmuch\\anaconda3\\lib\\site-packages\\sklearn\\semi_supervised\\_label_propagation.py:222: RuntimeWarning: invalid value encountered in true_divide\n",
      "  probabilities /= normalizer\n",
      "100%|██████████████████████████████████████████████████████████████████████████████████| 29/29 [00:01<00:00, 15.25it/s]\n"
     ]
    }
   ],
   "source": [
    "clf = LazyClassifier(verbose=0, ignore_warnings=True, custom_metric=None)\n",
    "models, predictions = clf.fit(X_train, X_test, y_train, y_test)"
   ]
  },
  {
   "cell_type": "code",
   "execution_count": 6,
   "id": "22b51ce3",
   "metadata": {},
   "outputs": [
    {
     "name": "stdout",
     "output_type": "stream",
     "text": [
      "                               Accuracy  Balanced Accuracy  ROC AUC  F1 Score  Time Taken\n",
      "Model                                                                                    \n",
      "LinearSVC                          0.99               0.99     0.99      0.99        0.01\n",
      "Perceptron                         0.99               0.98     0.98      0.99        0.02\n",
      "LogisticRegression                 0.99               0.98     0.98      0.99        0.04\n",
      "SVC                                0.98               0.98     0.98      0.98        0.02\n",
      "XGBClassifier                      0.98               0.98     0.98      0.98        0.05\n",
      "LabelPropagation                   0.98               0.97     0.97      0.98        0.04\n",
      "LabelSpreading                     0.98               0.97     0.97      0.98        0.02\n",
      "BaggingClassifier                  0.97               0.97     0.97      0.97        0.04\n",
      "PassiveAggressiveClassifier        0.98               0.97     0.97      0.98        0.00\n",
      "SGDClassifier                      0.98               0.97     0.97      0.98        0.01\n",
      "RandomForestClassifier             0.97               0.97     0.97      0.97        0.19\n",
      "CalibratedClassifierCV             0.98               0.97     0.97      0.98        0.08\n",
      "LGBMClassifier                     0.97               0.97     0.97      0.97        0.10\n",
      "QuadraticDiscriminantAnalysis      0.96               0.97     0.97      0.97        0.02\n",
      "ExtraTreesClassifier               0.97               0.96     0.96      0.97        0.11\n",
      "RidgeClassifierCV                  0.97               0.96     0.96      0.97        0.06\n",
      "RidgeClassifier                    0.97               0.96     0.96      0.97        0.07\n",
      "AdaBoostClassifier                 0.96               0.96     0.96      0.96        0.29\n",
      "KNeighborsClassifier               0.96               0.96     0.96      0.96        0.15\n",
      "BernoulliNB                        0.95               0.95     0.95      0.95        0.17\n",
      "LinearDiscriminantAnalysis         0.96               0.95     0.95      0.96        0.32\n",
      "GaussianNB                         0.95               0.95     0.95      0.95        0.02\n",
      "NuSVC                              0.95               0.94     0.94      0.95        0.02\n",
      "ExtraTreeClassifier                0.94               0.93     0.93      0.94        0.01\n",
      "NearestCentroid                    0.95               0.93     0.93      0.95        0.01\n",
      "DecisionTreeClassifier             0.93               0.93     0.93      0.93        0.01\n",
      "DummyClassifier                    0.64               0.50     0.50      0.50        0.01\n"
     ]
    }
   ],
   "source": [
    "print(models)"
   ]
  },
  {
   "cell_type": "code",
   "execution_count": null,
   "id": "875c2e89",
   "metadata": {},
   "outputs": [],
   "source": []
  }
 ],
 "metadata": {
  "kernelspec": {
   "display_name": "Python 3 (ipykernel)",
   "language": "python",
   "name": "python3"
  },
  "language_info": {
   "codemirror_mode": {
    "name": "ipython",
    "version": 3
   },
   "file_extension": ".py",
   "mimetype": "text/x-python",
   "name": "python",
   "nbconvert_exporter": "python",
   "pygments_lexer": "ipython3",
   "version": "3.8.13"
  }
 },
 "nbformat": 4,
 "nbformat_minor": 5
}
