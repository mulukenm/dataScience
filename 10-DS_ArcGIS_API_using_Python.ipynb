{
 "cells": [
  {
   "cell_type": "code",
   "execution_count": 1,
   "id": "c4baa0d1",
   "metadata": {},
   "outputs": [
    {
     "ename": "ModuleNotFoundError",
     "evalue": "No module named 'arcgis'",
     "output_type": "error",
     "traceback": [
      "\u001b[1;31m---------------------------------------------------------------------------\u001b[0m",
      "\u001b[1;31mModuleNotFoundError\u001b[0m                       Traceback (most recent call last)",
      "Input \u001b[1;32mIn [1]\u001b[0m, in \u001b[0;36m<cell line: 1>\u001b[1;34m()\u001b[0m\n\u001b[1;32m----> 1\u001b[0m \u001b[38;5;28;01mimport\u001b[39;00m \u001b[38;5;21;01marcgis\u001b[39;00m\n\u001b[0;32m      2\u001b[0m \u001b[38;5;28;01mfrom\u001b[39;00m \u001b[38;5;21;01marcgis\u001b[39;00m\u001b[38;5;21;01m.\u001b[39;00m\u001b[38;5;21;01mgis\u001b[39;00m \u001b[38;5;28;01mimport\u001b[39;00m GIS\n\u001b[0;32m      3\u001b[0m \u001b[38;5;28;01mfrom\u001b[39;00m \u001b[38;5;21;01marcgis\u001b[39;00m\u001b[38;5;21;01m.\u001b[39;00m\u001b[38;5;21;01mfeatures\u001b[39;00m \u001b[38;5;28;01mimport\u001b[39;00m FeatureLayer\n",
      "\u001b[1;31mModuleNotFoundError\u001b[0m: No module named 'arcgis'"
     ]
    }
   ],
   "source": [
    "import arcgis\n",
    "from arcgis.gis import GIS\n",
    "from arcgis.features import FeatureLayer\n",
    "from arcgis.features import FeatureLayerCollection"
   ]
  },
  {
   "cell_type": "code",
   "execution_count": 2,
   "id": "a9c80bf1",
   "metadata": {},
   "outputs": [
    {
     "ename": "NameError",
     "evalue": "name 'GIS' is not defined",
     "output_type": "error",
     "traceback": [
      "\u001b[1;31m---------------------------------------------------------------------------\u001b[0m",
      "\u001b[1;31mNameError\u001b[0m                                 Traceback (most recent call last)",
      "Input \u001b[1;32mIn [2]\u001b[0m, in \u001b[0;36m<cell line: 1>\u001b[1;34m()\u001b[0m\n\u001b[1;32m----> 1\u001b[0m help(\u001b[43mGIS\u001b[49m)\n",
      "\u001b[1;31mNameError\u001b[0m: name 'GIS' is not defined"
     ]
    }
   ],
   "source": [
    "help(GIS)"
   ]
  },
  {
   "cell_type": "code",
   "execution_count": 3,
   "id": "0b3c84d9",
   "metadata": {},
   "outputs": [],
   "source": [
    "gis = GIS(\"pro\")"
   ]
  },
  {
   "cell_type": "code",
   "execution_count": 4,
   "id": "46fca2f0",
   "metadata": {},
   "outputs": [
    {
     "data": {
      "text/html": [
       "<div class=\"9item_container\" style=\"height: auto; overflow: hidden; border: 1px solid #cfcfcf; border-radius: 2px; background: #f6fafa; line-height: 1.21429em; padding: 10px;\">\n",
       "                    <div class=\"item_left\" style=\"width: 210px; float: left;\">\n",
       "                       <a href='https://muluken.maps.arcgis.com//home/user.html?user=mulukenmuche' target='_blank'>\n",
       "                        <img src='https://muluken.maps.arcgis.com//home/js/arcgisonline/css/images/no-user-thumb.jpg' class=\"itemThumbnail\">\n",
       "                       </a>\n",
       "                    </div>\n",
       "\n",
       "                    <div class=\"item_right\" style=\"float: none; width: auto; overflow: hidden;\">\n",
       "                        <a href='https://muluken.maps.arcgis.com//home/user.html?user=mulukenmuche' target='_blank'><b>Muluken Muche</b>\n",
       "                        </a>\n",
       "                        <br/><br/><b>Bio</b>: None\n",
       "                        <br/><b>First Name</b>: Muluken\n",
       "                        <br/><b>Last Name</b>: Muche\n",
       "                        <br/><b>Username</b>: mulukenmuche\n",
       "                        <br/><b>Joined</b>: June 08, 2022\n",
       "\n",
       "                    </div>\n",
       "                </div>\n",
       "                "
      ],
      "text/plain": [
       "<User username:mulukenmuche>"
      ]
     },
     "execution_count": 4,
     "metadata": {},
     "output_type": "execute_result"
    }
   ],
   "source": [
    "user = gis.users.get('mulukenmuche')\n",
    "user"
   ]
  },
  {
   "cell_type": "code",
   "execution_count": 5,
   "id": "899efce1",
   "metadata": {},
   "outputs": [
    {
     "data": {
      "text/plain": [
       "'Muluken'"
      ]
     },
     "execution_count": 5,
     "metadata": {},
     "output_type": "execute_result"
    }
   ],
   "source": [
    "user['firstName']"
   ]
  },
  {
   "cell_type": "code",
   "execution_count": 6,
   "id": "e70e6d84",
   "metadata": {},
   "outputs": [
    {
     "data": {
      "text/plain": [
       "'Muche'"
      ]
     },
     "execution_count": 6,
     "metadata": {},
     "output_type": "execute_result"
    }
   ],
   "source": [
    "user.lastName"
   ]
  },
  {
   "cell_type": "code",
   "execution_count": 7,
   "id": "24dc1b3e",
   "metadata": {},
   "outputs": [
    {
     "data": {
      "text/html": [
       "GIS @ <a href=\"https://muluken.maps.arcgis.com/\">https://muluken.maps.arcgis.com/</a>"
      ],
      "text/plain": [
       "GIS @ https://muluken.maps.arcgis.com/ version:10.2"
      ]
     },
     "execution_count": 7,
     "metadata": {},
     "output_type": "execute_result"
    }
   ],
   "source": [
    "gis"
   ]
  },
  {
   "cell_type": "code",
   "execution_count": 8,
   "id": "30220334",
   "metadata": {},
   "outputs": [],
   "source": [
    "gis = GIS(\"http://arcgis.com\")"
   ]
  },
  {
   "cell_type": "code",
   "execution_count": 9,
   "id": "e64b3e23",
   "metadata": {},
   "outputs": [],
   "source": [
    "search_results = gis.content.search(\"title: S&E Graduates\")"
   ]
  },
  {
   "cell_type": "code",
   "execution_count": 10,
   "id": "6255c8d5",
   "metadata": {},
   "outputs": [
    {
     "data": {
      "text/plain": [
       "[<Item title:\"Atlanta Education System Map\" type:Web Map owner:CP4510Students_gtmaps>,\n",
       " <Item title:\"Where are They Now?  Kappa Sigma Edition  \" type:StoryMap owner:dm3572_ship>,\n",
       " <Item title:\"City of Eustis Streetlight Project Created by Alicia C. Hester, MPA Candidate December 2015\" type:Web Map owner:aliciah2013>,\n",
       " <Item title:\"Visual Representation of Elementary Schools in Toronto with a Close Proximity to Safe Bike Lanes\" type:Web Map owner:wunicho3_utoronto>,\n",
       " <Item title:\"Employment Status of Graduates in Malaysia\" type:Web Map owner:Amirulmaaruf19>,\n",
       " <Item title:\"Educational Attainment by NTA: High School Graduate Percent\" type:Web Map owner:harmonep>,\n",
       " <Item title:\"School Enrollment (by County) 2017\" type:Feature Layer Collection owner:opendata@arc>,\n",
       " <Item title:\"Writing Graduate School Application Essays\" type:StoryMap owner:davidrayburton>,\n",
       " <Item title:\"Can You Finish Your High School Education?\" type:StoryMap owner:cxl1495_UMiami>,\n",
       " <Item title:\"Example Story\" type:StoryMap owner:jordanami>]"
      ]
     },
     "execution_count": 10,
     "metadata": {},
     "output_type": "execute_result"
    }
   ],
   "source": [
    "search_results"
   ]
  },
  {
   "cell_type": "code",
   "execution_count": 13,
   "id": "de41c8bd",
   "metadata": {},
   "outputs": [
    {
     "data": {
      "text/html": [
       "<div class=\"item_container\" style=\"height: auto; overflow: hidden; border: 1px solid #cfcfcf; border-radius: 2px; background: #f6fafa; line-height: 1.21429em; padding: 10px;\">\n",
       "                    <div class=\"item_left\" style=\"width: 210px; float: left;\">\n",
       "                       <a href='http://arcgis.com/home/item.html?id=77c81219f4994af9a2ad619e43f83a2f' target='_blank'>\n",
       "                        <img src='http://arcgis.com/sharing/rest//content/items/77c81219f4994af9a2ad619e43f83a2f/info/thumbnail/ago_downloaded.jpg' class=\"itemThumbnail\">\n",
       "                       </a>\n",
       "                    </div>\n",
       "\n",
       "                    <div class=\"item_right\"     style=\"float: none; width: auto; overflow: hidden;\">\n",
       "                        <a href='http://arcgis.com/home/item.html?id=77c81219f4994af9a2ad619e43f83a2f' target='_blank'><b>Writing Graduate School Application Essays</b>\n",
       "                        </a>\n",
       "                        <br/>You might be interested in continuing your education in graduate school.<img src='http://arcgis.com/home/js/jsapi/esri/css/images/item_type_icons/layers16.png' style=\"vertical-align:middle;\">StoryMap by davidrayburton\n",
       "                        <br/>Last Modified: November 17, 2019\n",
       "                        <br/>0 comments, 545 views\n",
       "                    </div>\n",
       "                </div>\n",
       "                "
      ],
      "text/plain": [
       "<Item title:\"Writing Graduate School Application Essays\" type:StoryMap owner:davidrayburton>"
      ]
     },
     "execution_count": 13,
     "metadata": {},
     "output_type": "execute_result"
    }
   ],
   "source": [
    "search_results[7]"
   ]
  },
  {
   "cell_type": "code",
   "execution_count": 19,
   "id": "a0100469",
   "metadata": {},
   "outputs": [
    {
     "name": "stdout",
     "output_type": "stream",
     "text": [
      "OBJECTID\n",
      "GEOID\n",
      "PLNG_REGIO\n",
      "PlanningRegion\n",
      "LogRecNo\n",
      "SumLevel\n",
      "NAME\n",
      "Pop3P_e\n",
      "Pop3P_m\n",
      "InSchool_e\n",
      "InSchool_m\n",
      "InPreSchool_e\n",
      "InPreSchool_m\n",
      "pInPreSchool_e\n",
      "pInPreSchool_m\n",
      "InKindergarten_e\n",
      "InKindergarten_m\n",
      "pInKindergarten_e\n",
      "pInKindergarten_m\n",
      "InElementary_e\n",
      "InElementary_m\n",
      "pInElementary_e\n",
      "pInElementary_m\n",
      "InHS_e\n",
      "InHS_m\n",
      "pInHS_e\n",
      "pInHS_m\n",
      "InCollegeGradSch_e\n",
      "InCollegeGradSch_m\n",
      "pInCollegeGradSch_e\n",
      "pInCollegeGradSch_m\n",
      "created_user\n",
      "created_date\n",
      "last_edited_user\n",
      "last_edited_date\n",
      "Shape__Area\n",
      "Shape__Length\n"
     ]
    }
   ],
   "source": [
    "feature_layer_collection = search_results[6]\n",
    "feature_layer = feature_layer_collection.layers[0]\n",
    "for i in feature_layer.properties.fields:\n",
    "    print(i['name'])"
   ]
  },
  {
   "cell_type": "code",
   "execution_count": 18,
   "id": "e104072e",
   "metadata": {},
   "outputs": [],
   "source": [
    "incidents_feature_layer_collection = search_results[6]"
   ]
  },
  {
   "cell_type": "code",
   "execution_count": null,
   "id": "addcde8e",
   "metadata": {},
   "outputs": [],
   "source": [
    "incidents_feature_layer_collection "
   ]
  }
 ],
 "metadata": {
  "kernelspec": {
   "display_name": "Python 3 (ipykernel)",
   "language": "python",
   "name": "python3"
  },
  "language_info": {
   "codemirror_mode": {
    "name": "ipython",
    "version": 3
   },
   "file_extension": ".py",
   "mimetype": "text/x-python",
   "name": "python",
   "nbconvert_exporter": "python",
   "pygments_lexer": "ipython3",
   "version": "3.8.13"
  }
 },
 "nbformat": 4,
 "nbformat_minor": 5
}
