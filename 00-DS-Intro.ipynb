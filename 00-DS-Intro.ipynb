{
 "cells": [
  {
   "cell_type": "markdown",
   "metadata": {},
   "source": [
    "# Data Science Introduction\n",
    "\n",
    "This notebook is an introduction to data science with Python \n",
    "###  What is Data Science?\n",
    "Data science is the practice of using data to try to understand and solve real-world problems. data science requires programming and databases related skills, math and statistics knowledge, and substantive expertise in a domain of analysis at hand. \n",
    "The following is a data scientist roadmap (Source: Data Camp):\n",
    "1. Get good at stats, math, and machine learning: \n",
    "   * Math especially linear algebra and calculus\n",
    "   * Probability and statistics such as p-value, t-test, F-test, estimates, central tendency....etc \n",
    "   * Machine learning algorithms -- how they are organized\n",
    "2. Learn to code: Python, R ...\n",
    "3. Understand databases: SQL, ORACLE, MySQL ....\n",
    "4. master data munging, visualization, and reporting\n",
    "4. Level up with big data: Apache Spark, Map reduce, Hadoop ....\n"
   ]
  },
  {
   "cell_type": "code",
   "execution_count": null,
   "metadata": {},
   "outputs": [],
   "source": []
  },
  {
   "cell_type": "code",
   "execution_count": null,
   "metadata": {},
   "outputs": [],
   "source": []
  },
  {
   "cell_type": "code",
   "execution_count": null,
   "metadata": {},
   "outputs": [],
   "source": []
  },
  {
   "cell_type": "code",
   "execution_count": null,
   "metadata": {},
   "outputs": [],
   "source": []
  },
  {
   "cell_type": "code",
   "execution_count": null,
   "metadata": {},
   "outputs": [],
   "source": []
  }
 ],
 "metadata": {
  "hide_input": false,
  "kernelspec": {
   "display_name": "Python 3",
   "language": "python",
   "name": "python3"
  },
  "language_info": {
   "codemirror_mode": {
    "name": "ipython",
    "version": 3
   },
   "file_extension": ".py",
   "mimetype": "text/x-python",
   "name": "python",
   "nbconvert_exporter": "python",
   "pygments_lexer": "ipython3",
   "version": "3.8.5"
  },
  "latex_envs": {
   "LaTeX_envs_menu_present": true,
   "autoclose": false,
   "autocomplete": true,
   "bibliofile": "biblio.bib",
   "cite_by": "apalike",
   "current_citInitial": 1,
   "eqLabelWithNumbers": true,
   "eqNumInitial": 1,
   "hotkeys": {
    "equation": "Ctrl-E",
    "itemize": "Ctrl-I"
   },
   "labels_anchors": false,
   "latex_user_defs": false,
   "report_style_numbering": false,
   "user_envs_cfg": false
  }
 },
 "nbformat": 4,
 "nbformat_minor": 4
}
